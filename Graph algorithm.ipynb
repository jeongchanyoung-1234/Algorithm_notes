{
 "cells": [
  {
   "cell_type": "markdown",
   "metadata": {},
   "source": [
    "# Graph algorithm"
   ]
  },
  {
   "cell_type": "markdown",
   "metadata": {},
   "source": [
    "## 1. 서로소 집합(disjoint sets) 계산 알고리즘 (Union-find algorithm) -> 동일 집합에 속하는지 확인\n",
    "- union 연산을 확인하여, 서로 연결된 두 노드 A, B를 확인한다.\n",
    " 1) A와 B의 루트 노드 A', B'를 각각 찾는다\n",
    " 2) A'를 B'의 부모 노드로 설정한다(B'가 A'를 가리키도록 한다.)\n",
    "- 모든 union 연산을 처리할 때까지 1번 과정을 반복한다.\n",
    "- 루트를 찾기 위해서는 재귀적으로 부모를 거슬러 올라가야 한다."
   ]
  },
  {
   "cell_type": "markdown",
   "metadata": {},
   "source": [
    "### 기본 구현"
   ]
  },
  {
   "cell_type": "code",
   "execution_count": 18,
   "metadata": {},
   "outputs": [
    {
     "name": "stdout",
     "output_type": "stream",
     "text": [
      "각 원소가 속한 집합: 1 1 1 1 5 5 \n",
      "부모 테이블: 1 1 2 1 5 5 "
     ]
    }
   ],
   "source": [
    "input1 = '''6 4\n",
    "1 4\n",
    "2 3\n",
    "2 4\n",
    "5 6'''\n",
    "\n",
    "def find_parent(parent, x):\n",
    "    if parent[x] != x:\n",
    "        return find_parent(parent, parent[x])\n",
    "    return x\n",
    "\n",
    "def union_parent(parent, a, b):\n",
    "    a = find_parent(parent, a)\n",
    "    b = find_parent(parent, b)\n",
    "    if a < b:\n",
    "        parent[b] = a\n",
    "    else:\n",
    "        parent[a] = b\n",
    "        \n",
    "v, e = list(map(int, input1.split('\\n')[0].split()))\n",
    "array = [tuple(map(int, row.split())) for row in input1.split('\\n')[1:]]\n",
    "parent = [0] * (v + 1)\n",
    "\n",
    "for i in range(1, v + 1):\n",
    "    parent[i] = i\n",
    "    \n",
    "for i in range(e):\n",
    "    a, b = array[i]\n",
    "    union_parent(parent, a, b)\n",
    "    \n",
    "print('각 원소가 속한 집합: ', end='')\n",
    "for i in range(1, v + 1):\n",
    "    print(find_parent(parent, i), end=' ')\n",
    "    \n",
    "print()\n",
    "\n",
    "print('부모 테이블: ', end='')\n",
    "for i in range(1, v + 1):\n",
    "    print(parent[i], end=' ')"
   ]
  },
  {
   "cell_type": "markdown",
   "metadata": {},
   "source": [
    "### 경로 압축(Path compression)"
   ]
  },
  {
   "cell_type": "code",
   "execution_count": 19,
   "metadata": {},
   "outputs": [
    {
     "name": "stdout",
     "output_type": "stream",
     "text": [
      "각 원소가 속한 집합: 1 1 1 1 5 5 \n",
      "부모 테이블: 1 1 1 1 5 5 "
     ]
    }
   ],
   "source": [
    "# ======================================================\n",
    "def find_parent(parent, x):\n",
    "    if parent[x] != x:\n",
    "        parent[x] = find_parent(parent, parent[x])\n",
    "    return parent[x]\n",
    "# ======================================================\n",
    "\n",
    "def union_parent(parent, a, b):\n",
    "    a = find_parent(parent, a)\n",
    "    b = find_parent(parent, b)\n",
    "    if a < b:\n",
    "        parent[b] = a\n",
    "    else:\n",
    "        parent[a] = b\n",
    "        \n",
    "v, e = list(map(int, input1.split('\\n')[0].split()))\n",
    "array = [tuple(map(int, row.split())) for row in input1.split('\\n')[1:]]\n",
    "parent = [0] * (v + 1)\n",
    "\n",
    "for i in range(1, v + 1):\n",
    "    parent[i] = i\n",
    "\n",
    "for i in range(e):\n",
    "    a,b = array[i]\n",
    "    union_parent(parent, a, b)\n",
    "    \n",
    "print('각 원소가 속한 집합: ', end='')\n",
    "for i in range(1, v + 1):\n",
    "    print(find_parent(parent, i), end=' ')\n",
    "print()\n",
    "\n",
    "print('부모 테이블: ', end='')\n",
    "for i in range(1, v + 1):\n",
    "    print(parent[i], end=' ')"
   ]
  },
  {
   "cell_type": "markdown",
   "metadata": {},
   "source": [
    "### 서로소 집합을 이용한 무향 그래프의 사이클 판별"
   ]
  },
  {
   "cell_type": "code",
   "execution_count": 23,
   "metadata": {},
   "outputs": [],
   "source": [
    "input1 = '''3 3\n",
    "1 2\n",
    "1 3\n",
    "2 3'''"
   ]
  },
  {
   "cell_type": "code",
   "execution_count": 32,
   "metadata": {},
   "outputs": [
    {
     "name": "stdout",
     "output_type": "stream",
     "text": [
      "사이클 여부 : 참\n",
      "부모 테이블 : [0, 1, 1, 1]\n"
     ]
    }
   ],
   "source": [
    "def find_parent(parent, x):\n",
    "    # 경로 압축을 '꼭' 사용해야 함\n",
    "    if parent[x] != x:\n",
    "        parent[x] = find_parent(parent, parent[x])\n",
    "    return parent[x]\n",
    "\n",
    "def union_parent(parent, a, b):\n",
    "    a = find_parent(parent, a)\n",
    "    b = find_parent(parent, b)\n",
    "    if a < b:\n",
    "        parent[b] = a\n",
    "    else:\n",
    "        parent[a] = b\n",
    "\n",
    "v, e = list(map(int, input1.split('\\n')[0].split()))\n",
    "array = [tuple(map(int, row.split())) for row in input1.split('\\n')[1:]]\n",
    "parent = [0] * (v + 1)\n",
    "\n",
    "for i in range(v + 1):\n",
    "    parent[i] = i\n",
    "    \n",
    "cycle = False # 사이클 발생 여부\n",
    "\n",
    "for i in range(e):\n",
    "    a, b = array[i]\n",
    "    if find_parent(parent, a) == find_parent(parent, b):\n",
    "        cycle = True\n",
    "        break\n",
    "    else:\n",
    "        union_parent(parent, a, b)\n",
    "        \n",
    "print('사이클 여부 :', '참' if cycle else '거짓')\n",
    "print('부모 테이블 :', parent)"
   ]
  },
  {
   "cell_type": "markdown",
   "metadata": {},
   "source": [
    "## 2. 신장 트리(Spanning Tree)\n",
    "모든 노드 포함, 사이클 X"
   ]
  },
  {
   "cell_type": "markdown",
   "metadata": {},
   "source": [
    "### 크루스칼 알고리즘(Kruskal Algorithm) : 최소 신장 트리 알고리즘 -> O(ElogE)\n",
    "모든 간선에 대해 정렬 수행 -> 거리가 짧은 간선부터 집합에 포함(단 사이클이 발생하지 않을 때)"
   ]
  },
  {
   "cell_type": "code",
   "execution_count": 67,
   "metadata": {},
   "outputs": [],
   "source": [
    "input1 = '''7 9\n",
    "1 2 29\n",
    "1 5 75\n",
    "2 3 35\n",
    "2 6 34\n",
    "3 4 7\n",
    "4 6 23\n",
    "4 7 13\n",
    "5 6 53\n",
    "6 7 25'''"
   ]
  },
  {
   "cell_type": "code",
   "execution_count": 70,
   "metadata": {},
   "outputs": [
    {
     "name": "stdout",
     "output_type": "stream",
     "text": [
      "159\n"
     ]
    }
   ],
   "source": [
    "def solution(input1):\n",
    "    def find_parent(parent, x):\n",
    "        if parent[x] != x:\n",
    "            parent[x] = find_parent(parent, parent[x])\n",
    "        return parent[x]\n",
    "\n",
    "    def union_parent(parent, a, b):\n",
    "        a = find_parent(parent, a)\n",
    "        b = find_parent(parent, b)\n",
    "        if a < b:\n",
    "            parent[b] = a\n",
    "        else:\n",
    "            parent[a] = b\n",
    "\n",
    "    v, e = list(map(int, input1.split('\\n')[0].split()))\n",
    "    array = [tuple(map(int, row.split())) for row in input1.split('\\n')[1:]]\n",
    "    parent = [0] * (v + 1)\n",
    "\n",
    "    edges = []\n",
    "    result = 0\n",
    "\n",
    "    for i in range(v + 1):\n",
    "        parent[i] = i\n",
    "\n",
    "    for i in range(e):\n",
    "        a, b, cost = array[i]\n",
    "        edges.append((cost, a, b))\n",
    "    \n",
    "    # 간선을 비용 기준 오름차순 정렬\n",
    "    edges.sort()\n",
    "    # 간선을 신장 트리에 추가\n",
    "    for edge in edges:\n",
    "        cost, a, b = edge\n",
    "        # 단, 사이클이 발생하지 않는 경우 \n",
    "        if find_parent(parent, a) != find_parent(parent, b):\n",
    "            union_parent(parent, a, b)\n",
    "            result += cost\n",
    "            \n",
    "    print(result)\n",
    "    \n",
    "solution(input1)"
   ]
  },
  {
   "cell_type": "markdown",
   "metadata": {},
   "source": [
    "## 3. 위상 정렬(Topology sort) -> O(V + E)\n",
    "방향성 그래프에 대해서 노드를 순서대로 정렬"
   ]
  },
  {
   "cell_type": "code",
   "execution_count": 198,
   "metadata": {},
   "outputs": [],
   "source": [
    "input1 = '''7 8\n",
    "1 2\n",
    "1 5\n",
    "2 3\n",
    "2 6\n",
    "3 4\n",
    "4 7\n",
    "5 6\n",
    "6 4'''"
   ]
  },
  {
   "cell_type": "code",
   "execution_count": 199,
   "metadata": {},
   "outputs": [
    {
     "name": "stdout",
     "output_type": "stream",
     "text": [
      "1 2 5 3 6 4 7 "
     ]
    }
   ],
   "source": [
    "from collections import deque\n",
    "\n",
    "v, e = list(map(int, input1.split('\\n')[0].split()))\n",
    "indegree = [0] * (v + 1)\n",
    "array = [list(map(int, row.split())) for row in input1.split('\\n')[1:]]\n",
    "\n",
    "graph = [[] for _ in range(v + 1)]\n",
    "for a, b in array:\n",
    "    graph[a].append(b)\n",
    "    indegree[b] += 1\n",
    "    \n",
    "def topology_sort():\n",
    "    result = []\n",
    "    q = deque()\n",
    "    \n",
    "    for i in range(1, v + 1):\n",
    "        if indegree[i] == 0:\n",
    "            q.append(i)\n",
    "            \n",
    "    while q:\n",
    "        now = q.popleft()\n",
    "        result.append(now)\n",
    "        \n",
    "        for i in graph[now]:\n",
    "            indegree[i] -= 1\n",
    "            if indegree[i] == 0:\n",
    "                q.append(i)\n",
    "                \n",
    "    for i in result:\n",
    "        print(i, end=' ')\n",
    "\n",
    "topology_sort()"
   ]
  },
  {
   "cell_type": "markdown",
   "metadata": {},
   "source": [
    "# 팀 결성"
   ]
  },
  {
   "cell_type": "code",
   "execution_count": 16,
   "metadata": {},
   "outputs": [],
   "source": [
    "INPUT = '''7 8\n",
    "0 1 3\n",
    "1 1 7\n",
    "0 7 6\n",
    "1 7 1\n",
    "0 3 7\n",
    "0 4 2\n",
    "0 1 1\n",
    "1 1 1'''"
   ]
  },
  {
   "cell_type": "code",
   "execution_count": 26,
   "metadata": {},
   "outputs": [
    {
     "name": "stdout",
     "output_type": "stream",
     "text": [
      "NO\n",
      "NO\n",
      "YES\n"
     ]
    }
   ],
   "source": [
    "def solution(INPUT):\n",
    "    n, m = list(map(int, INPUT.split('\\n')[0].split()))\n",
    "    array = [list(map(int, row.split())) for row in INPUT.split('\\n')[1:]]\n",
    "    parent = [0] * (n + 1)\n",
    "\n",
    "    for i in range(n + 1):\n",
    "        parent[i] = i\n",
    "\n",
    "    def find_parent(parent, x):\n",
    "        if parent[x] != x:\n",
    "            parent[x] = find_parent(parent, parent[x])\n",
    "        return parent[x]\n",
    "\n",
    "    def union_parent(parent, a, b):\n",
    "        parent_a = find_parent(parent, a)\n",
    "        parent_b = find_parent(parent, b)\n",
    "        if parent_a < parent_b:\n",
    "            parent[parent_b] = parent_a\n",
    "        else:\n",
    "            parent[parent_a] = parent_b\n",
    "\n",
    "    for cmd, a, b in array:\n",
    "        if cmd == 0:\n",
    "            union_parent(parent, a, b)\n",
    "        else:\n",
    "            parent_a = find_parent(parent, a)\n",
    "            parent_b = find_parent(parent, b)\n",
    "            print('YES' if parent_a == parent_b else 'NO')\n",
    "solution(INPUT)"
   ]
  },
  {
   "cell_type": "markdown",
   "metadata": {},
   "source": [
    "# 도시 분할 계획"
   ]
  },
  {
   "cell_type": "code",
   "execution_count": 95,
   "metadata": {},
   "outputs": [],
   "source": [
    "INPUT = '''7 12\n",
    "1 2 3\n",
    "1 3 2\n",
    "3 2 1\n",
    "2 5 2\n",
    "3 4 4\n",
    "7 3 6\n",
    "5 1 5\n",
    "1 6 2\n",
    "6 4 1\n",
    "6 5 3\n",
    "4 5 3\n",
    "6 7 4'''"
   ]
  },
  {
   "cell_type": "code",
   "execution_count": 101,
   "metadata": {},
   "outputs": [
    {
     "name": "stdout",
     "output_type": "stream",
     "text": [
      "8\n"
     ]
    }
   ],
   "source": [
    "from operator import itemgetter\n",
    "\n",
    "def solution(INPUT):\n",
    "    n, m = list(map(int, INPUT.split('\\n')[0].split()))\n",
    "    array = [list(map(int, row.split())) for row in INPUT.split('\\n')[1:]]\n",
    "\n",
    "    parent = [0] * (n + 1)\n",
    "    for i in range(n + 1):\n",
    "        parent[i] = i\n",
    "\n",
    "    def find_parent(parent, x):\n",
    "        if x != parent[x]:\n",
    "            parent[x] = find_parent(parent, parent[x])\n",
    "        return parent[x]\n",
    "\n",
    "    def union_parent(parent, a, b):\n",
    "        a = find_parent(parent, a)\n",
    "        b = find_parent(parent, b)\n",
    "        if a < b:\n",
    "            parent[b] = a\n",
    "        else:\n",
    "            parent[a] = b\n",
    "\n",
    "    edges = []\n",
    "    for a, b, c in array:\n",
    "        # 최소 신장 트리가 무향 그래프 기반으로 작동하므로 \n",
    "        # 양방향을 고려할 필요가 없음\n",
    "        edges.append((c, a, b))\n",
    "    edges.sort()\n",
    "\n",
    "    results = []\n",
    "    for edge in edges:\n",
    "        cost, a, b = edge\n",
    "        if find_parent(parent, a) != find_parent(parent, b):\n",
    "            union_parent(parent, a, b)\n",
    "            results.append(cost)\n",
    "            # last = cost\n",
    "    \n",
    "    print(sum(results) - max(results))\n",
    "    \n",
    "solution(INPUT)"
   ]
  },
  {
   "cell_type": "markdown",
   "metadata": {},
   "source": [
    "# 커리큘럼"
   ]
  },
  {
   "cell_type": "code",
   "execution_count": 1,
   "metadata": {},
   "outputs": [],
   "source": [
    "INPUT = '''5\n",
    "10 -1\n",
    "10 1 -1\n",
    "4 1 -1\n",
    "4 3 1 -1\n",
    "3 3 -1'''"
   ]
  },
  {
   "cell_type": "code",
   "execution_count": 2,
   "metadata": {},
   "outputs": [
    {
     "data": {
      "text/plain": [
       "[[10], [10, 1], [4, 1], [4, 3, 1], [3, 3]]"
      ]
     },
     "execution_count": 2,
     "metadata": {},
     "output_type": "execute_result"
    }
   ],
   "source": [
    "n = int(INPUT.split('\\n')[0])\n",
    "array = [list(map(int, row.split()[:-1])) for row in INPUT.split('\\n')[1:]]\n",
    "\n",
    "array"
   ]
  },
  {
   "cell_type": "code",
   "execution_count": 270,
   "metadata": {},
   "outputs": [
    {
     "name": "stdout",
     "output_type": "stream",
     "text": [
      "10 20 14 18 17 "
     ]
    }
   ],
   "source": [
    "import copy\n",
    "from collections import deque\n",
    "\n",
    "def solution(INPUT):\n",
    "    n = int(INPUT.split('\\n')[0])\n",
    "    array = [list(map(int, row.split()[:-1])) for row in INPUT.split('\\n')[1:]]\n",
    "    \n",
    "    graph = [[] for _ in range(n + 1)]\n",
    "    indegree = [0] * (n + 1)\n",
    "    time = [0] * (n + 1)\n",
    "\n",
    "    for i in range(1, n + 1):\n",
    "        data = array[i - 1]\n",
    "        time[i] = data[0]\n",
    "        for j in data[1:]:\n",
    "            graph[j].append(i)\n",
    "            indegree[i] += 1\n",
    "\n",
    "    def topology_sort():\n",
    "        result = copy.deepcopy(time)\n",
    "        q = deque()\n",
    "\n",
    "        for i in range(1, n + 1):\n",
    "            if indegree[i] == 0:\n",
    "                q.append(i)\n",
    "    \n",
    "        while q:\n",
    "            now = q.popleft()\n",
    "\n",
    "            for i in graph[now]:\n",
    "    #             result[i] = max(result[i], result[now] + time[i])\n",
    "                result[i] = result[now] + time[i]\n",
    "                indegree[i] -= 1\n",
    "                if indegree[i] == 0:\n",
    "                        q.append(i)\n",
    "\n",
    "        for i in range(1, n + 1):\n",
    "            print(result[i], end=' ')\n",
    "\n",
    "topology_sort()"
   ]
  },
  {
   "cell_type": "markdown",
   "metadata": {},
   "source": [
    "# 줄 세우기\n",
    "N명의 학생들을 키 순서대로 줄을 세우려고 한다. 각 학생의 키를 직접 재서 정렬하면 간단하겠지만, 마땅한 방법이 없어서 두 학생의 키를 비교하는 방법을 사용하기로 하였다. 그나마도 모든 학생들을 다 비교해 본 것이 아니고, 일부 학생들의 키만을 비교해 보았다.\n",
    "\n",
    "일부 학생들의 키를 비교한 결과가 주어졌을 때, 줄을 세우는 프로그램을 작성하시오.\n",
    "\n",
    "- 첫째 줄에 N(1 ≤ N ≤ 32,000), M(1 ≤ M ≤ 100,000)이 주어진다. M은 키를 비교한 회수이다. 다음 M개의 줄에는 키를 비교한 두 학생의 번호 A, B가 주어진다. 이는 학생 A가 학생 B의 앞에 서야 한다는 의미이다.\n",
    "\n",
    "학생들의 번호는 1번부터 N번이다."
   ]
  },
  {
   "cell_type": "code",
   "execution_count": 1,
   "metadata": {},
   "outputs": [],
   "source": [
    "input1 = '''3 2\n",
    "1 3\n",
    "2 3''' # 1 2 3\n",
    "\n",
    "input2 = '''4 2\n",
    "4 2\n",
    "3 1''' # 4 2 3 1"
   ]
  },
  {
   "cell_type": "code",
   "execution_count": 37,
   "metadata": {},
   "outputs": [
    {
     "name": "stdout",
     "output_type": "stream",
     "text": [
      "1 2 3 \n",
      "3 4 1 2 \n"
     ]
    }
   ],
   "source": [
    "from collections import deque\n",
    "\n",
    "def solution(input1):\n",
    "    n, m = list(map(int, input1.split()[:2]))\n",
    "    array = [list(map(int, row.split())) for row in input1.split('\\n')[1:]]\n",
    "\n",
    "    graph = [[] for _ in range(n + 1)]\n",
    "    indegree = [0] * (n + 1)\n",
    "\n",
    "    for i in range(m):\n",
    "        a, b = array[i]\n",
    "        graph[a].append(b)\n",
    "        indegree[b] += 1\n",
    "\n",
    "    def topology_sort():        \n",
    "        q = deque()\n",
    "        result = []\n",
    "\n",
    "        for i in range(1, n + 1):\n",
    "            if indegree[i] == 0:\n",
    "                q.append(i)\n",
    "\n",
    "        while q:\n",
    "            now = q.popleft()\n",
    "            result.append(now)\n",
    "            for i in graph[now]:\n",
    "                indegree[i] -= 1\n",
    "                if indegree[i] == 0:\n",
    "                    q.append(i)\n",
    "\n",
    "        for i in result:\n",
    "            print(i, end=' ')\n",
    "        print()\n",
    "    topology_sort()\n",
    "solution(input1)\n",
    "solution(input2)"
   ]
  },
  {
   "cell_type": "markdown",
   "metadata": {},
   "source": [
    "# 최소 스패닝 트리\n",
    "그래프가 주어졌을 때, 그 그래프의 최소 스패닝 트리를 구하는 프로그램을 작성하시오.\n",
    "\n",
    "최소 스패닝 트리는, 주어진 그래프의 모든 정점들을 연결하는 부분 그래프 중에서 그 가중치의 합이 최소인 트리를 말한다.\n",
    "\n",
    "- 첫째 줄에 정점의 개수 V(1 ≤ V ≤ 10,000)와 간선의 개수 E(1 ≤ E ≤ 100,000)가 주어진다. 다음 E개의 줄에는 각 간선에 대한 정보를 나타내는 세 정수 A, B, C가 주어진다. 이는 A번 정점과 B번 정점이 가중치 C인 간선으로 연결되어 있다는 의미이다. C는 음수일 수도 있으며, 절댓값이 1,000,000을 넘지 않는다.\n",
    "\n",
    "- 그래프의 정점은 1번부터 V번까지 번호가 매겨져 있고, 임의의 두 정점 사이에 경로가 있다. 최소 스패닝 트리의 가중치가 -2,147,483,648보다 크거나 같고, 2,147,483,647보다 작거나 같은 데이터만 입력으로 주어진다."
   ]
  },
  {
   "cell_type": "code",
   "execution_count": 62,
   "metadata": {},
   "outputs": [],
   "source": [
    "INPUT = '''3 3\n",
    "1 2 1\n",
    "2 3 2\n",
    "1 3 3''' # 3"
   ]
  },
  {
   "cell_type": "code",
   "execution_count": 69,
   "metadata": {},
   "outputs": [
    {
     "name": "stdout",
     "output_type": "stream",
     "text": [
      "3\n"
     ]
    }
   ],
   "source": [
    "from operator import itemgetter\n",
    "\n",
    "def solution(input1):\n",
    "    v, e = list(map(int, INPUT.split('\\n')[0].split()))\n",
    "    array = [tuple(map(int, row.split())) for row in INPUT.split('\\n')[1:]]\n",
    "    array.sort(key=itemgetter(2))\n",
    "    parent = [i for i in range(v + 1)]\n",
    "\n",
    "    def find_parent(parent, x):\n",
    "        if x != parent[x]:\n",
    "            parent[x] = find_parent(parent, parent[x])\n",
    "        return parent[x]\n",
    "\n",
    "    def union_parent(parent, a, b):\n",
    "        a = find_parent(parent, a)\n",
    "        b = find_parent(parent, b)\n",
    "        if a < b:\n",
    "            parent[b] = a\n",
    "        else:\n",
    "            parent[a] = b\n",
    "\n",
    "    result = 0\n",
    "    for edge in array:\n",
    "        a, b, cost = edge\n",
    "        if find_parent(parent, a) != find_parent(parent, b):\n",
    "            union_parent(parent, a, b)\n",
    "            result += cost\n",
    "\n",
    "    print(result)\n",
    "    \n",
    "solution(input1)"
   ]
  },
  {
   "cell_type": "markdown",
   "metadata": {},
   "source": [
    "# 여행 계획"
   ]
  },
  {
   "cell_type": "code",
   "execution_count": 17,
   "metadata": {},
   "outputs": [],
   "source": [
    "INPUT = '''5 4\n",
    "0 1 0 1 1\n",
    "1 0 1 1 0\n",
    "0 1 0 0 0\n",
    "1 1 0 0 0\n",
    "1 0 0 0 0\n",
    "2 3 4 3'''\n",
    "\n",
    "n, m = list(map(int, INPUT.split('\\n')[0].split()))\n",
    "graph = [list(map(int, row.split())) for row in INPUT.split('\\n')[1:n + 1]]\n",
    "target = list(map(int, INPUT.split('\\n')[-1].split()))"
   ]
  },
  {
   "cell_type": "code",
   "execution_count": 21,
   "metadata": {},
   "outputs": [
    {
     "name": "stdout",
     "output_type": "stream",
     "text": [
      "5 4\n",
      "0 1 0 1 1\n",
      "1 0 1 1 0\n",
      "0 1 0 0 0\n",
      "1 1 0 0 0\n",
      "1 0 0 0 0\n",
      "2 3 4 3\n",
      "YES\n"
     ]
    }
   ],
   "source": [
    "n, m = list(map(int, input().split()))\n",
    "graph = []\n",
    "for _ in range(n):\n",
    "    graph.append(list(map(int, input().split())))\n",
    "target = list(map(int, input().split()))\n",
    "\n",
    "parent = [0] * n\n",
    "\n",
    "for i in range(n):\n",
    "    parent[i] += i\n",
    "def find_parent(parent, x):\n",
    "    if parent[x] != x:\n",
    "        parent[x] = find_parent(parent, parent[x])\n",
    "    return parent[x]\n",
    "\n",
    "def union_parent(parent, a, b):\n",
    "    a = find_parent(parent, a)\n",
    "    b = find_parent(parent, b)\n",
    "    if a < b:\n",
    "        parent[b] = a\n",
    "    else:\n",
    "        parent[a] = b\n",
    "        \n",
    "for i in range(n):\n",
    "    for j in range(i + 1, n):\n",
    "        if graph[i][j] == 1:\n",
    "            union_parent(parent, i, j)\n",
    "        \n",
    "base = parent[target[0]]\n",
    "for t in list(set(target)):\n",
    "    t -= 1\n",
    "    if parent[t] != base:\n",
    "        print('NO')\n",
    "        break\n",
    "else:\n",
    "    print('YES')"
   ]
  },
  {
   "cell_type": "markdown",
   "metadata": {},
   "source": [
    "# 탑승구"
   ]
  },
  {
   "cell_type": "code",
   "execution_count": 27,
   "metadata": {},
   "outputs": [],
   "source": [
    "INPUT = '''4\n",
    "3\n",
    "4\n",
    "1\n",
    "1'''\n",
    "\n",
    "g = int(INPUT.split('\\n')[0])\n",
    "p = int(INPUT.split('\\n')[1])\n",
    "\n",
    "array = list(map(int, INPUT.split('\\n')[2:]))"
   ]
  },
  {
   "cell_type": "code",
   "execution_count": 28,
   "metadata": {},
   "outputs": [],
   "source": [
    "def solution(INPUT):\n",
    "    g = int(input())\n",
    "    p = int(input())\n",
    "\n",
    "    parent = [i for i in range(g + 1)]\n",
    "\n",
    "    def find_parent(parent, x):\n",
    "        if parent[x] != x:\n",
    "            parent[x] = find_parent(parent, parent[x])\n",
    "        return parent[x]\n",
    "\n",
    "    def union_parent(parent, a, b):\n",
    "        a = find_parent(parent, a)\n",
    "        b = find_parent(parent, b)\n",
    "\n",
    "        if a < b:\n",
    "            parent[b] = a\n",
    "        else:\n",
    "            parent[a] = b\n",
    "\n",
    "    cnt = 0\n",
    "#     for i in array:\n",
    "#         for j in range(i, 0, -1):\n",
    "#             if find_parent(parent, j) != find_parent(parent, j - 1):\n",
    "#                 union_parent(parent, j, j - 1)\n",
    "#                 cnt += 1\n",
    "#                 break\n",
    "#         else:\n",
    "#             break\n",
    "\n",
    "    for _ in range(p):\n",
    "        data = find_parent(parent, int(input()))\n",
    "        if data == 0:\n",
    "            break\n",
    "        union_parent(parent, data, data - 1)\n",
    "        cnt += 1\n",
    "\n",
    "    print(cnt)"
   ]
  },
  {
   "cell_type": "code",
   "execution_count": null,
   "metadata": {},
   "outputs": [],
   "source": [
    "g = int(input())\n",
    "p = int(input())\n",
    "\n",
    "parent = [i for i in range(g + 1)]\n",
    "\n",
    "def find_parent(parent, x):\n",
    "    if parent[x] != x:\n",
    "        parent[x] = find_parent(parent, parent[x])\n",
    "    return parent[x]\n",
    "\n",
    "def union_parent(parent, a, b):\n",
    "    a = find_parent(parent, a)\n",
    "    b = find_parent(parent, b)\n",
    "\n",
    "    if a < b:\n",
    "        parent[b] = a\n",
    "    else:\n",
    "        parent[a] = b\n",
    "\n",
    "cnt = 0\n",
    "for _ in range(p):\n",
    "    data = find_parent(parent, int(input()))\n",
    "    if data == 0:\n",
    "        break\n",
    "    union_parent(parent, data, data - 1)\n",
    "    cnt += 1"
   ]
  },
  {
   "cell_type": "markdown",
   "metadata": {},
   "source": [
    "# 어두운 길"
   ]
  },
  {
   "cell_type": "code",
   "execution_count": 3,
   "metadata": {},
   "outputs": [],
   "source": [
    "INPUT = '''7 11\n",
    "0 1 7\n",
    "0 3 5\n",
    "1 2 8\n",
    "1 3 9\n",
    "1 4 7\n",
    "2 4 5\n",
    "3 4 15\n",
    "3 5 6\n",
    "4 5 8\n",
    "4 6 9\n",
    "5 6 11'''\n",
    "\n",
    "n, m = list(map(int, INPUT.split('\\n')[0].split()))\n",
    "array = [list(map(int, row.split())) for row in INPUT.split('\\n')[1:]]"
   ]
  },
  {
   "cell_type": "code",
   "execution_count": 9,
   "metadata": {},
   "outputs": [
    {
     "name": "stdout",
     "output_type": "stream",
     "text": [
      "51\n"
     ]
    }
   ],
   "source": [
    "graph = []\n",
    "for x, y, z in array:\n",
    "    graph.append((z, x, y))\n",
    "graph.sort()\n",
    "    \n",
    "parent = [i for i in range(n)]\n",
    "\n",
    "def find_parent(parent, x):\n",
    "    if x != parent[x]:\n",
    "        parent[x] = find_parent(parent, parent[x])\n",
    "    return parent[x]\n",
    "\n",
    "def union_parent(parent, a, b):\n",
    "    a = find_parent(parent, a)\n",
    "    b = find_parent(parent, b)    \n",
    "    if a < b:\n",
    "        parent[b] = a\n",
    "    else:\n",
    "        parent[a] = b\n",
    "        \n",
    "total_dist = 0\n",
    "min_dist = 0\n",
    "for z, x, y in graph:\n",
    "    total_dist +=  z\n",
    "    if find_parent(parent, x) != find_parent(parent, y):\n",
    "        union_parent(parent, x, y)\n",
    "        min_dist += z\n",
    "\n",
    "print(total_dist - min_dist)"
   ]
  },
  {
   "cell_type": "markdown",
   "metadata": {},
   "source": [
    "# 행성 터널"
   ]
  },
  {
   "cell_type": "code",
   "execution_count": 1,
   "metadata": {},
   "outputs": [],
   "source": [
    "INPUT = '''5\n",
    "11 -15 -15\n",
    "14 -5 -15\n",
    "-1 -1 -5\n",
    "10 -4 -1\n",
    "19 -4 19'''"
   ]
  },
  {
   "cell_type": "code",
   "execution_count": 72,
   "metadata": {},
   "outputs": [],
   "source": [
    "n = int(INPUT.split('\\n')[0])\n",
    "array = [[i] + list(map(int, row.split())) for i, row in enumerate(INPUT.split('\\n')[1:])]"
   ]
  },
  {
   "cell_type": "code",
   "execution_count": 90,
   "metadata": {},
   "outputs": [
    {
     "name": "stdout",
     "output_type": "stream",
     "text": [
      "[(-1, 2), (10, 3), (11, 0), (14, 1), (19, 4)]\n",
      "[(11, 2, 3), (1, 3, 0), (3, 0, 1), (5, 1, 4)]\n",
      "[(-15, 0), (-5, 1), (-4, 3), (-4, 4), (-1, 2)]\n",
      "[(11, 2, 3), (1, 3, 0), (3, 0, 1), (5, 1, 4), (10, 0, 1), (1, 1, 3), (0, 3, 4), (3, 4, 2)]\n",
      "[(-15, 0), (-15, 1), (-5, 2), (-1, 3), (19, 4)]\n",
      "[(11, 2, 3), (1, 3, 0), (3, 0, 1), (5, 1, 4), (10, 0, 1), (1, 1, 3), (0, 3, 4), (3, 4, 2), (0, 0, 1), (10, 1, 2), (4, 2, 3), (20, 3, 4)]\n",
      "4\n"
     ]
    }
   ],
   "source": [
    "def find_parent(parent, x):\n",
    "    if x != parent[x]:\n",
    "        parent[x] = find_parent(parent, parent[x])\n",
    "    return parent[x]\n",
    "\n",
    "def union_parent(parent, a, b):\n",
    "    a = find_parent(parent, a)\n",
    "    b = find_parent(parent, b)\n",
    "    if a < b:\n",
    "        parent[b] = a\n",
    "    else:\n",
    "        parent[a] = b\n",
    "\n",
    "parent = [i for i in range(n)]\n",
    "graph = []\n",
    "\n",
    "for i in range(1, 4):\n",
    "    tmp = sorted([(x[i], x[0]) for x in array])\n",
    "    graph += [(tmp[j + 1][0] - tmp[j][0], tmp[j][1], tmp[j + 1][1]) for j in range(n - 1)]\n",
    "    \n",
    "graph.sort()\n",
    "\n",
    "for c, x, y in graph:\n",
    "    if find_parent(parent, x) != find_parent(parent, y):\n",
    "        union_parent(parent, x, y)\n",
    "        result += c\n",
    "print(result)"
   ]
  },
  {
   "cell_type": "markdown",
   "metadata": {},
   "source": [
    "# 최종 순위"
   ]
  },
  {
   "cell_type": "code",
   "execution_count": 143,
   "metadata": {},
   "outputs": [],
   "source": [
    "INPUT = '''5\n",
    "5 4 3 2 1\n",
    "2\n",
    "2 4\n",
    "3 4'''\n",
    "\n",
    "# INPUT = '''3\n",
    "# 2 3 1\n",
    "# 0'''\n",
    "\n",
    "# INPUT = '''4\n",
    "# 1 2 3 4\n",
    "# 3\n",
    "# 1 2\n",
    "# 3 4\n",
    "# 2 3'''\n",
    "\n",
    "n = int(INPUT.split('\\n')[0])\n",
    "array = list(map(int, INPUT.split('\\n')[1].split()))\n",
    "m = int(INPUT.split('\\n')[2])\n",
    "change = [tuple(map(int, row.split())) for row in INPUT.split('\\n')[3:]]"
   ]
  },
  {
   "cell_type": "code",
   "execution_count": 195,
   "metadata": {},
   "outputs": [
    {
     "name": "stdout",
     "output_type": "stream",
     "text": [
      "3\n",
      "5\n",
      "5 4 3 2 1\n",
      "2\n",
      "2 4\n",
      "3 4\n",
      "5 3 2 4 1\n",
      "3\n",
      "2 3 1\n",
      "0\n",
      "2 3 1\n",
      "4\n",
      "1 2 3 4\n",
      "3\n",
      "1 2\n",
      "3 4\n",
      "2 3\n",
      "IMPOSSIBLE\n"
     ]
    }
   ],
   "source": [
    "from collections import deque\n",
    "\n",
    "\n",
    "def solution(n, m, array, change):\n",
    "    # make temporary array\n",
    "    tmp = []\n",
    "    for i in range(n):\n",
    "        for j in range(i + 1, n):\n",
    "            tmp.append((array[i], array[j]))\n",
    "\n",
    "    # initialize graph\n",
    "    graph = [[] for _ in range(n + 1)]\n",
    "    indegree = [0] * (n + 1)\n",
    "    for i, j in tmp:\n",
    "        graph[i].append(j)\n",
    "        indegree[j] += 1\n",
    "        \n",
    "    for c in change:\n",
    "        a, b = c\n",
    "        try:\n",
    "            graph[a].remove(b)\n",
    "            graph[b].append(a)\n",
    "            indegree[b] -= 1\n",
    "            indegree[a] += 1\n",
    "        except:\n",
    "            try:\n",
    "                graph[b].remove(a)\n",
    "                graph[a].append(b)\n",
    "                indegree[a] -= 1\n",
    "                indegree[b] += 1\n",
    "            except:\n",
    "                return '?'\n",
    "\n",
    "    # topology sort\n",
    "    q = deque()\n",
    "    result = []\n",
    "    for i in range(1, n + 1):\n",
    "        if indegree[i] == 0:\n",
    "            q.append(i)\n",
    "            result.append(i)\n",
    "\n",
    "    while q:\n",
    "        if len(q) >= 2:\n",
    "            return '?'\n",
    "        now = q.popleft()\n",
    "        for i in graph[now]:\n",
    "            indegree[i] -= 1\n",
    "            if indegree[i] == 0:\n",
    "                q.append(i)\n",
    "                result.append(i)\n",
    "\n",
    "    if len(result) != n:\n",
    "        return 'IMPOSSIBLE'\n",
    "    else:\n",
    "        return ' '.join(list(map(str, result)))\n",
    "        \n",
    "for _ in range(int(input)):\n",
    "    n = int(input())\n",
    "    array = list(map(int, input().split()))\n",
    "    m = int(input())\n",
    "    change = []\n",
    "    for _ in range(m):\n",
    "        change.append(tuple(map(int, input().split())))\n",
    "\n",
    "    answer = solution(n, m, array, change)\n",
    "    print(answer)"
   ]
  },
  {
   "cell_type": "code",
   "execution_count": 197,
   "metadata": {},
   "outputs": [
    {
     "name": "stdout",
     "output_type": "stream",
     "text": [
      "d\n"
     ]
    },
    {
     "ename": "ValueError",
     "evalue": "invalid literal for int() with base 10: 'd'",
     "output_type": "error",
     "traceback": [
      "\u001b[1;31m---------------------------------------------------------------------------\u001b[0m",
      "\u001b[1;31mValueError\u001b[0m                                Traceback (most recent call last)",
      "\u001b[1;32m<ipython-input-197-cf651bdc779c>\u001b[0m in \u001b[0;36m<module>\u001b[1;34m\u001b[0m\n\u001b[1;32m----> 1\u001b[1;33m \u001b[1;32mfor\u001b[0m \u001b[0mtc\u001b[0m \u001b[1;32min\u001b[0m \u001b[0mrange\u001b[0m\u001b[1;33m(\u001b[0m\u001b[0mint\u001b[0m\u001b[1;33m(\u001b[0m\u001b[0minput\u001b[0m\u001b[1;33m(\u001b[0m\u001b[1;33m)\u001b[0m\u001b[1;33m)\u001b[0m\u001b[1;33m)\u001b[0m\u001b[1;33m:\u001b[0m\u001b[1;33m\u001b[0m\u001b[1;33m\u001b[0m\u001b[0m\n\u001b[0m\u001b[0;32m      2\u001b[0m     \u001b[0mn\u001b[0m \u001b[1;33m=\u001b[0m \u001b[0mint\u001b[0m\u001b[1;33m(\u001b[0m\u001b[0minput\u001b[0m\u001b[1;33m(\u001b[0m\u001b[1;33m)\u001b[0m\u001b[1;33m)\u001b[0m\u001b[1;33m\u001b[0m\u001b[1;33m\u001b[0m\u001b[0m\n\u001b[0;32m      3\u001b[0m     \u001b[0mindegree\u001b[0m \u001b[1;33m=\u001b[0m \u001b[1;33m[\u001b[0m\u001b[1;36m0\u001b[0m\u001b[1;33m]\u001b[0m \u001b[1;33m*\u001b[0m \u001b[1;33m(\u001b[0m\u001b[0mn\u001b[0m \u001b[1;33m+\u001b[0m \u001b[1;36m1\u001b[0m\u001b[1;33m)\u001b[0m\u001b[1;33m\u001b[0m\u001b[1;33m\u001b[0m\u001b[0m\n\u001b[0;32m      4\u001b[0m     \u001b[0mgraph\u001b[0m \u001b[1;33m=\u001b[0m \u001b[1;33m[\u001b[0m\u001b[1;33m[\u001b[0m\u001b[1;32mFalse\u001b[0m\u001b[1;33m]\u001b[0m \u001b[1;33m*\u001b[0m \u001b[1;33m(\u001b[0m\u001b[0mn\u001b[0m \u001b[1;33m+\u001b[0m \u001b[1;36m1\u001b[0m\u001b[1;33m)\u001b[0m \u001b[1;32mfor\u001b[0m \u001b[0mi\u001b[0m \u001b[1;32min\u001b[0m \u001b[0mrange\u001b[0m\u001b[1;33m(\u001b[0m\u001b[0mn\u001b[0m \u001b[1;33m+\u001b[0m \u001b[1;36m1\u001b[0m\u001b[1;33m)\u001b[0m\u001b[1;33m]\u001b[0m\u001b[1;33m\u001b[0m\u001b[1;33m\u001b[0m\u001b[0m\n\u001b[0;32m      5\u001b[0m \u001b[1;33m\u001b[0m\u001b[0m\n",
      "\u001b[1;31mValueError\u001b[0m: invalid literal for int() with base 10: 'd'"
     ]
    }
   ],
   "source": [
    "for tc in range(int(input())):\n",
    "    n = int(input())\n",
    "    indegree = [0] * (n + 1)\n",
    "    graph = [[False] * (n + 1) for i in range(n + 1)]\n",
    "    \n",
    "    data = list(map(int, input().split()))\n",
    "    for i in range(n):\n",
    "        for j in range(i + 1, n):\n",
    "            graph[data[i]][data[j]] = True\n",
    "            indegree[data[j]] += 1\n",
    "            \n",
    "    m = int(input())\n",
    "    for i in range(m):\n",
    "        a, b = map(int, input().split())\n",
    "        if graph[a][b]:\n",
    "            graph[a][b] = False\n",
    "            graph[b][a] = True\n",
    "            indegree[a] += 1\n",
    "            indegree[b] -= 1\n",
    "        else:\n",
    "            graph[a][b] = True\n",
    "            graph[b][a] = False\n",
    "            indegree[a] -= 1\n",
    "            indegree[b] += 1\n",
    "            \n",
    "    result = []\n",
    "    q = deque()\n",
    "    \n",
    "    for i in range(1, n + 1):\n",
    "        if indegree[i] == 0:\n",
    "            q.append(i)\n",
    "            \n",
    "    certain = True\n",
    "    cycle = False\n",
    "    \n",
    "    for i in range(n):\n",
    "        if len(q) == 0:\n",
    "            cycle = True\n",
    "            break\n",
    "        if len(q) >= 2:\n",
    "            certain = False\n",
    "            break\n",
    "            \n",
    "        now = q.popleft()\n",
    "        result.append(now)\n",
    "        for j in range(1, n + 1):\n",
    "            if graph[now][j]:\n",
    "                indegree[j] -= 1\n",
    "                if indegree[j] == 0:\n",
    "                    q.append(j)\n",
    "                    \n",
    "    if cycle:\n",
    "        print('IMPOSSIBLE')\n",
    "    elif not certain:\n",
    "        print('?')\n",
    "    else:\n",
    "        for i in result:\n",
    "            print(i, end=' ')\n",
    "        print()"
   ]
  },
  {
   "cell_type": "code",
   "execution_count": null,
   "metadata": {},
   "outputs": [],
   "source": []
  }
 ],
 "metadata": {
  "kernelspec": {
   "display_name": "Python 3",
   "language": "python",
   "name": "python3"
  },
  "language_info": {
   "codemirror_mode": {
    "name": "ipython",
    "version": 3
   },
   "file_extension": ".py",
   "mimetype": "text/x-python",
   "name": "python",
   "nbconvert_exporter": "python",
   "pygments_lexer": "ipython3",
   "version": "3.8.5"
  }
 },
 "nbformat": 4,
 "nbformat_minor": 4
}

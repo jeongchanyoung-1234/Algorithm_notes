{
 "cells": [
  {
   "cell_type": "markdown",
   "metadata": {},
   "source": [
    "# Graph algorithm"
   ]
  },
  {
   "cell_type": "markdown",
   "metadata": {},
   "source": [
    "## 1. 서로소 집합(disjoint sets) 계산 알고리즘 (Union-find algorithm) -> 동일 집합에 속하는지 확인\n",
    "- union 연산을 확인하여, 서로 연결된 두 노드 A, B를 확인한다.\n",
    " 1) A와 B의 루트 노드 A', B'를 각각 찾는다\n",
    " 2) A'를 B'의 부모 노드로 설정한다(B'가 A'를 가리키도록 한다.)\n",
    "- 모든 union 연산을 처리할 때까지 1번 과정을 반복한다.\n",
    "- 루트를 찾기 위해서는 재귀적으로 부모를 거슬러 올라가야 한다."
   ]
  },
  {
   "cell_type": "markdown",
   "metadata": {},
   "source": [
    "### 기본 구현"
   ]
  },
  {
   "cell_type": "code",
   "execution_count": 18,
   "metadata": {},
   "outputs": [
    {
     "name": "stdout",
     "output_type": "stream",
     "text": [
      "각 원소가 속한 집합: 1 1 1 1 5 5 \n",
      "부모 테이블: 1 1 2 1 5 5 "
     ]
    }
   ],
   "source": [
    "input1 = '''6 4\n",
    "1 4\n",
    "2 3\n",
    "2 4\n",
    "5 6'''\n",
    "\n",
    "def find_parent(parent, x):\n",
    "    if parent[x] != x:\n",
    "        return find_parent(parent, parent[x])\n",
    "    return x\n",
    "\n",
    "def union_parent(parent, a, b):\n",
    "    a = find_parent(parent, a)\n",
    "    b = find_parent(parent, b)\n",
    "    if a < b:\n",
    "        parent[b] = a\n",
    "    else:\n",
    "        parent[a] = b\n",
    "        \n",
    "v, e = list(map(int, input1.split('\\n')[0].split()))\n",
    "array = [tuple(map(int, row.split())) for row in input1.split('\\n')[1:]]\n",
    "parent = [0] * (v + 1)\n",
    "\n",
    "for i in range(1, v + 1):\n",
    "    parent[i] = i\n",
    "    \n",
    "for i in range(e):\n",
    "    a, b = array[i]\n",
    "    union_parent(parent, a, b)\n",
    "    \n",
    "print('각 원소가 속한 집합: ', end='')\n",
    "for i in range(1, v + 1):\n",
    "    print(find_parent(parent, i), end=' ')\n",
    "    \n",
    "print()\n",
    "\n",
    "print('부모 테이블: ', end='')\n",
    "for i in range(1, v + 1):\n",
    "    print(parent[i], end=' ')"
   ]
  },
  {
   "cell_type": "markdown",
   "metadata": {},
   "source": [
    "### 경로 압축(Path compression)"
   ]
  },
  {
   "cell_type": "code",
   "execution_count": 19,
   "metadata": {},
   "outputs": [
    {
     "name": "stdout",
     "output_type": "stream",
     "text": [
      "각 원소가 속한 집합: 1 1 1 1 5 5 \n",
      "부모 테이블: 1 1 1 1 5 5 "
     ]
    }
   ],
   "source": [
    "# ======================================================\n",
    "def find_parent(parent, x):\n",
    "    if parent[x] != x:\n",
    "        parent[x] = find_parent(parent, parent[x])\n",
    "    return parent[x]\n",
    "# ======================================================\n",
    "\n",
    "def union_parent(parent, a, b):\n",
    "    a = find_parent(parent, a)\n",
    "    b = find_parent(parent, b)\n",
    "    if a < b:\n",
    "        parent[b] = a\n",
    "    else:\n",
    "        parent[a] = b\n",
    "        \n",
    "v, e = list(map(int, input1.split('\\n')[0].split()))\n",
    "array = [tuple(map(int, row.split())) for row in input1.split('\\n')[1:]]\n",
    "parent = [0] * (v + 1)\n",
    "\n",
    "for i in range(1, v + 1):\n",
    "    parent[i] = i\n",
    "\n",
    "for i in range(e):\n",
    "    a,b = array[i]\n",
    "    union_parent(parent, a, b)\n",
    "    \n",
    "print('각 원소가 속한 집합: ', end='')\n",
    "for i in range(1, v + 1):\n",
    "    print(find_parent(parent, i), end=' ')\n",
    "print()\n",
    "\n",
    "print('부모 테이블: ', end='')\n",
    "for i in range(1, v + 1):\n",
    "    print(parent[i], end=' ')"
   ]
  },
  {
   "cell_type": "markdown",
   "metadata": {},
   "source": [
    "### 서로소 집합을 이용한 무향 그래프의 사이클 판별"
   ]
  },
  {
   "cell_type": "code",
   "execution_count": 23,
   "metadata": {},
   "outputs": [],
   "source": [
    "input1 = '''3 3\n",
    "1 2\n",
    "1 3\n",
    "2 3'''"
   ]
  },
  {
   "cell_type": "code",
   "execution_count": 32,
   "metadata": {},
   "outputs": [
    {
     "name": "stdout",
     "output_type": "stream",
     "text": [
      "사이클 여부 : 참\n",
      "부모 테이블 : [0, 1, 1, 1]\n"
     ]
    }
   ],
   "source": [
    "def find_parent(parent, x):\n",
    "    # 경로 압축을 '꼭' 사용해야 함\n",
    "    if parent[x] != x:\n",
    "        parent[x] = find_parent(parent, parent[x])\n",
    "    return parent[x]\n",
    "\n",
    "def union_parent(parent, a, b):\n",
    "    a = find_parent(parent, a)\n",
    "    b = find_parent(parent, b)\n",
    "    if a < b:\n",
    "        parent[b] = a\n",
    "    else:\n",
    "        parent[a] = b\n",
    "\n",
    "v, e = list(map(int, input1.split('\\n')[0].split()))\n",
    "array = [tuple(map(int, row.split())) for row in input1.split('\\n')[1:]]\n",
    "parent = [0] * (v + 1)\n",
    "\n",
    "for i in range(v + 1):\n",
    "    parent[i] = i\n",
    "    \n",
    "cycle = False # 사이클 발생 여부\n",
    "\n",
    "for i in range(e):\n",
    "    a, b = array[i]\n",
    "    if find_parent(parent, a) == find_parent(parent, b):\n",
    "        cycle = True\n",
    "        break\n",
    "    else:\n",
    "        union_parent(parent, a, b)\n",
    "        \n",
    "print('사이클 여부 :', '참' if cycle else '거짓')\n",
    "print('부모 테이블 :', parent)"
   ]
  },
  {
   "cell_type": "markdown",
   "metadata": {},
   "source": [
    "## 신장 트리(Spanning Tree)\n",
    "모든 노드 포함, 사이클 X"
   ]
  },
  {
   "cell_type": "markdown",
   "metadata": {},
   "source": [
    "### 크루스칼 알고리즘(Kruskal Algorithm) : 최소 신장 트리 알고리즘 -> O(ElogE)\n",
    "모든 간선에 대해 정렬 수행 -> 거리가 짧은 간선부터 집합에 포함(단 사이클이 발생하지 않을 때)"
   ]
  },
  {
   "cell_type": "code",
   "execution_count": 34,
   "metadata": {},
   "outputs": [],
   "source": [
    "input1 = '''7 9\n",
    "1 2 29\n",
    "1 5 75\n",
    "2 3 35\n",
    "2 6 34\n",
    "3 4 7\n",
    "4 6 23\n",
    "4 7 13\n",
    "5 6 53\n",
    "6 7 25'''"
   ]
  },
  {
   "cell_type": "code",
   "execution_count": 40,
   "metadata": {},
   "outputs": [
    {
     "name": "stdout",
     "output_type": "stream",
     "text": [
      "159\n"
     ]
    }
   ],
   "source": [
    "def solution(input1):\n",
    "    def find_parent(parent, x):\n",
    "        if parent[x] != x:\n",
    "            parent[x] = find_parent(parent, parent[x])\n",
    "        return parent[x]\n",
    "\n",
    "    def union_parent(parent, a, b):\n",
    "        a = find_parent(parent, a)\n",
    "        b = find_parent(parent, b)\n",
    "        if a < b:\n",
    "            parent[b] = a\n",
    "        else:\n",
    "            parent[a] = b\n",
    "\n",
    "    v, e = list(map(int, input1.split('\\n')[0].split()))\n",
    "    array = [tuple(map(int, row.split())) for row in input1.split('\\n')[1:]]\n",
    "    parent = [0] * (v + 1)\n",
    "\n",
    "    edges = []\n",
    "    result = 0\n",
    "\n",
    "    for i in range(v + 1):\n",
    "        parent[i] = i\n",
    "\n",
    "    for i in range(e):\n",
    "        a, b, cost = array[i]\n",
    "        edges.append((cost, a, b))\n",
    "    \n",
    "    # 간선을 비용 기준 오름차순 정렬\n",
    "    edges.sort()\n",
    "    # 간선을 신장 트리에 추가\n",
    "    for edge in edges:\n",
    "        cost, a, b = edge\n",
    "        # 단, 사이클이 발생하지 않는 경우 \n",
    "        if find_parent(parent, a) != find_parent(parent, b):\n",
    "            union_parent(parent, a, b)\n",
    "            result += cost\n",
    "\n",
    "    print(result)\n",
    "    \n",
    "solution(input1)"
   ]
  },
  {
   "cell_type": "code",
   "execution_count": null,
   "metadata": {},
   "outputs": [],
   "source": []
  }
 ],
 "metadata": {
  "kernelspec": {
   "display_name": "Python 3",
   "language": "python",
   "name": "python3"
  },
  "language_info": {
   "codemirror_mode": {
    "name": "ipython",
    "version": 3
   },
   "file_extension": ".py",
   "mimetype": "text/x-python",
   "name": "python",
   "nbconvert_exporter": "python",
   "pygments_lexer": "ipython3",
   "version": "3.8.5"
  }
 },
 "nbformat": 4,
 "nbformat_minor": 4
}

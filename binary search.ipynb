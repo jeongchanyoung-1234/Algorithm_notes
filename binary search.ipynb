{
 "cells": [
  {
   "cell_type": "markdown",
   "metadata": {},
   "source": [
    "- 순차 탐색 : O(N)\n",
    "- 이진 탐색 : O(logN) -> 데이터 개수가 1000만 단위 넘어가면 이진탐색"
   ]
  },
  {
   "cell_type": "code",
   "execution_count": 59,
   "metadata": {},
   "outputs": [],
   "source": [
    "input1 = '''10 7\n",
    "1 3 5 7 9 11 13 15 17 19'''\n",
    "\n",
    "n, target = list(map(int, input1.split()[0:2]))\n",
    "array = list(map(int, input1.split('\\n')[1].split()))"
   ]
  },
  {
   "cell_type": "markdown",
   "metadata": {},
   "source": [
    "# 재귀함수를 이용한 이진탐색"
   ]
  },
  {
   "cell_type": "code",
   "execution_count": 60,
   "metadata": {},
   "outputs": [
    {
     "name": "stdout",
     "output_type": "stream",
     "text": [
      "index : 3\n",
      "value : 7\n"
     ]
    }
   ],
   "source": [
    "start = 0\n",
    "end = len(array) - 1\n",
    "\n",
    "def binary_search(start, end):\n",
    "    # 종료조건\n",
    "    if start > end:\n",
    "        print('타겟이 존재하지 않습니다')\n",
    "        return None\n",
    "    mid = (start + end) // 2\n",
    "    # 같으면 반환, 다르면 재귀\n",
    "    if array[mid] == target:\n",
    "        return mid\n",
    "    elif array[mid] < target:\n",
    "        return binary_search(mid + 1, end)\n",
    "    else:\n",
    "        return binary_search(start, end - 1)\n",
    "\n",
    "result = binary_search(start, end)\n",
    "print('index :', result)\n",
    "print('value :', array[result])"
   ]
  },
  {
   "cell_type": "markdown",
   "metadata": {},
   "source": [
    "# 반복문을 이용한 이진탐색"
   ]
  },
  {
   "cell_type": "code",
   "execution_count": 61,
   "metadata": {},
   "outputs": [
    {
     "name": "stdout",
     "output_type": "stream",
     "text": [
      "index : 3\n",
      "value : 7\n"
     ]
    }
   ],
   "source": [
    "start = 0\n",
    "end = len(array) - 1\n",
    "\n",
    "def binary_search(start, end):\n",
    "    while start <= end:\n",
    "        mid = (start + end) // 2\n",
    "        if array[mid] == target:\n",
    "            return mid\n",
    "        elif array[mid] < target:\n",
    "            start = mid + 1\n",
    "        else:\n",
    "            end = mid - 1\n",
    "    else:\n",
    "        print('타겟이 존재하지 않습니다.')\n",
    "\n",
    "result = binary_search(start, end)\n",
    "print('index :', result)\n",
    "print('value :', array[result])"
   ]
  },
  {
   "cell_type": "markdown",
   "metadata": {},
   "source": [
    "# 부품 찾기"
   ]
  },
  {
   "cell_type": "code",
   "execution_count": 112,
   "metadata": {},
   "outputs": [
    {
     "name": "stdout",
     "output_type": "stream",
     "text": [
      "|재귀함수를 이용한 이진탐색|\n",
      "no yes yes\n",
      "|반복문을 이용한 이진탐색|\n",
      "no yes yes\n",
      "|계수 정렬|\n",
      "no yes yes\n",
      "|집합 자료구조를 이용|\n",
      "no yes yes\n"
     ]
    }
   ],
   "source": [
    "input1 = '''5\n",
    "8 3 7 9 2\n",
    "3\n",
    "5 7 9'''\n",
    "\n",
    "def recursive_binary_search(input1):\n",
    "    n = int(input1.split('\\n')[0])\n",
    "    m = int(input1.split('\\n')[2])\n",
    "\n",
    "    src = list(map(int, input1.split('\\n')[1].split()))\n",
    "    src.sort()\n",
    "    trg = list(map(int, input1.split('\\n')[3].split()))\n",
    "\n",
    "    result = [False] * len(trg)\n",
    "\n",
    "    for target in trg:\n",
    "        start = 0\n",
    "        end = len(src) - 1\n",
    "\n",
    "        while start <= end:\n",
    "            mid = (start + end) // 2\n",
    "            if src[mid] == target:\n",
    "                result[trg.index(target)] = True\n",
    "                break\n",
    "            elif src[mid] < target:\n",
    "                start = mid + 1\n",
    "            else:00\n",
    "                end = mid - 1\n",
    "    print(' '.join(['yes' if item else 'no' for item in result]))\n",
    "\n",
    "def iterative_binary_search(input1):\n",
    "    n = int(input1.split('\\n')[0])\n",
    "    m = int(input1.split('\\n')[2])\n",
    "\n",
    "    src = list(map(int, input1.split('\\n')[1].split()))\n",
    "    src.sort()\n",
    "    trg = list(map(int, input1.split('\\n')[3].split()))\n",
    "    \n",
    "    def binary_search(start, end):\n",
    "        if start  > end:\n",
    "            return False\n",
    "        mid = (start + end) // 2\n",
    "        if src[mid] == target:\n",
    "            return True\n",
    "        elif src[mid] < target:\n",
    "            return binary_search(mid + 1, end)\n",
    "        else:\n",
    "            return binary_search(start, mid - 1)\n",
    "\n",
    "    start, end = 0, len(src) - 1\n",
    "    result = []\n",
    "    for target in trg:\n",
    "        result.append(binary_search(start, end))\n",
    "        \n",
    "    print(' '.join(['yes' if item else 'no' for item in result]))\n",
    "\n",
    "def count_sorting(input1):\n",
    "    n = int(input1.split('\\n')[0])\n",
    "    m = int(input1.split('\\n')[2])\n",
    "\n",
    "    src = list(map(int, input1.split('\\n')[1].split()))\n",
    "    trg = list(map(int, input1.split('\\n')[3].split()))\n",
    "\n",
    "    mini = min(src)\n",
    "    maxi = max(src)\n",
    "\n",
    "    table = [0] * (maxi - mini + 1)\n",
    "    result = ['no'] * len(trg)\n",
    "\n",
    "    for i in src:\n",
    "        table[i - mini] += 1\n",
    "    for i in trg:\n",
    "        if table[i - mini] > 0:\n",
    "            result[trg.index(i)] = 'yes'\n",
    "\n",
    "    print(' '.join(result))\n",
    "\n",
    "def using_set(input1):\n",
    "    n = int(input1.split('\\n')[0])\n",
    "    m = int(input1.split('\\n')[2])\n",
    "\n",
    "    src = list(map(int, input1.split('\\n')[1].split()))\n",
    "    trg = list(map(int, input1.split('\\n')[3].split()))\n",
    "\n",
    "    intersection = set(src).intersection(set(trg))\n",
    "\n",
    "    print(' '.join(['yes' if item in intersection else 'no' for item in trg]))\n",
    "\n",
    "print('|재귀함수를 이용한 이진탐색|')\n",
    "recursive_binary_search(input1)\n",
    "print('|반복문을 이용한 이진탐색|')\n",
    "iterative_binary_search(input1) \n",
    "print('|계수 정렬|')\n",
    "count_sorting(input1)\n",
    "print('|집합 자료구조를 이용|')\n",
    "using_set(input1)"
   ]
  },
  {
   "cell_type": "code",
   "execution_count": 140,
   "metadata": {},
   "outputs": [
    {
     "name": "stdout",
     "output_type": "stream",
     "text": [
      "15\n"
     ]
    }
   ],
   "source": [
    "input1 = '''4 6\n",
    "19 15 10 17'''\n",
    "\n",
    "def solution(input1):\n",
    "    # 최고 떡 길이 > x >= 필요 떡 길이\n",
    "    n, target = list(map(int, input1.split('\\n')[0].split()))\n",
    "    array = list(map(int, input1.split('\\n')[1].split()))\n",
    "\n",
    "    start = 0\n",
    "    end = max(array)\n",
    "    while start <= end:\n",
    "        h = (start + end) // 2\n",
    "        total = sum([x - h if x >= h else 0 for x in array])\n",
    "\n",
    "        if total == target:\n",
    "            result = h\n",
    "            break\n",
    "        elif total < target:\n",
    "            end = h - 1\n",
    "        else:\n",
    "            result = h\n",
    "            start = h + 1\n",
    "    print(result)\n",
    "    \n",
    "solution(input1)"
   ]
  },
  {
   "cell_type": "markdown",
   "metadata": {},
   "source": [
    "# 랜선 자르기\n",
    "- 집에서 시간을 보내던 오영식은 박성원의 부름을 받고 급히 달려왔다. 박성원이 캠프 때 쓸 N개의 랜선을 만들어야 하는데 너무 바빠서 영식이에게 도움을 청했다.\n",
    "\n",
    "이미 오영식은 자체적으로 K개의 랜선을 가지고 있다. 그러나 K개의 랜선은 길이가 제각각이다. 박성원은 랜선을 모두 N개의 같은 길이의 랜선으로 만들고 싶었기 때문에 K개의 랜선을 잘라서 만들어야 한다. 예를 들어 300cm 짜리 랜선에서 140cm 짜리 랜선을 두 개 잘라내면 20cm는 버려야 한다. (이미 자른 랜선은 붙일 수 없다.)\n",
    "\n",
    "편의를 위해 랜선을 자르거나 만들 때 손실되는 길이는 없다고 가정하며, 기존의 K개의 랜선으로 N개의 랜선을 만들 수 없는 경우는 없다고 가정하자. 그리고 자를 때는 항상 센티미터 단위로 정수길이만큼 자른다고 가정하자. N개보다 많이 만드는 것도 N개를 만드는 것에 포함된다. 이때 만들 수 있는 최대 랜선의 길이를 구하는 프로그램을 작성하시오.\n",
    "- 첫째 줄에는 오영식이 이미 가지고 있는 랜선의 개수 K, 그리고 필요한 랜선의 개수 N이 입력된다. K는 1이상 10,000이하의 정수이고, N은 1이상 1,000,000이하의 정수이다. 그리고 항상 K ≦ N 이다. 그 후 K줄에 걸쳐 이미 가지고 있는 각 랜선의 길이가 센티미터 단위의 정수로 입력된다. 랜선의 길이는 231-1보다 작거나 같은 자연수이다."
   ]
  },
  {
   "cell_type": "code",
   "execution_count": 1,
   "metadata": {},
   "outputs": [],
   "source": [
    "input1 = '''4 11\n",
    "802\n",
    "743\n",
    "457\n",
    "539'''"
   ]
  },
  {
   "cell_type": "code",
   "execution_count": 189,
   "metadata": {},
   "outputs": [
    {
     "name": "stdout",
     "output_type": "stream",
     "text": [
      "200\n"
     ]
    }
   ],
   "source": [
    "def solution(input1):\n",
    "    k, n = list(map(int, input1.split()[0:2]))\n",
    "    array = list(map(int, input1.split('\\n')[1:]))\n",
    "\n",
    "    start = 0\n",
    "    end = max(array)\n",
    "\n",
    "    def binary_search(start, end):\n",
    "        if start > end:\n",
    "            return False\n",
    "        mid = (start + end) // 2\n",
    "        total = sum([x // mid for x in array])\n",
    "\n",
    "        if total == n:\n",
    "            return mid\n",
    "        elif total < n:\n",
    "            return binary_search(start, mid -1)\n",
    "        else:\n",
    "            return binary_search(mid + 1, end)\n",
    "        return False\n",
    "\n",
    "    print(binary_search(start, end))\n",
    "    \n",
    "solution(input1)"
   ]
  },
  {
   "cell_type": "markdown",
   "metadata": {},
   "source": [
    "# 개똥벌레\n",
    "개똥벌레 한 마리가 장애물(석순과 종유석)로 가득찬 동굴에 들어갔다. 동굴의 길이는 N미터이고, 높이는 H미터이다. (N은 짝수) 첫 번째 장애물은 항상 석순이고, 그 다음에는 종유석과 석순이 번갈아가면서 등장한다.\n",
    "\n",
    "아래 그림은 길이가 14미터이고 높이가 5미터인 동굴이다. (예제 그림)\n",
    "\n",
    "\n",
    "\n",
    "이 개똥벌레는 장애물을 피하지 않는다. 자신이 지나갈 구간을 정한 다음 일직선으로 지나가면서 만나는 모든 장애물을 파괴한다.\n",
    "\n",
    "위의 그림에서 4번째 구간으로 개똥벌레가 날아간다면 파괴해야하는 장애물의 수는 총 여덟개이다. (4번째 구간은 길이가 3인 석순과 길이가 4인 석순의 중간지점을 말한다)\n",
    "\n",
    "\n",
    "\n",
    "하지만, 첫 번째 구간이나 다섯 번째 구간으로 날아간다면 개똥벌레는 장애물 일곱개만 파괴하면 된다.\n",
    "\n",
    "동굴의 크기와 높이, 모든 장애물의 크기가 주어진다. 이때, 개똥벌레가 파괴해야하는 장애물의 최솟값과 그러한 구간이 총 몇 개 있는지 구하는 프로그램을 작성하시오.\n",
    "- 첫째 줄에 N과 H가 주어진다. N은 항상 짝수이다. (2 ≤ N ≤ 200,000, 2 ≤ H ≤ 500,000)\n",
    "\n",
    "다음 N개 줄에는 장애물의 크기가 순서대로 주어진다. 장애물의 크기는 H보다 작은 양수이다."
   ]
  },
  {
   "cell_type": "code",
   "execution_count": 55,
   "metadata": {},
   "outputs": [],
   "source": [
    "input1 = '''14 5\n",
    "1\n",
    "3\n",
    "4\n",
    "2\n",
    "2\n",
    "4\n",
    "3\n",
    "4\n",
    "3\n",
    "3\n",
    "3\n",
    "2\n",
    "3\n",
    "3'''"
   ]
  },
  {
   "cell_type": "code",
   "execution_count": 56,
   "metadata": {},
   "outputs": [
    {
     "name": "stdout",
     "output_type": "stream",
     "text": [
      "7 2\n"
     ]
    }
   ],
   "source": [
    "def solution(input1):\n",
    "    n, h = list(map(int, input1.split()[:2]))\n",
    "    array = list(map(int, input1.split()[2:]))\n",
    "    bot = []\n",
    "    top = []\n",
    "    for i in range(len(array)):\n",
    "        if i % 2 == 0:\n",
    "            bot.append(array[i])\n",
    "        else:\n",
    "            top.append(array[i])\n",
    "    bot.sort()\n",
    "    top.sort()\n",
    "\n",
    "    def binary_search(array, h):\n",
    "        start = 0\n",
    "        end = len(array) - 1\n",
    "        while start <= end:\n",
    "            mid = (start + end) // 2\n",
    "            if array[mid] <= h:\n",
    "                start = mid + 1\n",
    "            else:\n",
    "                end = mid - 1\n",
    "        return len(array) - (end + 1) # length는 1부터 시작, end는 0부터 시작해서 end에 1을 더해 맞춰줌\n",
    "\n",
    "    result = 987654321\n",
    "    same = 0\n",
    "    for i in range(1, h + 1):\n",
    "        bot_cnt = binary_search(bot, i - 1)\n",
    "        top_cnt = binary_search(top, h - i)\n",
    "        total_cnt = bot_cnt + top_cnt\n",
    "\n",
    "        if result > total_cnt:\n",
    "            result = total_cnt\n",
    "            same = 0\n",
    "        if result == total_cnt:\n",
    "            same += 1\n",
    "    print(result, same)\n",
    "solution(input1)"
   ]
  },
  {
   "cell_type": "code",
   "execution_count": 57,
   "metadata": {},
   "outputs": [
    {
     "name": "stdout",
     "output_type": "stream",
     "text": [
      "7 2\n"
     ]
    }
   ],
   "source": [
    "def solution(input1):\n",
    "    n = int(input1.split()[0])\n",
    "    h = int(input1.split()[1])\n",
    "\n",
    "    array = list(map(int, input1.split()[2:]))\n",
    "    \n",
    "    def break_counter(x):\n",
    "        cnt = 0\n",
    "        for i in range(n):\n",
    "            if i % 2 == 0:\n",
    "                if array[i] >= x:\n",
    "                    cnt += 1\n",
    "            else:\n",
    "                if h - array[i] < x:\n",
    "                    cnt += 1\n",
    "        return cnt\n",
    "    \n",
    "    lowest_count = 987654321\n",
    "    same_count = 1\n",
    "\n",
    "    for i in range(h):\n",
    "        count = break_counter(i)\n",
    "        if count < lowest_count:\n",
    "            lowest_count = count\n",
    "            same_count = 1\n",
    "        elif count == lowest_count:\n",
    "            same_count += 1\n",
    "\n",
    "    print(lowest_count, same_count)\n",
    "    \n",
    "solution(input1)"
   ]
  },
  {
   "cell_type": "markdown",
   "metadata": {},
   "source": [
    "# 고정점 찾기"
   ]
  },
  {
   "cell_type": "markdown",
   "metadata": {},
   "source": [
    "고정점이란, 수열의 원소 중에서 그 값이 인덱스와 동일한 원소를 의미합니다. 예를 들어 수열 a = {-15, -4, 2, 8, 13}이 있을 때, a[2] = 2이므로, 고정점은 2가 됩니다.\n",
    "하나의 수열이 N개의 서로 다른 원소를 포함하고 있으며, 모든 원소가 오름차순으로 정렬되어 있습니다. 이때 이 수열에서 고정점이 있다면, 고정점을 출력하는 프로그램을 작성하세요. 고정점은 최대 1개만 존재합니다. 만약 고정점이 없다면 -1을 출력합니다.\n",
    "단, 이 문제는 시간 복잡도 O(logN)으로 알고리즘ㅇ르 설계하지 않으면 '시간 초과' 판정을 받습니다\n",
    "\n",
    "입력 조건\n",
    "- 첫째 줄에 N이 입력됩니다. (1 <= N < 1,000,000)\n",
    "- 둘째 줄에 N개의 원소가 정수 형태로 공백으로 구분되어 입력됩니다.\n",
    "\n",
    "출력 조건\n",
    "- 고정점을 출력한다. 고정점이 없다면 -1을 출력합니다.\n",
    "\n",
    "입력 예시1\n",
    "5\n",
    "-15 -6 1 3 7\n",
    "\n",
    "출력 예시1\n",
    "3\n",
    "\n",
    "입력 예시2\n",
    "7\n",
    "-15 -4 2 8 9 13 15\n",
    "\n",
    "출력 예시2\n",
    "2\n",
    "\n",
    "입력 예시3\n",
    "7\n",
    "-15 -4 3 8 9 13 15\n",
    "\n",
    "출력 예시3\n",
    "-1"
   ]
  },
  {
   "cell_type": "code",
   "execution_count": 4,
   "metadata": {},
   "outputs": [
    {
     "data": {
      "text/plain": [
       "-1"
      ]
     },
     "execution_count": 4,
     "metadata": {},
     "output_type": "execute_result"
    }
   ],
   "source": [
    "n = 5\n",
    "array = [-15, -6, 1, 3, 7]\n",
    "\n",
    "n = 7\n",
    "array = [-15, -4, 2, 8, 9, 13, 15]\n",
    "\n",
    "n = 7\n",
    "array = [-15, -4, 3, 8, 9, 13, 15]\n",
    "\n",
    "start = 0\n",
    "end = n - 1\n",
    "\n",
    "answer = -1\n",
    "while start <= end:\n",
    "    mid = (start + end) // 2\n",
    "    if mid < array[mid]:\n",
    "        end = mid - 1\n",
    "        continue\n",
    "    elif mid > array[mid]:\n",
    "        start = mid + 1\n",
    "        continue\n",
    "    else:\n",
    "        answer = mid\n",
    "        break\n",
    "            \n",
    "print(answer)"
   ]
  },
  {
   "cell_type": "markdown",
   "metadata": {},
   "source": [
    "# 공유기 설치"
   ]
  },
  {
   "cell_type": "code",
   "execution_count": 22,
   "metadata": {},
   "outputs": [
    {
     "name": "stdout",
     "output_type": "stream",
     "text": [
      "3\n"
     ]
    }
   ],
   "source": [
    "input1 = '''5 3\n",
    "1\n",
    "2\n",
    "8\n",
    "4\n",
    "9'''\n",
    "\n",
    "n, c = list(map(int, input1.split('\\n')[0].split()))\n",
    "array = list(map(int, input1.split('\\n')[1:]))\n",
    "array.sort()\n",
    "\n",
    "start = 1\n",
    "end = array[n - 1] - array[0]\n",
    "answer = 0\n",
    "while start <= end:\n",
    "    mid = (start + end) // 2\n",
    "\n",
    "    pivot = 0\n",
    "    cnt = 1\n",
    "    for i in range(1, n - 1) :\n",
    "        if array[i] >= array[pivot] + mid:\n",
    "            cnt += 1\n",
    "            pivot = i\n",
    "    if cnt < c:\n",
    "        end = mid - 1\n",
    "    else:\n",
    "        start = mid + 1\n",
    "        answer = mid\n",
    "        \n",
    "print(answer)"
   ]
  },
  {
   "cell_type": "code",
   "execution_count": 23,
   "metadata": {},
   "outputs": [
    {
     "name": "stdout",
     "output_type": "stream",
     "text": [
      "5 3\n",
      "1\n",
      "2\n",
      "8\n",
      "4\n",
      "9\n",
      "3\n"
     ]
    }
   ],
   "source": [
    "n, c = list(map(int, input().split()))\n",
    "array = []\n",
    "for _ in range(n):\n",
    "    array.append(int(input()))\n",
    "array.sort()\n",
    "\n",
    "start = 1\n",
    "end = array[n - 1] - array[0]\n",
    "answer = 0\n",
    "while start <= end:\n",
    "    mid = (start + end) // 2\n",
    "\n",
    "    pivot = 0\n",
    "    cnt = 1\n",
    "    for i in range(1, n ) :\n",
    "        if array[i] >= array[pivot] + mid:\n",
    "            cnt += 1\n",
    "            pivot = i\n",
    "    if cnt < c:\n",
    "        end = mid - 1\n",
    "    else:\n",
    "        start = mid + 1\n",
    "        answer = mid\n",
    "        \n",
    "print(answer)"
   ]
  },
  {
   "cell_type": "markdown",
   "metadata": {},
   "source": [
    "# 가사 검색"
   ]
  },
  {
   "cell_type": "code",
   "execution_count": 114,
   "metadata": {},
   "outputs": [
    {
     "data": {
      "text/plain": [
       "[3, 2, 4, 1, 0]"
      ]
     },
     "execution_count": 114,
     "metadata": {},
     "output_type": "execute_result"
    }
   ],
   "source": [
    "words = ['frodo', 'front', 'frost', 'frozen', 'frame', 'kakao']\n",
    "queries = ['fro??', '????o', 'fr???', 'fro???', 'pro?']\n",
    "\n",
    "def solution(words, queries):\n",
    "    import re\n",
    "\n",
    "    array = []\n",
    "\n",
    "    for q in queries:\n",
    "        length = len(q)\n",
    "        pos = 'pre' if q[-1] == '?' else 'post'\n",
    "        keyword = re.sub('\\?', '', q)\n",
    "        cnt = 0\n",
    "\n",
    "        tmp_words = sorted([w for w in words if len(w) == length])\n",
    "        for w in tmp_words:\n",
    "            if pos == 'pre':\n",
    "                if w[:len(keyword)] == keyword:\n",
    "                    cnt += 1\n",
    "            else:\n",
    "                if w[-len(keyword):] == keyword:\n",
    "                    cnt += 1\n",
    "        array.append(cnt)\n",
    "    print(array)"
   ]
  },
  {
   "cell_type": "code",
   "execution_count": 128,
   "metadata": {},
   "outputs": [
    {
     "data": {
      "text/plain": [
       "[3, 2, 4, 1, 0]"
      ]
     },
     "execution_count": 128,
     "metadata": {},
     "output_type": "execute_result"
    }
   ],
   "source": [
    "def solution(words, queries):\n",
    "    from bisect import bisect_left, bisect_right\n",
    "\n",
    "    def count_by_range(a, left_value, right_value):\n",
    "        left = bisect_left(a, left_value)\n",
    "        right = bisect_right(a, right_value)\n",
    "        return right - left\n",
    "\n",
    "    arrays = []\n",
    "    reverse_arrays = []\n",
    "    for _ in range(10001):\n",
    "        arrays.append([])\n",
    "        reverse_arrays.append([])\n",
    "\n",
    "    for w in words:\n",
    "        arrays[len(w)].append(w)\n",
    "        reverse_arrays[len(w)].append(w[::-1])\n",
    "\n",
    "    for i in range(10001):\n",
    "        if len(arrays[i]) != 0:\n",
    "            arrays[i].sort()\n",
    "            reverse_arrays[i].sort()\n",
    "\n",
    "    answer = []\n",
    "    for q in queries:\n",
    "        if q[-1] == '?':\n",
    "            tmp_words = arrays[len(q)]\n",
    "        else:\n",
    "            tmp_words = reverse_arrays[len(q)]\n",
    "            q = q[::-1]\n",
    "\n",
    "        cnt = count_by_range(tmp_words, q.replace('?', 'a'), q.replace('?', 'z'))\n",
    "        answer.append(cnt)\n",
    "\n",
    "\n",
    "    return answer\n",
    "\n",
    "solution(words, queries)"
   ]
  }
 ],
 "metadata": {
  "kernelspec": {
   "display_name": "Python 3",
   "language": "python",
   "name": "python3"
  },
  "language_info": {
   "codemirror_mode": {
    "name": "ipython",
    "version": 3
   },
   "file_extension": ".py",
   "mimetype": "text/x-python",
   "name": "python",
   "nbconvert_exporter": "python",
   "pygments_lexer": "ipython3",
   "version": "3.8.5"
  }
 },
 "nbformat": 4,
 "nbformat_minor": 4
}

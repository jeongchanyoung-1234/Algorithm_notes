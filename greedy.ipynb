{
 "cells": [
  {
   "cell_type": "code",
   "execution_count": 85,
   "metadata": {},
   "outputs": [],
   "source": [
    "import time\n",
    "# from memory_profiler import memory_usage, \n",
    "\n",
    "def timer(func, **kwargs):    \n",
    "    def wrapper(*args, **kwargs):\n",
    "        start = time.time()\n",
    "        func(*args, **kwargs)\n",
    "        end = time.time()\n",
    "        print('Time Complexity : ', '%.6e' % (end - start), 'sec')\n",
    "    return wrapper\n",
    "\n",
    "# def memory():\n",
    "#     usage = memory_usage(-1, 1, 1)\n",
    "#     print('Spatial Complexity :', usage[0], 'MB')"
   ]
  },
  {
   "cell_type": "markdown",
   "metadata": {},
   "source": [
    "# 거스름돈"
   ]
  },
  {
   "cell_type": "code",
   "execution_count": 86,
   "metadata": {},
   "outputs": [
    {
     "name": "stdout",
     "output_type": "stream",
     "text": [
      "0 6\n",
      "Time Complexity :  9.448528e-04 sec\n"
     ]
    }
   ],
   "source": [
    "# 시간복잡도 O(K)\n",
    "\n",
    "n = 1260\n",
    "count = 0\n",
    "\n",
    "@timer\n",
    "def solution(n, count):\n",
    "    coins = [100, 500, 50, 10]\n",
    "    coins.sort(reverse=True)\n",
    "\n",
    "    for coin in coins:\n",
    "        count += n // coin\n",
    "        n %= coin\n",
    "    print(n, count)\n",
    "    \n",
    "solution(n, count)"
   ]
  },
  {
   "cell_type": "markdown",
   "metadata": {},
   "source": [
    "# 큰 수의 법칙"
   ]
  },
  {
   "cell_type": "code",
   "execution_count": 87,
   "metadata": {},
   "outputs": [
    {
     "name": "stdout",
     "output_type": "stream",
     "text": [
      "46\n",
      "Time Complexity :  0.000000e+00 sec\n"
     ]
    }
   ],
   "source": [
    "# 시간 복잡도 O(2N)\n",
    "\n",
    "input1 = '5 8 3'\n",
    "input2 = '2 4 5 4 6'\n",
    "\n",
    "@timer\n",
    "def solution(input1, input2):\n",
    "    N, M, K = map(int, input1.split(' '))\n",
    "\n",
    "    array = list(map(int, input2.split(' ')))\n",
    "    array.sort(reverse=True)\n",
    "\n",
    "    result = 0\n",
    "\n",
    "    for num in array:\n",
    "        if M // K < 1:\n",
    "            result += num * (M % K)\n",
    "            M -= M % K\n",
    "            break\n",
    "        result += num * K * (M // K)\n",
    "        M -= K * (M // K)\n",
    "\n",
    "    print(result)\n",
    "\n",
    "solution(input1, input2)"
   ]
  },
  {
   "cell_type": "code",
   "execution_count": 88,
   "metadata": {},
   "outputs": [
    {
     "name": "stdout",
     "output_type": "stream",
     "text": [
      "46\n",
      "Time Complexity :  0.000000e+00 sec\n"
     ]
    }
   ],
   "source": [
    "input1 = '5 8 3'\n",
    "input2 = '2 4 5 4 6'\n",
    "\n",
    "@timer\n",
    "def solution(input1, input2):\n",
    "    N, M, K = map(int, input1.split(' '))\n",
    "\n",
    "    array = list(map(int, input2.split(' ')))\n",
    "    array.sort()\n",
    "\n",
    "    first = array[N - 1]\n",
    "    second = array[N - 2]\n",
    "\n",
    "    result = 0\n",
    "\n",
    "    while True:\n",
    "        for i in range(K):\n",
    "            if M == 0:\n",
    "                break\n",
    "            result += first\n",
    "            M -= 1\n",
    "        if M == 0:\n",
    "            break\n",
    "        result += second\n",
    "        M -= 1\n",
    "\n",
    "    print(result)\n",
    "solution(input1, input2)"
   ]
  },
  {
   "cell_type": "code",
   "execution_count": 91,
   "metadata": {},
   "outputs": [
    {
     "name": "stdout",
     "output_type": "stream",
     "text": [
      "46\n",
      "Time Complexity :  0.000000e+00 sec\n"
     ]
    }
   ],
   "source": [
    "input1 = '5 8 3'\n",
    "input2 = '2 4 5 4 6'\n",
    "\n",
    "@timer\n",
    "def solution(input1, input2):\n",
    "    N, M, K = map(int, input1.split(' '))\n",
    "\n",
    "    array = list(map(int, input2.split(' ')))\n",
    "    array.sort()\n",
    "\n",
    "    first = array[N - 1]\n",
    "    second = array[N - 2]\n",
    "\n",
    "    result = 0\n",
    "\n",
    "    # [6 6 6 5] [6 6 6 5]\n",
    "    result += first * ( (M // (K + 1) ) * K + M % (K + 1) )\n",
    "    result += second * (M // (K + 1) )\n",
    "\n",
    "    print(result)\n",
    "    \n",
    "solution(input1, input2)"
   ]
  },
  {
   "cell_type": "markdown",
   "metadata": {},
   "source": [
    "# 숫자 카드 게임"
   ]
  },
  {
   "cell_type": "code",
   "execution_count": 103,
   "metadata": {},
   "outputs": [
    {
     "name": "stdout",
     "output_type": "stream",
     "text": [
      "2\n",
      "Time Complexity :  0.000000e+00 sec\n",
      "3\n",
      "Time Complexity :  0.000000e+00 sec\n"
     ]
    }
   ],
   "source": [
    "input1 = '''3 3'''\n",
    "input2 = '''3 1 2\n",
    "4 1 4\n",
    "2 2 2'''\n",
    "\n",
    "input3 = '''2 4'''\n",
    "input4 = '''7 3 1 8\n",
    "3 3 3 4'''\n",
    "\n",
    "@timer\n",
    "def solution(input1, input2):\n",
    "    N, M = list(map(int, input1.split()))\n",
    "    # 각 행에서 가장 작은 숫자를 찾고 그 중 가장 큰 숫자를 출력\n",
    "    answer = max([min(list(map(int, seq.split()))) for seq in input2.split('\\n')])\n",
    "    print(answer)\n",
    "\n",
    "solution(input1, input2)\n",
    "solution(input3, input4)"
   ]
  },
  {
   "cell_type": "markdown",
   "metadata": {},
   "source": [
    "# 1이 될 때까지"
   ]
  },
  {
   "cell_type": "code",
   "execution_count": 146,
   "metadata": {},
   "outputs": [
    {
     "name": "stdout",
     "output_type": "stream",
     "text": [
      "2\n",
      "Time Complexity :  0.000000e+00 sec\n",
      "3\n",
      "Time Complexity :  0.000000e+00 sec\n"
     ]
    }
   ],
   "source": [
    "input1 = '25 5'\n",
    "input2 = '17 4'\n",
    "\n",
    "@timer\n",
    "def solution(input1):\n",
    "    N, K = list(map(int, input1.split()))\n",
    "\n",
    "    cnt = 0\n",
    "    while N != 1:\n",
    "        if N % K == 0:\n",
    "            N /= K\n",
    "            cnt += 1\n",
    "        else:\n",
    "            N -= 1\n",
    "            cnt += 1\n",
    "    print(cnt)\n",
    "\n",
    "solution(input1)\n",
    "solution(input2)"
   ]
  },
  {
   "cell_type": "code",
   "execution_count": 170,
   "metadata": {},
   "outputs": [
    {
     "name": "stdout",
     "output_type": "stream",
     "text": [
      "2\n",
      "Time Complexity :  0.000000e+00 sec\n",
      "3\n",
      "Time Complexity :  0.000000e+00 sec\n"
     ]
    }
   ],
   "source": [
    "@timer\n",
    "def solution(input1):\n",
    "    import math\n",
    "    N, K = list(map(int, input1.split()))\n",
    "\n",
    "    n = 0\n",
    "    # N = K^n + m\n",
    "    # argmin(n, m) n + m when log N = n * log K _ log m \n",
    "    while math.log(N) >= n * math.log(K):\n",
    "        n += 1\n",
    "    m = N - K ** (n - 1)\n",
    "\n",
    "    print((n - 1) + m)\n",
    "    \n",
    "solution(input1)\n",
    "solution(input2)"
   ]
  },
  {
   "cell_type": "code",
   "execution_count": 176,
   "metadata": {},
   "outputs": [
    {
     "name": "stdout",
     "output_type": "stream",
     "text": [
      "2\n",
      "Time Complexity :  0.000000e+00 sec\n",
      "3\n",
      "Time Complexity :  0.000000e+00 sec\n"
     ]
    }
   ],
   "source": [
    "@timer\n",
    "def solution(input1):\n",
    "    N, K = map(int, input1.split())\n",
    "    \n",
    "    cnt = 0\n",
    "    while True:\n",
    "        # target : K로 나누어떨어지는 숫자\n",
    "        target = (N // K) * K\n",
    "        # target에 도달할때까지 1을 빼야함\n",
    "        cnt += N - target\n",
    "        N = target\n",
    "        # 1) K로 나눌 수 없는 경우 빠져나와서\n",
    "        if N < K:\n",
    "            break\n",
    "        # K로 나눔\n",
    "        cnt += 1\n",
    "        N //= K\n",
    "    # 2) 남은 수에 대해서 1을 뺌\n",
    "    cnt += (N - 1)\n",
    "    print(cnt)\n",
    "    \n",
    "solution(input1)\n",
    "solution(input2)"
   ]
  },
  {
   "cell_type": "code",
   "execution_count": null,
   "metadata": {},
   "outputs": [],
   "source": []
  }
 ],
 "metadata": {
  "kernelspec": {
   "display_name": "Python 3",
   "language": "python",
   "name": "python3"
  },
  "language_info": {
   "codemirror_mode": {
    "name": "ipython",
    "version": 3
   },
   "file_extension": ".py",
   "mimetype": "text/x-python",
   "name": "python",
   "nbconvert_exporter": "python",
   "pygments_lexer": "ipython3",
   "version": "3.8.5"
  }
 },
 "nbformat": 4,
 "nbformat_minor": 4
}

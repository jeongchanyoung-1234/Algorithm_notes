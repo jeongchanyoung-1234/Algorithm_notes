{
 "cells": [
  {
   "cell_type": "code",
   "execution_count": 20,
   "metadata": {},
   "outputs": [],
   "source": [
    "def timer(func):\n",
    "    import time\n",
    "    def wrapper(*args, **kwargs):\n",
    "        start = time.time()\n",
    "        func(*args, **kwargs)\n",
    "        end = time.time()\n",
    "        print(end - start)\n",
    "    return wrapper"
   ]
  },
  {
   "cell_type": "markdown",
   "metadata": {},
   "source": [
    "1) 정렬 라이브러리를 이용\n",
    "\n",
    "    - 병합 정렬 : O(NlogN) -> 퀵 정렬보다 느리다 EX) sorted\n",
    "    \n",
    "2) 정렬 알고리즘 이해\n",
    "\n",
    "    - 선택 정렬 : O(N^2)\n",
    "    \n",
    "    - 삽입 정렬 : O(N^2) -> 거의 정렬된 상황\n",
    "    \n",
    "    - 퀵 정렬 : O(NlogN) ~ O(N^2) -> 무작위인 상황, 평균적으로 빠르게 동작\n",
    "    \n",
    "3) 효율적인 정렬\n",
    "\n",
    "    - 계수 정렬 : O(N+K) -> max - min 차이가 백만을 넘지 않는 정수 정렬, 중복 데이터가 여러개일때"
   ]
  },
  {
   "cell_type": "markdown",
   "metadata": {},
   "source": [
    "# 선택 정렬"
   ]
  },
  {
   "cell_type": "code",
   "execution_count": 66,
   "metadata": {},
   "outputs": [
    {
     "name": "stdout",
     "output_type": "stream",
     "text": [
      "[0, 1, 2, 3, 4, 5, 6, 7, 8, 9]\n",
      "0.0\n",
      "[0, 1, 2, 3, 4, 5, 6, 7, 8, 9]\n",
      "0.0\n"
     ]
    }
   ],
   "source": [
    "import random\n",
    "\n",
    "array = [7, 5, 9, 0, 3, 1, 6, 2, 4, 8]\n",
    "\n",
    "@timer\n",
    "def select_sorting1(array):\n",
    "    for i in range(len(array)):\n",
    "        mini = min(array[i:])\n",
    "        index = array.index(mini)\n",
    "        array[i], array[index] = array[index], array[i]\n",
    "    print(array)\n",
    "\n",
    "select_sorting1(array)\n",
    "\n",
    "array = [7, 5, 9, 0, 3, 1, 6, 2, 4, 8]\n",
    "\n",
    "@timer\n",
    "def select_sorting2(array):\n",
    "    for i in range(len(array)):\n",
    "        min_index = i\n",
    "        for j in range(i + 1, len(array)):\n",
    "            if array[min_index] > array[j]:\n",
    "                min_index = j\n",
    "        array[i], array[min_index] = array[min_index], array[i]\n",
    "    print(array)\n",
    "\n",
    "select_sorting2(array)"
   ]
  },
  {
   "cell_type": "markdown",
   "metadata": {},
   "source": [
    "# 삽입 정렬"
   ]
  },
  {
   "cell_type": "code",
   "execution_count": 63,
   "metadata": {},
   "outputs": [
    {
     "name": "stdout",
     "output_type": "stream",
     "text": [
      "[0, 1, 2, 3, 4, 5, 6, 7, 8, 9]\n",
      "0.0\n",
      "[0, 1, 2, 3, 4, 5, 6, 7, 8, 9]\n",
      "0.0\n"
     ]
    }
   ],
   "source": [
    "array = [7, 5, 9, 0, 3, 1, 6, 2, 4, 8]\n",
    "\n",
    "@timer\n",
    "def insert_sorting1(array):\n",
    "    for i in range(1, len(array)):\n",
    "        for j in range(0, i):\n",
    "            if array[i] < array[j]:\n",
    "                value = array[i]\n",
    "                array.remove(value)\n",
    "                array.insert(j, value)\n",
    "                break\n",
    "    print(array)\n",
    "    \n",
    "insert_sorting1(array)\n",
    "\n",
    "array = [7, 5, 9, 0, 3, 1, 6, 2, 4, 8]\n",
    "\n",
    "@timer\n",
    "def insert_sorting2(array):\n",
    "    for i in range(1, len(array)):\n",
    "        for j in range(i, 0, -1):\n",
    "            if array[j] < array[j - 1]:\n",
    "                array[j], array[j - 1] = array[j - 1], array[j]\n",
    "            else:\n",
    "                break                \n",
    "    print(array)\n",
    "\n",
    "insert_sorting2(array)"
   ]
  },
  {
   "cell_type": "markdown",
   "metadata": {},
   "source": [
    "# 퀵 정렬"
   ]
  },
  {
   "cell_type": "code",
   "execution_count": 96,
   "metadata": {},
   "outputs": [
    {
     "name": "stdout",
     "output_type": "stream",
     "text": [
      "0.034938812255859375\n"
     ]
    }
   ],
   "source": [
    "import time\n",
    "# array = [5, 7, 9, 0, 3, 1, 6, 2, 4, 8]\n",
    "\n",
    "array = []\n",
    "while len(array) < 10000:\n",
    "    array.append(random.randint(1, 100000))\n",
    "\n",
    "\n",
    "def quick(array, start, end):\n",
    "    if start >= end:\n",
    "        return\n",
    "    pivot = start\n",
    "    left = start + 1\n",
    "    right = end\n",
    "    while left <= right:\n",
    "        while left <= end and array[left] <= array[pivot]:\n",
    "            left += 1\n",
    "        while right > start and array[right] >= array[pivot]:\n",
    "            right -= 1\n",
    "        if left > right:\n",
    "            array[right], array[pivot] = array[pivot], array[right]\n",
    "        else:\n",
    "            array[left], array[right] = array[right], array[left]\n",
    "    quick(array, start, right - 1)\n",
    "    quick(array, right + 1, end)\n",
    "start = time.time()\n",
    "quick(array, 0, len(array) - 1)\n",
    "end = time.time()\n",
    "print(end - start)"
   ]
  },
  {
   "cell_type": "code",
   "execution_count": 99,
   "metadata": {},
   "outputs": [
    {
     "data": {
      "text/plain": [
       "[0, 1, 2, 3, 4, 5, 6, 7, 8, 9]"
      ]
     },
     "execution_count": 99,
     "metadata": {},
     "output_type": "execute_result"
    }
   ],
   "source": [
    "array = [5, 7, 9, 0, 3, 1, 6, 2, 4, 8]\n",
    "\n",
    "def quick_sort(array):\n",
    "    if len(array) <= 1:\n",
    "        return array\n",
    "    \n",
    "    pivot = array[0]\n",
    "    tail = array[1:]\n",
    "    \n",
    "    left_side = [x for x in tail if x <= pivot]\n",
    "    right_side = [x for x in tail if x > pivot]\n",
    "    \n",
    "    return quick_sort(left_side) + [pivot] + quick_sort(right_side)\n",
    "\n",
    "quick_sort(array)"
   ]
  },
  {
   "cell_type": "markdown",
   "metadata": {},
   "source": [
    "# 계수 정렬"
   ]
  },
  {
   "cell_type": "code",
   "execution_count": 117,
   "metadata": {},
   "outputs": [
    {
     "name": "stdout",
     "output_type": "stream",
     "text": [
      "0 0 1 1 2 2 3 4 5 5 6 7 8 9 9 "
     ]
    }
   ],
   "source": [
    "array = [7, 5, 9, 0, 3, 1, 6, 2, 9, 1, 4, 8, 0, 5, 2]\n",
    "\n",
    "mini = min(array)\n",
    "maxi = max(array)\n",
    "\n",
    "result = [0] * (maxi - mini + 1)\n",
    "\n",
    "for i in array:\n",
    "    result[i] += 1\n",
    "    \n",
    "for i, v in enumerate(result):\n",
    "    print((str(i) + ' ') * v, end='')"
   ]
  },
  {
   "cell_type": "markdown",
   "metadata": {},
   "source": [
    "# 위에서 아래로"
   ]
  },
  {
   "cell_type": "code",
   "execution_count": 76,
   "metadata": {},
   "outputs": [
    {
     "name": "stdout",
     "output_type": "stream",
     "text": [
      "0 7 12 15 16 17 27 28 33 65 91 96 97 \n",
      "select_sort : 0.0009944438934326172\n",
      "0 7 12 15 16 17 27 28 33 65 91 96 97 \n",
      "insert_sort : 0.0\n",
      "0 7 12 15 16 17 27 28 33 65 91 96 97\n",
      "quick_sort : 0.0\n",
      "12 19 24 27 28 29 39 40 45 77 103 108 109 \n",
      "count_sort : 0.0\n"
     ]
    }
   ],
   "source": [
    "import random \n",
    "\n",
    "input1 = '''3\n",
    "15\n",
    "27\n",
    "12'''\n",
    "\n",
    "for _ in range(10):\n",
    "    input1 += '\\n{}'.format(random.randint(0, 100))\n",
    "\n",
    "def count_sort(array):\n",
    "    maxi = max(array)\n",
    "    mini = min(array)\n",
    "    result = [0] * (maxi - mini + 1)\n",
    "\n",
    "    for i in array:\n",
    "        result[i - mini] += 1\n",
    "\n",
    "    for i in range(len(result)):\n",
    "        for j in range(result[i]):\n",
    "            print(str(i + 12), end=' ')\n",
    "    print('\\n', end='')\n",
    "\n",
    "def quick_sort(array):\n",
    "    def quick(array):\n",
    "        if len(array) <= 1:\n",
    "            return array\n",
    "        pivot = array[0]\n",
    "        tail = array[1:]\n",
    "\n",
    "        left = [x for x in tail if x < pivot]\n",
    "        right = [x for x in tail if x >= pivot]\n",
    "\n",
    "        return quick(left) + [pivot] + quick(right)\n",
    "\n",
    "    print(' '.join(list(map(str, quick(array)))))\n",
    "\n",
    "def select_sort(array):\n",
    "    for i in range(len(array)):\n",
    "        mini = min(array[i:])\n",
    "        j = array.index(mini)\n",
    "        array[i], array[j] = array[j], array[i]\n",
    "\n",
    "    for num in array:\n",
    "        print(num, end =' ')\n",
    "    print('\\n', end='')\n",
    "\n",
    "def insert_sort(array):\n",
    "    for i in range(1, len(array)):\n",
    "        for j in range(i, 0, -1):\n",
    "            if array[j] < array[j - 1]:\n",
    "                array[j], array[j - 1] = array[j - 1], array[j]\n",
    "            else:\n",
    "                break\n",
    "    for num in array:\n",
    "        print(num, end=' ')\n",
    "    print('\\n', end = '')\n",
    "\n",
    "def comparison(input1):\n",
    "    import time\n",
    "    \n",
    "    \n",
    "    n = int(input1.split('\\n')[0])\n",
    "    array = list(map(int, input1.split('\\n')[1:]))\n",
    "    funcs = [select_sort, insert_sort, quick_sort, count_sort]\n",
    "    \n",
    "    for func in funcs:\n",
    "        start = time.time()\n",
    "        func(array)\n",
    "        end = time.time()\n",
    "        print('{} : {}'.format(func.__name__, end - start))\n",
    "        \n",
    "comparison(input1)"
   ]
  },
  {
   "cell_type": "markdown",
   "metadata": {},
   "source": [
    "# 성적이 낮은 순서로 학생 출력하기"
   ]
  },
  {
   "cell_type": "code",
   "execution_count": 134,
   "metadata": {},
   "outputs": [
    {
     "name": "stdout",
     "output_type": "stream",
     "text": [
      "이순신 홍길동 "
     ]
    }
   ],
   "source": [
    "input1 = '''2\n",
    "홍길동 95\n",
    "이순신 77'''\n",
    "\n",
    "def solution(input1):\n",
    "    n = input1.split('\\n')[0]\n",
    "    info = [item.split() for item in input1.split('\\n')[1:]]\n",
    "\n",
    "    def key_function(data):\n",
    "        return int(data[1])\n",
    "\n",
    "    info.sort(key=key_function)\n",
    "\n",
    "    for i in info:\n",
    "        print(i[0], end=' ')\n",
    "        \n",
    "solution(input1)"
   ]
  },
  {
   "cell_type": "markdown",
   "metadata": {},
   "source": [
    "# 두 배열의 원소 교체"
   ]
  },
  {
   "cell_type": "code",
   "execution_count": 163,
   "metadata": {},
   "outputs": [
    {
     "name": "stdout",
     "output_type": "stream",
     "text": [
      "26\n"
     ]
    }
   ],
   "source": [
    "input1 = '''5 3\n",
    "1 2 5 4 3\n",
    "5 5 6 6 5'''\n",
    "\n",
    "def solution(input1):\n",
    "    n, k = list(map(int, input1.split('\\n')[0].split()))\n",
    "    a, b = [list(map(int, row.split())) for row in input1.split('\\n')[1:]]\n",
    "    a.sort()\n",
    "    b.sort(reverse=True)\n",
    "\n",
    "    for i in range(k):\n",
    "        a[i] = b[i]\n",
    "    print(sum(a))\n",
    "\n",
    "solution(input1)"
   ]
  }
 ],
 "metadata": {
  "kernelspec": {
   "display_name": "Python 3",
   "language": "python",
   "name": "python3"
  },
  "language_info": {
   "codemirror_mode": {
    "name": "ipython",
    "version": 3
   },
   "file_extension": ".py",
   "mimetype": "text/x-python",
   "name": "python",
   "nbconvert_exporter": "python",
   "pygments_lexer": "ipython3",
   "version": "3.8.5"
  }
 },
 "nbformat": 4,
 "nbformat_minor": 4
}

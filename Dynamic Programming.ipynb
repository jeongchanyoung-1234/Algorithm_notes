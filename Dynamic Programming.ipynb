{
 "cells": [
  {
   "cell_type": "markdown",
   "metadata": {},
   "source": [
    "- 타겟을 설정해서 dp table로 관리\n",
    "- 타겟 확인 -> 점화식 -> initialize -> loop"
   ]
  },
  {
   "cell_type": "markdown",
   "metadata": {},
   "source": [
    "# 1로 만들기"
   ]
  },
  {
   "cell_type": "code",
   "execution_count": 65,
   "metadata": {},
   "outputs": [],
   "source": [
    "input1 = '26' # 3"
   ]
  },
  {
   "cell_type": "code",
   "execution_count": 76,
   "metadata": {},
   "outputs": [
    {
     "name": "stdout",
     "output_type": "stream",
     "text": [
      "3\n"
     ]
    }
   ],
   "source": [
    "# 타겟: 계산횟수\n",
    "n = int(input1)\n",
    "d = [0] * (x + 1)\n",
    "\n",
    "for i in range(2, x + 1):\n",
    "    d[i] = d[i - 1] + 1\n",
    "    if i % 2 == 0:\n",
    "        d[i] = min(d[i], d[i // 2] + 1)\n",
    "    if i % 3 == 0:\n",
    "        d[i] = min(d[i], d[i // 3] + 1)\n",
    "    if i % 5 == 0:\n",
    "        d[i] = min(d[i], d[i // 5] + 1)\n",
    "print(d[x])"
   ]
  },
  {
   "cell_type": "markdown",
   "metadata": {},
   "source": [
    "# 개미 전사"
   ]
  },
  {
   "cell_type": "code",
   "execution_count": 101,
   "metadata": {},
   "outputs": [
    {
     "data": {
      "text/plain": [
       "17"
      ]
     },
     "execution_count": 101,
     "metadata": {},
     "output_type": "execute_result"
    }
   ],
   "source": [
    "input1 = '''5\n",
    "1 3 1 5 14'''\n",
    "# 타겟 : 약탈할 총 식량\n",
    "n = int(input1.split()[0])\n",
    "array = list(map(int, input1.split()[1:]))\n",
    "\n",
    "d = [0] * n\n",
    "\n",
    "d[0] = array[0]\n",
    "d[1] = max(array[0], array[1])\n",
    "for i in range(2, n):\n",
    "    d[i] = max(d[i - 1], d[i - 2] + array[i])\n",
    "max(d)"
   ]
  },
  {
   "cell_type": "markdown",
   "metadata": {},
   "source": [
    "# 바닥 공사"
   ]
  },
  {
   "cell_type": "code",
   "execution_count": 103,
   "metadata": {},
   "outputs": [
    {
     "data": {
      "text/plain": [
       "5"
      ]
     },
     "execution_count": 103,
     "metadata": {},
     "output_type": "execute_result"
    }
   ],
   "source": [
    "input1 = '3'\n",
    "# 타겟 : 타일 경우의 수\n",
    "n = int(input1)\n",
    "\n",
    "d = [0] * n\n",
    "\n",
    "d[0] = 1\n",
    "d[1] = 3\n",
    "\n",
    "for i in range(2, n):\n",
    "    d[i] = (d[i - 2] * 2 + d[i - 1]) % 796796\n",
    "d[n - 1]"
   ]
  },
  {
   "cell_type": "markdown",
   "metadata": {},
   "source": [
    "# 효율적인 화폐 구성"
   ]
  },
  {
   "cell_type": "code",
   "execution_count": 104,
   "metadata": {},
   "outputs": [],
   "source": [
    "input1 = '''2 15\n",
    "2\n",
    "3''' # 5\n",
    "input2 = '''3 4\n",
    "3\n",
    "5\n",
    "7''' # -1"
   ]
  },
  {
   "cell_type": "code",
   "execution_count": 155,
   "metadata": {},
   "outputs": [
    {
     "name": "stdout",
     "output_type": "stream",
     "text": [
      "5\n",
      "-1\n"
     ]
    }
   ],
   "source": [
    "# 타켓 : 최소 동전 개수\n",
    "def solution(input1):\n",
    "    n, m = list(map(int,input1.split()[0:2]))\n",
    "    coins = list(map(int, input1.split()[2:]))\n",
    "\n",
    "    d = [0] * 10001\n",
    "    for i in range(n):\n",
    "        d[coins[i]] = 1\n",
    "    for i in range(coins[-1] + 1, m + 1):\n",
    "        tmp = []\n",
    "        for j in range(n):\n",
    "            tmp.append(d[i - coins[j]] + 1)\n",
    "        d[i] = min(tmp)\n",
    "\n",
    "    print(d[m] if d[m] != 0 else -1)\n",
    "solution(input1)\n",
    "solution(input2)"
   ]
  },
  {
   "cell_type": "code",
   "execution_count": null,
   "metadata": {},
   "outputs": [],
   "source": []
  }
 ],
 "metadata": {
  "kernelspec": {
   "display_name": "Python 3",
   "language": "python",
   "name": "python3"
  },
  "language_info": {
   "codemirror_mode": {
    "name": "ipython",
    "version": 3
   },
   "file_extension": ".py",
   "mimetype": "text/x-python",
   "name": "python",
   "nbconvert_exporter": "python",
   "pygments_lexer": "ipython3",
   "version": "3.8.5"
  }
 },
 "nbformat": 4,
 "nbformat_minor": 4
}

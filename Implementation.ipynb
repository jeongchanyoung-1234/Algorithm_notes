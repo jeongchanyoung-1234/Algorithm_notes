{
 "cells": [
  {
   "cell_type": "code",
   "execution_count": 1,
   "metadata": {},
   "outputs": [],
   "source": [
    "def timer(func):\n",
    "    import time\n",
    "    def wrapper(*args, **kwargs):\n",
    "        start = time.time()\n",
    "        func(*args, **kwargs)\n",
    "        end = time.time()\n",
    "        print('Time : {:.10e}'.format(end - start))\n",
    "    return wrapper"
   ]
  },
  {
   "cell_type": "markdown",
   "metadata": {},
   "source": [
    "# 상하좌우"
   ]
  },
  {
   "cell_type": "code",
   "execution_count": 2,
   "metadata": {},
   "outputs": [
    {
     "name": "stdout",
     "output_type": "stream",
     "text": [
      "3 4\n",
      "Time : 0.0000000000e+00\n"
     ]
    }
   ],
   "source": [
    "input1 = '''5\n",
    "R R R U D D'''\n",
    "\n",
    "@timer\n",
    "def solution(input1):\n",
    "    N = int(input1.split('\\n')[0])\n",
    "    array = input1.split('\\n')[1:][0].split()\n",
    "\n",
    "    loc = [1, 1]\n",
    "    for cmd in array:\n",
    "        if cmd == 'L' and loc[1] > 1:\n",
    "            loc[1] -= 1\n",
    "        elif cmd == 'R' and loc[1] < N:\n",
    "            loc[1] += 1\n",
    "        elif cmd == 'U' and loc[0] > 1:\n",
    "            loc[0] -= 1\n",
    "        elif cmd == 'D' and loc[0] < N:\n",
    "            loc[0] += 1\n",
    "\n",
    "    print(' '.join(list(map(str, loc))))\n",
    "    \n",
    "solution(input1)"
   ]
  },
  {
   "cell_type": "code",
   "execution_count": 3,
   "metadata": {},
   "outputs": [
    {
     "name": "stdout",
     "output_type": "stream",
     "text": [
      "3 4\n",
      "Time : 0.0000000000e+00\n"
     ]
    }
   ],
   "source": [
    "@timer\n",
    "def solution(input1):\n",
    "    N = int(input1.split('\\n')[0])\n",
    "    plans = input1.split('\\n')[1:][0].split()\n",
    "\n",
    "    x, y = 1, 1\n",
    "    dx = [0, 0, -1, 1]\n",
    "    dy = [-1, 1, 0, 0]\n",
    "    move_types = ['L', 'R', 'U', 'D']\n",
    "\n",
    "    for plan in plans:\n",
    "        for i in range(len(move_types)):\n",
    "            if plan == move_types[i]:\n",
    "                nx = x + dx[i]\n",
    "                ny = y + dy[i]\n",
    "        if nx < 1 or ny < 1 or nx > N or ny > N:\n",
    "            continue\n",
    "\n",
    "        x, y = nx, ny\n",
    "\n",
    "    print(x, y)\n",
    "    \n",
    "solution(input1)"
   ]
  },
  {
   "cell_type": "markdown",
   "metadata": {},
   "source": [
    "# 시각"
   ]
  },
  {
   "cell_type": "code",
   "execution_count": 18,
   "metadata": {},
   "outputs": [
    {
     "name": "stdout",
     "output_type": "stream",
     "text": [
      "11475\n",
      "Time : 1.1959791183e-02\n"
     ]
    }
   ],
   "source": [
    "input1 = '''5'''\n",
    "\n",
    "@timer\n",
    "def solution(input1):\n",
    "    N = int(input1)\n",
    "    cnt = 0\n",
    "    s = 0\n",
    "    m = 0\n",
    "    h = 0\n",
    "    while h <= N:\n",
    "        if '3' in str(h) or '3' in str(m) or '3' in str(s):\n",
    "           cnt += 1 \n",
    "        s += 1\n",
    "        if s == 60:\n",
    "            s = 0\n",
    "            m += 1\n",
    "        if m == 60:\n",
    "            m = 0\n",
    "            h += 1\n",
    "\n",
    "    print(cnt)\n",
    "\n",
    "solution(input1)"
   ]
  },
  {
   "cell_type": "code",
   "execution_count": 19,
   "metadata": {},
   "outputs": [
    {
     "name": "stdout",
     "output_type": "stream",
     "text": [
      "11475\n",
      "Time : 1.5005350113e-02\n"
     ]
    }
   ],
   "source": [
    "@timer\n",
    "def solution(input1):\n",
    "    N = int(input1)\n",
    "    cnt = 0\n",
    "\n",
    "    for i in range(60):\n",
    "        for j in range(60):\n",
    "            for k in range(N + 1):\n",
    "                time = str(k) + str(j) + str(i)\n",
    "                if '3' in time:\n",
    "                    cnt += 1\n",
    "    print(cnt)\n",
    "    \n",
    "solution(input1)"
   ]
  },
  {
   "cell_type": "markdown",
   "metadata": {},
   "source": [
    "# 왕실의 나이트"
   ]
  },
  {
   "cell_type": "code",
   "execution_count": 103,
   "metadata": {},
   "outputs": [
    {
     "name": "stdout",
     "output_type": "stream",
     "text": [
      "2\n",
      "Time : 0.0000000000e+00\n",
      "6\n",
      "Time : 0.0000000000e+00\n"
     ]
    }
   ],
   "source": [
    "input1 = 'a1' # 2\n",
    "input2 = 'c2' # 6\n",
    "\n",
    "@timer\n",
    "def solution(input1):\n",
    "    import copy\n",
    "    \n",
    "    src = list(input1)\n",
    "    \n",
    "    # index로 숫자 매핑 \n",
    "    al = ['a', 'b', 'c', 'd', 'e', 'f', 'g', 'h']\n",
    "    num = list(map(str, [1, 2, 3, 4, 5, 6, 7, 8]))\n",
    "    assert src[0] in al and src[1] in num, 'invalid location info'\n",
    "    \n",
    "    src[0] = str(num[al.index(src[0])])\n",
    "    src = list(map(int, src))\n",
    "    \n",
    "#     # ord 함수는 알파벳의 유니코드를 반환\n",
    "#     src[0] = ord(src[0]) - ord('a') + 1\n",
    "#     src[1] = int(src[1])\n",
    "\n",
    "    cnt = 0\n",
    "    # (+2, +1), (+2, -1), (-2, +1), (-2, -1), (+1, +2), (-1, +2), (+1, -2), (-1, -2)\n",
    "    # x, y좌표가 각각 +2와 -2, +1와 -1로 구성 , x, y 좌표 자리를 바꿀 시 모든 경우의 수\n",
    "    for x in [2, -2]:\n",
    "        for y in [1, -1]:\n",
    "            for i in [True, False]:\n",
    "            # copy하지 않을 경우 src가 수정되어 버림\n",
    "                tmp = copy.copy(src)\n",
    "                tmp[int(i)] += x\n",
    "                tmp[int(not i)] += y\n",
    "            # 체스판 위를 나가지 않는 경우만 append\n",
    "                if 1 <= tmp[0] <= 8 and 1 <= tmp[1] <= 8:\n",
    "                    cnt += 1\n",
    "                    \n",
    "    print(cnt)\n",
    "    \n",
    "solution(input1)\n",
    "\n",
    "solution(input2)"
   ]
  },
  {
   "cell_type": "markdown",
   "metadata": {},
   "source": [
    "# 게임 개발\n",
    "- 순환하는 수열의 경우 나머지를 이요하면 편리\n",
    "- 방향 이동 문제의 경우, 이동 경우의 수를 리스트로 관리하면 편리"
   ]
  },
  {
   "cell_type": "code",
   "execution_count": 171,
   "metadata": {},
   "outputs": [],
   "source": [
    "input1 = '4 4'\n",
    "input2 = '1 1 0'\n",
    "input3 = '''1 1 1 1\n",
    "1 0 0 1\n",
    "1 1 0 1\n",
    "1 1 1 1'''\n",
    "\n",
    "input4 = '3 3'\n",
    "input5 = '1 1 0'\n",
    "input6 = '''1 1 0\n",
    "1 1 1\n",
    "1 0 0\n",
    "1 1 0'''"
   ]
  },
  {
   "cell_type": "code",
   "execution_count": 170,
   "metadata": {},
   "outputs": [
    {
     "name": "stdout",
     "output_type": "stream",
     "text": [
      "3\n",
      "Time : 0.0000000000e+00\n"
     ]
    }
   ],
   "source": [
    "@timer\n",
    "def solution(input1, input2, input3):\n",
    "    N, M = list(map(int, input1.split()))\n",
    "    loc = list(map(int, input2.split()[:2]))\n",
    "    # 0 = 위, 1 = 오른쪽, 2 = 아래, 3 = 왼쪽\n",
    "    direction = int(input2.split()[2])\n",
    "    moves = [(-1, 0), (0, 1), (1, 0), (0, -1)]\n",
    "    field = [list(map(int, m.split())) for m in input3.split('\\n')]\n",
    "    \n",
    "    # 현재 위치를 지나간 곳으로 체크\n",
    "    field[loc[0]][loc[1]] = -1\n",
    "    cnt = 1\n",
    "\n",
    "    # 현재 위치 기준 사방을 확인하는 함수 정의, 모두 가보지 않은 곳이면 False 반환\n",
    "    def check_around(loc):\n",
    "        down = field[loc[0] - 1][loc[1]] != 0\n",
    "        up = field[loc[0] + 1][loc[1]] != 0\n",
    "        left = field[loc[0]][loc[1] - 1] != 0 \n",
    "        right = field[loc[0]][loc[1] + 1] != 0\n",
    "        return False if down + up + left + right == 4 else True\n",
    "\n",
    "    while True:\n",
    "        # 1단계 : 왼쪽 회전 후 방향에 따른 이동거리 정의\n",
    "        direction = (direction - 1) % 4\n",
    "        dy = moves[direction][0]\n",
    "        dx = moves[direction][1]\n",
    "        new_loc = (loc[0] + dy, loc[1] + dx)\n",
    "        # 2단계 : 왼쪽이 가보지 않은 곳일 경우 위치를 이동, 카운팅\n",
    "        if field[new_loc[0]][new_loc[1]] == 0:\n",
    "            field[new_loc[0]][new_loc[1]] = -1\n",
    "            cnt += 1\n",
    "            loc = new_loc\n",
    "            continue\n",
    "        # 3단계 : 사방이 다 바다 혹은 가본 곳일 경우 뒤로 이동\n",
    "        if not check_around(loc):\n",
    "            dy = -(moves[direction][0])\n",
    "            dx = -(moves[direction][1])\n",
    "            new_loc = (loc[0] + dy, loc[1] + dx)\n",
    "            # 뒤가 바다일 경우 종료\n",
    "            if field[new_loc[0]][new_loc[1]] == 1:\n",
    "                break\n",
    "            loc = new_loc\n",
    "            continue\n",
    "            \n",
    "    print(cnt)\n",
    "\n",
    "solution(input1, input2, input3)"
   ]
  },
  {
   "cell_type": "code",
   "execution_count": 200,
   "metadata": {},
   "outputs": [
    {
     "name": "stdout",
     "output_type": "stream",
     "text": [
      "3\n",
      "Time : 0.0000000000e+00\n"
     ]
    }
   ],
   "source": [
    "@timer\n",
    "def solution(input1, input2, input3):\n",
    "    N, M = list(map(int, input1.split()))\n",
    "    x, y, direction = list(map(int, input2.split()))\n",
    "\n",
    "    dx = [-1, 0, 1, 0]\n",
    "    dy = [0, 1, 0, -1]\n",
    "\n",
    "    path = [[0] * M for _ in range(N)]\n",
    "    path[x][y] = 1\n",
    "    field = [list(map(int, row.split())) for row in input3.split('\\n')]\n",
    "\n",
    "    cnt = 1\n",
    "    n_turn = 0\n",
    "    while True:\n",
    "        direction = (direction - 1) % 4\n",
    "        nx = x + dx[direction]\n",
    "        ny = y + dy[direction]\n",
    "        if field[nx][ny] == 0 and path[nx][ny] ==0:\n",
    "            path[nx][ny] = 1\n",
    "            x, y = nx, ny\n",
    "            cnt += 1\n",
    "            n_turn = 0\n",
    "            continue\n",
    "        else:\n",
    "            n_turn += 1\n",
    "\n",
    "        if n_turn == 4:\n",
    "            nx = x - dx[direction]\n",
    "            ny = y - dy[direction]\n",
    "            if field[nx][ny] == 1:\n",
    "                break\n",
    "            x = nx\n",
    "            y = ny\n",
    "            n_turn = 0\n",
    "\n",
    "    print(cnt)        \n",
    "    \n",
    "solution(input1, input2, input3)"
   ]
  },
  {
   "cell_type": "markdown",
   "metadata": {},
   "source": [
    "# 아기 상어\n",
    "- N×N 크기의 공간에 물고기 M마리와 아기 상어 1마리가 있다. 공간은 1×1 크기의 정사각형 칸으로 나누어져 있다. 한 칸에는 물고기가 최대 1마리 존재한다.\n",
    "\n",
    "아기 상어와 물고기는 모두 크기를 가지고 있고, 이 크기는 자연수이다. 가장 처음에 아기 상어의 크기는 2이고, 아기 상어는 1초에 상하좌우로 인접한 한 칸씩 이동한다.\n",
    "\n",
    "아기 상어는 자신의 크기보다 큰 물고기가 있는 칸은 지나갈 수 없고, 나머지 칸은 모두 지나갈 수 있다. 아기 상어는 자신의 크기보다 작은 물고기만 먹을 수 있다. 따라서, 크기가 같은 물고기는 먹을 수 없지만, 그 물고기가 있는 칸은 지나갈 수 있다.\n",
    "\n",
    "아기 상어가 어디로 이동할지 결정하는 방법은 아래와 같다.\n",
    "\n",
    "더 이상 먹을 수 있는 물고기가 공간에 없다면 아기 상어는 엄마 상어에게 도움을 요청한다.\n",
    "먹을 수 있는 물고기가 1마리라면, 그 물고기를 먹으러 간다.\n",
    "먹을 수 있는 물고기가 1마리보다 많다면, 거리가 가장 가까운 물고기를 먹으러 간다.\n",
    "거리는 아기 상어가 있는 칸에서 물고기가 있는 칸으로 이동할 때, 지나야하는 칸의 개수의 최솟값이다.\n",
    "거리가 가까운 물고기가 많다면, 가장 위에 있는 물고기, 그러한 물고기가 여러마리라면, 가장 왼쪽에 있는 물고기를 먹는다.\n",
    "아기 상어의 이동은 1초 걸리고, 물고기를 먹는데 걸리는 시간은 없다고 가정한다. 즉, 아기 상어가 먹을 수 있는 물고기가 있는 칸으로 이동했다면, 이동과 동시에 물고기를 먹는다. 물고기를 먹으면, 그 칸은 빈 칸이 된다.\n",
    "\n",
    "아기 상어는 자신의 크기와 같은 수의 물고기를 먹을 때 마다 크기가 1 증가한다. 예를 들어, 크기가 2인 아기 상어는 물고기를 2마리 먹으면 크기가 3이 된다.\n",
    "\n",
    "공간의 상태가 주어졌을 때, 아기 상어가 몇 초 동안 엄마 상어에게 도움을 요청하지 않고 물고기를 잡아먹을 수 있는지 구하는 프로그램을 작성하시오.\n",
    "- 첫째 줄에 공간의 크기 N(2 ≤ N ≤ 20)이 주어진다.\n",
    "\n",
    "둘째 줄부터 N개의 줄에 공간의 상태가 주어진다. 공간의 상태는 0, 1, 2, 3, 4, 5, 6, 9로 이루어져 있고, 아래와 같은 의미를 가진다.\n",
    "\n",
    "0: 빈 칸\n",
    "1, 2, 3, 4, 5, 6: 칸에 있는 물고기의 크기\n",
    "9: 아기 상어의 위치\n",
    "아기 상어는 공간에 한 마리 있다."
   ]
  },
  {
   "cell_type": "code",
   "execution_count": 2,
   "metadata": {},
   "outputs": [],
   "source": [
    "input1 = '''3\n",
    "0 0 0\n",
    "0 0 0\n",
    "0 9 0''' # 0\n",
    "input2 = '''3\n",
    "0 0 1\n",
    "0 0 0\n",
    "0 9 0'''# 3\n",
    "input3 = '''4\n",
    "4 3 2 1\n",
    "0 0 0 0\n",
    "0 0 9 0\n",
    "1 2 3 4''' #14\n",
    "input4 = '''6\n",
    "5 4 3 2 3 4\n",
    "4 3 2 3 4 5\n",
    "3 2 9 5 6 6\n",
    "2 1 2 3 4 5\n",
    "3 2 1 6 5 4\n",
    "6 6 6 6 6 6''' #60\n",
    "input5 = '''6\n",
    "6 0 6 0 6 1\n",
    "0 0 0 0 0 2\n",
    "2 3 4 5 6 6\n",
    "0 0 0 0 0 2\n",
    "0 2 0 0 0 0\n",
    "3 9 3 0 0 1''' #48\n",
    "input6 = '''6\n",
    "1 1 1 1 1 1\n",
    "2 2 6 2 2 3\n",
    "2 2 5 2 2 3\n",
    "2 2 2 4 6 3\n",
    "0 0 0 0 0 6\n",
    "0 0 0 0 0 9''' #39"
   ]
  },
  {
   "cell_type": "code",
   "execution_count": 3,
   "metadata": {},
   "outputs": [
    {
     "name": "stdout",
     "output_type": "stream",
     "text": [
      "[[0 0 0]\n",
      " [0 0 0]\n",
      " [0 1 0]]\n",
      "[[0 0 0]\n",
      " [0 2 0]\n",
      " [2 1 2]]\n",
      "[[0 3 0]\n",
      " [3 2 3]\n",
      " [2 1 2]]\n",
      "[[0 3 0]\n",
      " [3 2 3]\n",
      " [2 1 2]]\n",
      "[[0 3 0]\n",
      " [3 2 3]\n",
      " [2 1 2]]\n"
     ]
    },
    {
     "data": {
      "text/plain": [
       "7"
      ]
     },
     "execution_count": 3,
     "metadata": {},
     "output_type": "execute_result"
    }
   ],
   "source": [
    "from collections import deque\n",
    "\n",
    "N = int(input2.split('\\n')[0])\n",
    "graph = [list(map(int, row.split())) for row in input2.split('\\n')[1:]]\n",
    "visited = [[0] * N for _ in range(N)]\n",
    "\n",
    "size = 2\n",
    "feed = 0\n",
    "\n",
    "# bfs를 사용하여 한칸씩 확장해가면서 가장 먼저 만나는 물고기를 먹는다.\n",
    "\n",
    "# 상 하 좌 우\n",
    "dx = [-1, 1, 0, 0]\n",
    "dy = [0, 0, -1, 1]\n",
    "\n",
    "def bfs(x, y):\n",
    "    global feed\n",
    "    visited[x][y] = 1\n",
    "    dist = 0\n",
    "    \n",
    "    queue = deque()\n",
    "    queue.append((x, y))\n",
    "    \n",
    "    while deque:\n",
    "        print(np.array(visited))\n",
    "        x, y = queue.popleft()\n",
    "        for i in range(4):\n",
    "            nx = x + dx[i]\n",
    "            ny = y + dy[i]\n",
    "            if nx < 0 or ny < 0 or nx >= N or ny >= N:\n",
    "                continue\n",
    "            if graph[nx][ny] == 0 and visited[nx][ny] == 0:\n",
    "                visited[nx][ny] = visited[x][y] + 1\n",
    "                queue.append((nx, ny))\n",
    "                dist += 1\n",
    "            if graph[nx][ny] < size and graph[nx][ny] != 0:\n",
    "                feed += 1\n",
    "                return dist\n",
    "bfs(2, 1)                "
   ]
  },
  {
   "cell_type": "code",
   "execution_count": 5,
   "metadata": {},
   "outputs": [],
   "source": [
    "from collections import deque\n",
    "\n",
    "N = int(input2.split('\\n')[0])\n",
    "graph = [list(map(int, row.split())) for row in input2.split('\\n')[1:]]\n",
    "visited = [[0] * N for _ in range(N)]\n",
    "\n",
    "size = 2\n",
    "feed = 0\n",
    "\n",
    "# dfs를 사용하여 재귀적으로 함수를 관리하여 최단거리를 찾음\n",
    "dist = 0\n",
    "def dfs(x, y):\n",
    "    global dist\n",
    "    dist += 1\n",
    "    visited[x][y] = 1\n",
    "    if graph[x][y] < size and graph[x][y] != 0:\n",
    "        return dist\n",
    "    if x < 0 or y < 0 or x >= N or y >= N:\n",
    "        pass\n",
    "    if graph[x][y] <= size and visited[x][y] == 0:\n",
    "        graph[x][y] = 987654321\n",
    "        dfs(x + 1, y)\n",
    "        dfs(x - 1, y)\n",
    "        dfs(x, y + 1)\n",
    "        dfs(x, y - 1)\n",
    "        return x, y\n",
    "        \n",
    "        \n",
    "dfs(2, 1)"
   ]
  },
  {
   "cell_type": "code",
   "execution_count": 331,
   "metadata": {},
   "outputs": [
    {
     "name": "stdout",
     "output_type": "stream",
     "text": [
      "0\n",
      "3\n",
      "14\n",
      "60\n",
      "28\n",
      "33\n"
     ]
    }
   ],
   "source": [
    "def solution(input2):\n",
    "    N = int(input2.split('\\n')[0])\n",
    "    field = [list(map(int, row.split())) for row in input2.split('\\n')[1:]]\n",
    "    size = 2\n",
    "    feed = 0\n",
    "    total_dist = 0\n",
    "    \n",
    "    for n in range(N):\n",
    "        if 9 in field[n]:\n",
    "            x, y = n, field[n].index(9)\n",
    "            \n",
    "    while True:\n",
    "        min_dist = 99999\n",
    "\n",
    "        # 거리 구하기\n",
    "        for i in range(N):\n",
    "            for j in range(N):\n",
    "                target = field[i][j]\n",
    "                # 물고기가 존재하는 좌표에 대해서 좌표와 거리를 저장\n",
    "                if target != 0 and target != 9 and target < size:\n",
    "                    dist = abs(x - i) + abs(y - j)\n",
    "                    # 최단거리인 경우, 먹을 수 있는 경우를 저장\n",
    "                    if dist < min_dist:\n",
    "                        min_dist = dist\n",
    "                        nx, ny = i, j\n",
    "\n",
    "        if min_dist == 99999:\n",
    "            break\n",
    "        total_dist += min_dist\n",
    "        x, y = nx, ny\n",
    "        field[x][y] = 0\n",
    "\n",
    "        feed += 1\n",
    "        if feed == size:\n",
    "            feed = 0\n",
    "            size += 1\n",
    "            continue\n",
    "        \n",
    "    print(total_dist)\n",
    "\n",
    "solution(input1)    \n",
    "solution(input2)\n",
    "solution(input3)\n",
    "solution(input4)\n",
    "solution(input5) # X\n",
    "solution(input6) # X\n",
    "# 경로상에 큰 물고기가 가로막고있는 경우를 처리해야 함"
   ]
  },
  {
   "cell_type": "markdown",
   "metadata": {},
   "source": [
    "# 럭키 스트레이트"
   ]
  },
  {
   "cell_type": "code",
   "execution_count": 15,
   "metadata": {},
   "outputs": [
    {
     "name": "stdout",
     "output_type": "stream",
     "text": [
      "LUCKY\n",
      "READY\n"
     ]
    }
   ],
   "source": [
    "input1 = '''123402'''\n",
    "input2 = '''7755'''\n",
    "\n",
    "def solution(input1):\n",
    "    array = list(map(int, input1))\n",
    "    mid = len(array) // 2\n",
    "    print('LUCKY' if sum(array[:mid]) == sum(array[mid:]) else 'READY')\n",
    "\n",
    "solution(input1)\n",
    "solution(input2)"
   ]
  },
  {
   "cell_type": "markdown",
   "metadata": {},
   "source": [
    "# 문자열 재정렬"
   ]
  },
  {
   "cell_type": "code",
   "execution_count": 31,
   "metadata": {},
   "outputs": [
    {
     "name": "stdout",
     "output_type": "stream",
     "text": [
      "ABCKK13\n",
      "ADDIJJJKKLSS20\n"
     ]
    }
   ],
   "source": [
    "input1 = '''K1KA5CB7'''\n",
    "input2 = '''AJKDLSI412K4JSJ9D'''\n",
    "\n",
    "def solution(input1):\n",
    "    array = list(map(str, input1))\n",
    "    str_array = []\n",
    "    int_array = []\n",
    "\n",
    "    for i in array:\n",
    "        try:\n",
    "            int_array.append(int(i))\n",
    "        except:\n",
    "            str_array.append((ord(i) - ord('A') + 1, i))\n",
    "\n",
    "    result = []\n",
    "    str_array.sort()\n",
    "    for _, i in str_array:\n",
    "        result.append(i)\n",
    "    result.append(str(sum(int_array)))\n",
    "    print(''.join(result))\n",
    "    \n",
    "solution(input1)\n",
    "solution(input2)"
   ]
  },
  {
   "cell_type": "markdown",
   "metadata": {},
   "source": [
    "# 문자열 압축"
   ]
  },
  {
   "cell_type": "code",
   "execution_count": 163,
   "metadata": {},
   "outputs": [
    {
     "name": "stdout",
     "output_type": "stream",
     "text": [
      "['a', 'a', 'b', 'b', 'a', 'c', 'c', 'c']\n",
      "['aa', 'bb', 'ac', 'cc']\n",
      "['aab', 'bac', 'cc']\n",
      "['aabb', 'accc']\n",
      "7\n",
      "['a', 'b', 'a', 'b', 'c', 'd', 'c', 'd', 'a', 'b', 'a', 'b', 'c', 'd', 'c', 'd']\n",
      "['ab', 'ab', 'cd', 'cd', 'ab', 'ab', 'cd', 'cd']\n",
      "['aba', 'bcd', 'cda', 'bab', 'cdc', 'd']\n",
      "['abab', 'cdcd', 'abab', 'cdcd']\n",
      "['ababc', 'dcdab', 'abcdc', 'd']\n",
      "['ababcd', 'cdabab', 'cdcd']\n",
      "['ababcdc', 'dababcd', 'cd']\n",
      "['ababcdcd', 'ababcdcd']\n",
      "9\n",
      "['a', 'b', 'c', 'a', 'b', 'c', 'd', 'e', 'd', 'e']\n",
      "['ab', 'ca', 'bc', 'de', 'de']\n",
      "['abc', 'abc', 'ded', 'e']\n",
      "['abca', 'bcde', 'de']\n",
      "['abcab', 'cdede']\n",
      "8\n",
      "['a', 'b', 'c', 'a', 'b', 'c', 'a', 'b', 'c', 'a', 'b', 'c', 'd', 'e', 'd', 'e', 'd', 'e', 'd', 'e', 'd', 'e', 'd', 'e']\n",
      "['ab', 'ca', 'bc', 'ab', 'ca', 'bc', 'de', 'de', 'de', 'de', 'de', 'de']\n",
      "['abc', 'abc', 'abc', 'abc', 'ded', 'ede', 'ded', 'ede']\n",
      "['abca', 'bcab', 'cabc', 'dede', 'dede', 'dede']\n",
      "['abcab', 'cabca', 'bcded', 'edede', 'dede']\n",
      "['abcabc', 'abcabc', 'dedede', 'dedede']\n",
      "['abcabca', 'bcabcde', 'dededed', 'ede']\n",
      "['abcabcab', 'cabcdede', 'dededede']\n",
      "['abcabcabc', 'abcdedede', 'dedede']\n",
      "['abcabcabca', 'bcdededede', 'dede']\n",
      "['abcabcabcab', 'cdedededede', 'de']\n",
      "['abcabcabcabc', 'dededededede']\n",
      "14\n",
      "['x', 'a', 'b', 'a', 'b', 'c', 'd', 'c', 'd', 'a', 'b', 'a', 'b', 'c', 'd', 'c', 'd']\n",
      "['xa', 'ba', 'bc', 'dc', 'da', 'ba', 'bc', 'dc', 'd']\n",
      "['xab', 'abc', 'dcd', 'aba', 'bcd', 'cd']\n",
      "['xaba', 'bcdc', 'daba', 'bcdc', 'd']\n",
      "['xabab', 'cdcda', 'babcd', 'cd']\n",
      "['xababc', 'dcdaba', 'bcdcd']\n",
      "['xababcd', 'cdababc', 'dcd']\n",
      "['xababcdc', 'dababcdc', 'd']\n",
      "17\n",
      "['a', 'b', 'c', 'd', 'e', 'f', 'g', 'a', 'b', 'c', 'd', 'e', 'f', 'g']\n",
      "['ab', 'cd', 'ef', 'ga', 'bc', 'de', 'fg']\n",
      "['abc', 'def', 'gab', 'cde', 'fg']\n",
      "['abcd', 'efga', 'bcde', 'fg']\n",
      "['abcde', 'fgabc', 'defg']\n",
      "['abcdef', 'gabcde', 'fg']\n",
      "['abcdefg', 'abcdefg']\n",
      "8\n"
     ]
    }
   ],
   "source": [
    "input1 = '''aabbaccc'''\n",
    "input2 = '''ababcdcdababcdcd'''\n",
    "input3 = '''abcabcdede'''\n",
    "input4 = '''abcabcabcabcdededededede'''\n",
    "input5 = '''xababcdcdababcdcd'''\n",
    "input6 = '''abcdefgabcdefg'''\n",
    "\n",
    "\n",
    "def solution(input1):\n",
    "    s = input1\n",
    "    length = len(s)\n",
    "    compressed = ''\n",
    "    cnt = 1\n",
    "    min_cnt = 987654321\n",
    "    \n",
    "    for n in range(1, length // 2 + 1):\n",
    "        ngrams = []\n",
    "        for i in range(0, length, n):\n",
    "            if s[i:i + n] != '':\n",
    "                ngrams.append(s[i:i + n])\n",
    "        print(ngrams)\n",
    "        for i in range(len(ngrams) - 1):\n",
    "            if ngrams[i] == ngrams[i + 1]:\n",
    "                cnt += 1\n",
    "            else:\n",
    "                if cnt > 1:\n",
    "                    compressed += str(cnt) + ngrams[i]\n",
    "                    cnt = 1\n",
    "                else:\n",
    "                    compressed += ngrams[i]\n",
    "\n",
    "        if cnt > 1:\n",
    "            compressed += str(cnt) + ngrams[-1]\n",
    "            cnt = 1\n",
    "        else:\n",
    "            compressed += ngrams[-1]\n",
    "\n",
    "        min_cnt = min(min_cnt, len(compressed))\n",
    "        compressed = ''\n",
    "\n",
    "    print(min_cnt)\n",
    "    \n",
    "solution(input1)\n",
    "solution(input2)\n",
    "solution(input3)\n",
    "solution(input4)\n",
    "solution(input5)\n",
    "solution(input6)"
   ]
  },
  {
   "cell_type": "code",
   "execution_count": 131,
   "metadata": {},
   "outputs": [
    {
     "data": {
      "text/plain": [
       "['aabb', 'accc']"
      ]
     },
     "execution_count": 131,
     "metadata": {},
     "output_type": "execute_result"
    }
   ],
   "source": [
    "    ngrams"
   ]
  },
  {
   "cell_type": "code",
   "execution_count": null,
   "metadata": {},
   "outputs": [],
   "source": []
  }
 ],
 "metadata": {
  "kernelspec": {
   "display_name": "Python 3",
   "language": "python",
   "name": "python3"
  },
  "language_info": {
   "codemirror_mode": {
    "name": "ipython",
    "version": 3
   },
   "file_extension": ".py",
   "mimetype": "text/x-python",
   "name": "python",
   "nbconvert_exporter": "python",
   "pygments_lexer": "ipython3",
   "version": "3.8.5"
  }
 },
 "nbformat": 4,
 "nbformat_minor": 4
}

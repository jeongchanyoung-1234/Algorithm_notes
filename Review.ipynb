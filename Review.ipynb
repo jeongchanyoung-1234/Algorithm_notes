{
 "cells": [
  {
   "cell_type": "code",
   "execution_count": 25,
   "metadata": {},
   "outputs": [
    {
     "name": "stdout",
     "output_type": "stream",
     "text": [
      "5 8 3\n",
      "2 4 5 4 6\n",
      "46\n"
     ]
    }
   ],
   "source": [
    "# 큰 수의 법칙\n",
    "n, m, k = list(map(int, input().split()))\n",
    "array = list(map(int, input().split()))\n",
    "\n",
    "array.sort(reverse=True)\n",
    "# 가장 큰 수가 k번, 두번째로 큰 수가 1번 나오는 것이 반복\n",
    "sub = [array[0] for _ in range(k)] + [array[1]]\n",
    "result = sum(sub) * (m // (k + 1)) + \\\n",
    "         array[0] * (m % (k + 1))\n",
    "print(result)"
   ]
  },
  {
   "cell_type": "code",
   "execution_count": 30,
   "metadata": {},
   "outputs": [
    {
     "name": "stdout",
     "output_type": "stream",
     "text": [
      "2 4\n",
      "7 3 1 8\n",
      "3 3 3 4\n",
      "3\n"
     ]
    }
   ],
   "source": [
    "# 숫자 카드 게임\n",
    "n, m = list(map(int, input().split()))\n",
    "array = []\n",
    "for _ in range(n):\n",
    "    array.append(list(map(int, input().split())))\n",
    "result = []\n",
    "for i in range(n):\n",
    "    result.append(min(array[i]))\n",
    "print(max(result))"
   ]
  },
  {
   "cell_type": "code",
   "execution_count": 34,
   "metadata": {},
   "outputs": [
    {
     "name": "stdout",
     "output_type": "stream",
     "text": [
      "25 5\n",
      "2\n"
     ]
    }
   ],
   "source": [
    "# 1이 될 때까지\n",
    "n, k = list(map(int, input().split()))\n",
    "cnt = 0\n",
    "m = n\n",
    "while m != 1:\n",
    "    m = m // k if m % k == 0 else m - 1\n",
    "    cnt += 1\n",
    "print(cnt)"
   ]
  },
  {
   "cell_type": "code",
   "execution_count": 41,
   "metadata": {},
   "outputs": [
    {
     "name": "stdout",
     "output_type": "stream",
     "text": [
      "5\n",
      "R R R U D D\n",
      "3 4\n"
     ]
    }
   ],
   "source": [
    "# 상하좌우\n",
    "n = int(input())\n",
    "cmd = list(input().split())\n",
    "\n",
    "x = 1\n",
    "y = 1\n",
    "\n",
    "moves = ['L', 'R', 'U', 'D']\n",
    "dx = [0, 0, -1, 1]\n",
    "dy = [-1, 1, 0, 0]\n",
    "for c in cmd:\n",
    "    i = moves.index(c)\n",
    "    nx, ny = x + dx[i], y + dy[i]\n",
    "    if 1 <= nx <= n and 1 <= ny <= n:\n",
    "        x = nx\n",
    "        y = ny\n",
    "\n",
    "print(x, y)"
   ]
  },
  {
   "cell_type": "code",
   "execution_count": 45,
   "metadata": {},
   "outputs": [
    {
     "name": "stdout",
     "output_type": "stream",
     "text": [
      "5\n",
      "11475\n"
     ]
    }
   ],
   "source": [
    "# 시각\n",
    "n = int(input())\n",
    "h, m, s = 0, 0, 0\n",
    "cnt = 0\n",
    "while h <= n:\n",
    "    if s == 60:\n",
    "        m += 1\n",
    "        s = 0\n",
    "    if m == 60:\n",
    "        h += 1\n",
    "        m = 0\n",
    "    if '3' in str(h) or '3' in str(m) or '3' in str(s):\n",
    "        cnt += 1\n",
    "    s += 1\n",
    "print(cnt)"
   ]
  },
  {
   "cell_type": "code",
   "execution_count": 69,
   "metadata": {},
   "outputs": [
    {
     "name": "stdout",
     "output_type": "stream",
     "text": [
      "a1\n",
      "2\n"
     ]
    }
   ],
   "source": [
    "# 왕실의 나이트\n",
    "loc = tuple(input())\n",
    "loc = (ord(loc[0]) - ord('a') + 1, int(loc[1]))\n",
    "\n",
    "moves = [(2, -1), (2, 1), (-2, 1), (-2, -1), (1, -2), (1, 2), (-1, 2), (-1, -2)]\n",
    "x, y = loc\n",
    "cnt = 0\n",
    "\n",
    "for dx, dy in moves:\n",
    "    nx, ny = x + dx, y + dy\n",
    "    if 1 <= nx <= 8 and 1 <= ny <=8:\n",
    "        cnt += 1\n",
    "print(cnt)"
   ]
  },
  {
   "cell_type": "code",
   "execution_count": 130,
   "metadata": {},
   "outputs": [
    {
     "name": "stdout",
     "output_type": "stream",
     "text": [
      "3 3\n",
      "1 1 0\n",
      "1 1 1\n",
      "1 0 0\n",
      "1 1 0\n"
     ]
    },
    {
     "ename": "KeyboardInterrupt",
     "evalue": "",
     "output_type": "error",
     "traceback": [
      "\u001b[1;31m---------------------------------------------------------------------------\u001b[0m",
      "\u001b[1;31mKeyboardInterrupt\u001b[0m                         Traceback (most recent call last)",
      "\u001b[1;32m<ipython-input-130-7b97342999d9>\u001b[0m in \u001b[0;36m<module>\u001b[1;34m\u001b[0m\n\u001b[0;32m     16\u001b[0m     \u001b[1;32mif\u001b[0m \u001b[0mturn_cnt\u001b[0m \u001b[1;33m==\u001b[0m \u001b[1;36m4\u001b[0m\u001b[1;33m:\u001b[0m\u001b[1;33m\u001b[0m\u001b[1;33m\u001b[0m\u001b[0m\n\u001b[0;32m     17\u001b[0m         \u001b[0mnx\u001b[0m\u001b[1;33m,\u001b[0m \u001b[0mny\u001b[0m \u001b[1;33m=\u001b[0m \u001b[0mx\u001b[0m \u001b[1;33m-\u001b[0m \u001b[0mdx\u001b[0m\u001b[1;33m[\u001b[0m\u001b[0mdirection\u001b[0m\u001b[1;33m]\u001b[0m\u001b[1;33m,\u001b[0m \u001b[0my\u001b[0m \u001b[1;33m-\u001b[0m \u001b[0mdy\u001b[0m\u001b[1;33m[\u001b[0m\u001b[0mdirection\u001b[0m\u001b[1;33m]\u001b[0m\u001b[1;33m\u001b[0m\u001b[1;33m\u001b[0m\u001b[0m\n\u001b[1;32m---> 18\u001b[1;33m         \u001b[1;32mif\u001b[0m \u001b[0mnx\u001b[0m \u001b[1;33m<\u001b[0m \u001b[1;36m0\u001b[0m \u001b[1;32mor\u001b[0m \u001b[0mnx\u001b[0m \u001b[1;33m>=\u001b[0m \u001b[0mn\u001b[0m \u001b[1;32mor\u001b[0m \u001b[0mny\u001b[0m \u001b[1;33m<\u001b[0m \u001b[1;36m0\u001b[0m \u001b[1;32mor\u001b[0m \u001b[0mny\u001b[0m \u001b[1;33m>=\u001b[0m \u001b[0mm\u001b[0m\u001b[1;33m:\u001b[0m\u001b[1;33m\u001b[0m\u001b[1;33m\u001b[0m\u001b[0m\n\u001b[0m\u001b[0;32m     19\u001b[0m             \u001b[1;32mcontinue\u001b[0m\u001b[1;33m\u001b[0m\u001b[1;33m\u001b[0m\u001b[0m\n\u001b[0;32m     20\u001b[0m         \u001b[1;32mif\u001b[0m \u001b[0marray\u001b[0m\u001b[1;33m[\u001b[0m\u001b[0mnx\u001b[0m\u001b[1;33m]\u001b[0m\u001b[1;33m[\u001b[0m\u001b[0mny\u001b[0m\u001b[1;33m]\u001b[0m \u001b[1;33m==\u001b[0m \u001b[1;36m1\u001b[0m\u001b[1;33m:\u001b[0m\u001b[1;33m\u001b[0m\u001b[1;33m\u001b[0m\u001b[0m\n",
      "\u001b[1;31mKeyboardInterrupt\u001b[0m: "
     ]
    }
   ],
   "source": [
    "# 게임 개발\n",
    "n, m = list(map(int, input().split()))\n",
    "x, y, direction = list(map(int, input().split()))\n",
    "array = [[] for _ in range(n)]\n",
    "for i in range(n):\n",
    "    array[i] = list(map(int, input().split()))\n",
    "    \n",
    "visited = [[False] * n for _ in range(n)]\n",
    "# 북, 동, 남, 서\n",
    "dx = [-1, 0, 1, 0]\n",
    "dy = [0, 1, 0, -1]\n",
    "\n",
    "visited[x][y] = True\n",
    "turn_cnt = 0\n",
    "while True:\n",
    "    if turn_cnt == 4:\n",
    "        nx, ny = x - dx[direction], y - dy[direction]\n",
    "        if array[nx][ny] == 1:\n",
    "            break\n",
    "        x, y = nx, ny\n",
    "        visited[x][y] = True\n",
    "        turn_cnt = 0\n",
    "        \n",
    "    direction = (direction - 1) % 4\n",
    "    nx, ny = x + dx[direction], y + dy[direction]\n",
    "    if nx < 0 or nx >= n or ny < 0 or ny >= m:\n",
    "        continue\n",
    "    if array[nx][ny] == 1 or visited[nx][ny]:\n",
    "        direction = (direction - 1) % 4\n",
    "        turn_cnt += 1\n",
    "        continue\n",
    "    x, y = nx, ny\n",
    "    visited[x][y] = True\n",
    "\n",
    "result = 0\n",
    "for i in visited:\n",
    "    result += sum(i)\n",
    "print(result)"
   ]
  },
  {
   "cell_type": "code",
   "execution_count": null,
   "metadata": {},
   "outputs": [],
   "source": []
  }
 ],
 "metadata": {
  "kernelspec": {
   "display_name": "Python 3",
   "language": "python",
   "name": "python3"
  },
  "language_info": {
   "codemirror_mode": {
    "name": "ipython",
    "version": 3
   },
   "file_extension": ".py",
   "mimetype": "text/x-python",
   "name": "python",
   "nbconvert_exporter": "python",
   "pygments_lexer": "ipython3",
   "version": "3.8.5"
  }
 },
 "nbformat": 4,
 "nbformat_minor": 4
}

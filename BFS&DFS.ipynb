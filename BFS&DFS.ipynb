{
 "cells": [
  {
   "cell_type": "markdown",
   "metadata": {},
   "source": [
    "# DFS / BFS"
   ]
  },
  {
   "cell_type": "code",
   "execution_count": 95,
   "metadata": {},
   "outputs": [],
   "source": [
    "def timer(func):\n",
    "    import time\n",
    "    def wrapper(*args, **kwargs):\n",
    "        start = time.time()\n",
    "        func(*args, **kwargs)\n",
    "        end = time.time()\n",
    "        print('{:.10f}'.format(end - start))\n",
    "    return wrapper"
   ]
  },
  {
   "cell_type": "markdown",
   "metadata": {},
   "source": [
    "## Stack"
   ]
  },
  {
   "cell_type": "code",
   "execution_count": 2,
   "metadata": {},
   "outputs": [
    {
     "name": "stdout",
     "output_type": "stream",
     "text": [
      "3\n"
     ]
    },
    {
     "data": {
      "text/plain": [
       "[1, 2]"
      ]
     },
     "execution_count": 2,
     "metadata": {},
     "output_type": "execute_result"
    }
   ],
   "source": [
    "stack = []\n",
    "stack.append(1)\n",
    "stack.append(2)\n",
    "stack.append(3)\n",
    "\n",
    "print(stack.pop())\n",
    "stack"
   ]
  },
  {
   "cell_type": "markdown",
   "metadata": {},
   "source": [
    "## Queue"
   ]
  },
  {
   "cell_type": "code",
   "execution_count": 3,
   "metadata": {},
   "outputs": [
    {
     "name": "stdout",
     "output_type": "stream",
     "text": [
      "1\n"
     ]
    },
    {
     "data": {
      "text/plain": [
       "deque([2, 3])"
      ]
     },
     "execution_count": 3,
     "metadata": {},
     "output_type": "execute_result"
    }
   ],
   "source": [
    "from collections import deque\n",
    "\n",
    "queue = deque()\n",
    "queue.append(1)\n",
    "queue.append(2)\n",
    "queue.append(3)\n",
    "\n",
    "print(queue.popleft())\n",
    "queue"
   ]
  },
  {
   "cell_type": "markdown",
   "metadata": {},
   "source": [
    "## Recursive"
   ]
  },
  {
   "cell_type": "code",
   "execution_count": 9,
   "metadata": {},
   "outputs": [
    {
     "name": "stdout",
     "output_type": "stream",
     "text": [
      "iterative 3628800\n",
      "0.0000000000\n",
      "recursive 3628800\n",
      "0.0000000000\n"
     ]
    }
   ],
   "source": [
    "def comparison(n):\n",
    "    assert n > 0\n",
    "    import time\n",
    "    \n",
    "    def factorial_iterative(n):\n",
    "        result = 1\n",
    "        for i in range(1, n + 1):\n",
    "            result *= i\n",
    "        return result\n",
    "    \n",
    "    start = time.time()\n",
    "    print('iterative', factorial_iterative(n))\n",
    "    end = time.time()\n",
    "    print('{:.10f}'.format(end-start))\n",
    "    \n",
    "    def factorial_recursive(n):\n",
    "        if n <= 1:\n",
    "            return 1\n",
    "        return n * factorial_recursive(n - 1)\n",
    "    \n",
    "    start = time.time()\n",
    "    print('recursive', factorial_recursive(n))\n",
    "    end = time.time()\n",
    "    print('{:.10f}'.format(end-start))\n",
    "    \n",
    "comparison(10)"
   ]
  },
  {
   "cell_type": "markdown",
   "metadata": {},
   "source": [
    "# DFS : 깊이 우선 탐색"
   ]
  },
  {
   "cell_type": "markdown",
   "metadata": {},
   "source": [
    "## 인접 행렬\n",
    "- 메모리 비효율\n",
    "- 조회가 빠름"
   ]
  },
  {
   "cell_type": "code",
   "execution_count": 11,
   "metadata": {},
   "outputs": [
    {
     "name": "stdout",
     "output_type": "stream",
     "text": [
      "[[        0         7         5]\n",
      " [        7         0 987654321]\n",
      " [        5 987654321         5]]\n"
     ]
    }
   ],
   "source": [
    "inf = 987654321\n",
    "graph = [[0, 7, 5], \n",
    "         [7, 0, inf],\n",
    "         [5, inf, 5]]\n",
    "print(np.array(graph))"
   ]
  },
  {
   "cell_type": "markdown",
   "metadata": {},
   "source": [
    "## 인접 리스트\n",
    "- 메모리 효율\n",
    "- 조회가 느림"
   ]
  },
  {
   "cell_type": "code",
   "execution_count": 17,
   "metadata": {},
   "outputs": [
    {
     "name": "stdout",
     "output_type": "stream",
     "text": [
      "[[(1, 7), (2, 5)], [(0, 7)], [(0, 5)]]\n"
     ]
    }
   ],
   "source": [
    "graph = [[] for _ in range(3)]\n",
    "\n",
    "graph[0].append((1, 7))\n",
    "graph[0].append((2, 5))\n",
    "\n",
    "graph[1].append((0, 7))\n",
    "\n",
    "graph[2].append((0, 5))\n",
    "\n",
    "print(graph)"
   ]
  },
  {
   "cell_type": "code",
   "execution_count": 29,
   "metadata": {},
   "outputs": [
    {
     "name": "stdout",
     "output_type": "stream",
     "text": [
      "1 2 7 6 8 3 4 5 None\n"
     ]
    }
   ],
   "source": [
    "def dfs(graph, v, visited):\n",
    "    visited[v] = True\n",
    "    print(v, end=' ')\n",
    "\n",
    "    for i in graph[v]:\n",
    "        if not visited[i]:\n",
    "            dfs(graph, i, visited)\n",
    "\n",
    "graph = [\n",
    "    [],\n",
    "    [2, 3, 8],\n",
    "    [1, 7],\n",
    "    [1, 4, 5],\n",
    "    [3, 5],\n",
    "    [3, 4],\n",
    "    [7],\n",
    "    [2, 6, 8],\n",
    "    [1, 7]\n",
    "]\n",
    "\n",
    "visited = [False] * 9\n",
    "\n",
    "print(dfs(graph, 1, visited))"
   ]
  },
  {
   "cell_type": "markdown",
   "metadata": {},
   "source": [
    "# BFS : 너비 우선 탐색"
   ]
  },
  {
   "cell_type": "code",
   "execution_count": 31,
   "metadata": {},
   "outputs": [
    {
     "name": "stdout",
     "output_type": "stream",
     "text": [
      "1 2 3 8 7 4 5 6 "
     ]
    }
   ],
   "source": [
    "from collections import deque\n",
    "\n",
    "def bfs(graph, start, visited):\n",
    "    queue = deque([start])\n",
    "    visited[start] = True\n",
    "    \n",
    "    while queue:\n",
    "        v = queue.popleft()\n",
    "        print(v, end=' ')\n",
    "        for i in graph[v]:\n",
    "            if not visited[i]:\n",
    "                queue.append(i)\n",
    "                visited[i] = True\n",
    "                \n",
    "graph = [\n",
    "    [],\n",
    "    [2, 3, 8],\n",
    "    [1, 7],\n",
    "    [1, 4, 5],\n",
    "    [3, 5],\n",
    "    [3, 4],\n",
    "    [7],\n",
    "    [2, 6, 8],\n",
    "    [1, 7]\n",
    "]\n",
    "\n",
    "visited = [False] * 9\n",
    "\n",
    "bfs(graph, 1, visited)"
   ]
  },
  {
   "cell_type": "markdown",
   "metadata": {},
   "source": [
    "## 음료수 얼려먹기"
   ]
  },
  {
   "cell_type": "code",
   "execution_count": 3,
   "metadata": {},
   "outputs": [],
   "source": [
    "input1 = '''00110\n",
    "00011\n",
    "11111\n",
    "00000'''\n",
    "\n",
    "input2 = '''00000111100000\n",
    "11111101111110\n",
    "11011101101110\n",
    "11011101100000\n",
    "11011111111111\n",
    "11011111111100\n",
    "11000000011111\n",
    "01111111111111\n",
    "00000000011111\n",
    "01111111111000\n",
    "00011111111000\n",
    "00000001111000\n",
    "00000001111000\n",
    "11111111110011\n",
    "11100011111111\n",
    "11100011111111'''"
   ]
  },
  {
   "cell_type": "code",
   "execution_count": 151,
   "metadata": {},
   "outputs": [
    {
     "name": "stdout",
     "output_type": "stream",
     "text": [
      "3\n",
      "0.0000000000\n",
      "8\n",
      "0.0000000000\n"
     ]
    }
   ],
   "source": [
    "@timer\n",
    "def dfs(input1):\n",
    "    graph = [list(map(int, row)) for row in input1.split('\\n')]\n",
    "    n = len(graph)\n",
    "    m = len(graph[0])\n",
    "    visited = [[False] * m for _ in range(n)]\n",
    "\n",
    "    def dfs(x, y, visited):\n",
    "        if x < 0 or y < 0 or x >= n or y >= m:\n",
    "            return False\n",
    "        if not visited[x][y] and graph[x][y] == 0:\n",
    "            visited[x][y] = True\n",
    "            dfs(x + 1, y, visited)\n",
    "            dfs(x - 1, y, visited)\n",
    "            dfs(x, y + 1, visited)\n",
    "            dfs(x, y - 1, visited)\n",
    "            return True\n",
    "        return False\n",
    "\n",
    "    cnt = 0\n",
    "    for i in range(n):\n",
    "        for j in range(m):\n",
    "            if dfs(i, j, visited):\n",
    "                cnt += 1\n",
    "    print(cnt)\n",
    "dfs(input1)\n",
    "dfs(input2)"
   ]
  },
  {
   "cell_type": "code",
   "execution_count": 152,
   "metadata": {},
   "outputs": [
    {
     "name": "stdout",
     "output_type": "stream",
     "text": [
      "3\n",
      "0.0000000000\n",
      "8\n",
      "0.0009756088\n"
     ]
    }
   ],
   "source": [
    "@timer\n",
    "def solution(input1):\n",
    "    graph = [list(map(int, row)) for row in input1.split()]\n",
    "    N = len(graph)\n",
    "    M = len(graph[0])\n",
    "\n",
    "    def dfs(x, y):\n",
    "        # 좌표를 벗어날 경우 False를 반환\n",
    "        if x < 0 or y < 0 or x > N - 1 or y > M -1:\n",
    "            return False\n",
    "        if graph[x][y] == 0:\n",
    "            # 방문처리 시 True를 반환하여 클러스터 한 개당 하나의 카운트\n",
    "            graph[x][y] = 1\n",
    "            # 재귀적 탐색 -> 주변을 모두 방문처리\n",
    "            dfs(x - 1, y)\n",
    "            dfs(x + 1, y)\n",
    "            dfs(x, y - 1)\n",
    "            dfs(x, y + 1)\n",
    "            return True\n",
    "        # 방문했던 곳은 False를 반환하여 카운트하지 않도록 함\n",
    "        return False\n",
    "\n",
    "    cnt = 0\n",
    "\n",
    "    for i in range(N):\n",
    "        for j in range(M):\n",
    "            if dfs(i, j):\n",
    "                cnt += 1\n",
    "    print(cnt)\n",
    "    \n",
    "solution(input1)\n",
    "solution(input2)"
   ]
  },
  {
   "cell_type": "markdown",
   "metadata": {},
   "source": [
    "## 미로 탈출"
   ]
  },
  {
   "cell_type": "code",
   "execution_count": 11,
   "metadata": {},
   "outputs": [],
   "source": [
    "input1 = '''5 6\n",
    "101010\n",
    "111111\n",
    "000001\n",
    "111111\n",
    "111111'''"
   ]
  },
  {
   "cell_type": "code",
   "execution_count": 167,
   "metadata": {},
   "outputs": [
    {
     "data": {
      "text/plain": [
       "10"
      ]
     },
     "execution_count": 167,
     "metadata": {},
     "output_type": "execute_result"
    }
   ],
   "source": [
    "from collections import deque\n",
    "\n",
    "graph = [list(map(int, row)) for row in input1.split('\\n')[1:]]\n",
    "n, m = list(map(int, input1.split('\\n')[0].split()))\n",
    "visited = [[False] * m for _ in range(n)]\n",
    "\n",
    "#상 하 좌 우\n",
    "dx = [-1, 1, 0, 0]\n",
    "dy = [0, 0, -1, 1]\n",
    "\n",
    "\n",
    "queue = deque()\n",
    "queue.append((0, 0))\n",
    "\n",
    "while queue:\n",
    "    x, y = queue.popleft()\n",
    "    visited[x][y] = True\n",
    "    for i in range(4):\n",
    "        nx = x + dx[i]\n",
    "        ny = y + dy[i]\n",
    "        if nx < 0 or ny < 0 or nx >= n or ny >= m:\n",
    "            continue\n",
    "        if not visited[nx][ny] and graph[nx][ny] == 1:\n",
    "            queue.append((nx, ny))\n",
    "            graph[nx][ny] = graph[x][y] + 1\n",
    "graph[n - 1][m - 1]"
   ]
  },
  {
   "cell_type": "code",
   "execution_count": 128,
   "metadata": {},
   "outputs": [
    {
     "name": "stdout",
     "output_type": "stream",
     "text": [
      "10\n"
     ]
    }
   ],
   "source": [
    "from collections import deque\n",
    "\n",
    "\n",
    "n = int(input1.split()[0])\n",
    "m = int(input1.split()[1])\n",
    "graph = [list(map(int, row)) for row in input1.split()[2:]]\n",
    "\n",
    "# 상 하 좌 우\n",
    "dx = [-1, 1, 0, 0]\n",
    "dy = [0, 0, -1, 1]\n",
    "\n",
    "def bfs(x, y):\n",
    "    queue = deque()\n",
    "    queue.append((x, y))\n",
    "    while queue:\n",
    "        x, y = queue.popleft()\n",
    "        for i in range(4):\n",
    "            nx = x + dx[i]\n",
    "            ny = y + dy[i]\n",
    "            if nx < 0 or ny < 0 or nx >= n or ny >= m:\n",
    "                continue\n",
    "            if graph[nx][ny] == 0:\n",
    "                continue\n",
    "            # 해당 노드 상하좌우에 거리를 계산하여 입력\n",
    "            if graph[nx][ny] == 1:\n",
    "                graph[nx][ny] = graph[x][y] + 1\n",
    "                queue.append((nx, ny))\n",
    "\n",
    "    return graph[n - 1][m - 1]\n",
    "\n",
    "print(bfs(0, 0))"
   ]
  },
  {
   "cell_type": "code",
   "execution_count": 156,
   "metadata": {},
   "outputs": [],
   "source": [
    "input1 = '''5 6\n",
    "101010\n",
    "111111\n",
    "000001\n",
    "111111\n",
    "111111'''"
   ]
  },
  {
   "cell_type": "code",
   "execution_count": 179,
   "metadata": {},
   "outputs": [
    {
     "name": "stdout",
     "output_type": "stream",
     "text": [
      "10\n"
     ]
    }
   ],
   "source": [
    "n = int(input1.split()[0])\n",
    "m = int(input1.split()[1])\n",
    "graph = [list(map(int, row)) for row in input1.split()[2:]]\n",
    "visited = [[0] * m for _ in range(n)]\n",
    "\n",
    "x, y = 0, 0\n",
    "\n",
    "# 상 하 좌 우\n",
    "dx = [-1, 1, 0, 0]\n",
    "dy = [0, 0, -1, 1]\n",
    "\n",
    "results = []\n",
    "def bfs(x, y):\n",
    "    queue = deque()\n",
    "    queue.append((x, y))\n",
    "    results = []\n",
    "    while queue:\n",
    "        x, y = queue.popleft()\n",
    "        visited[x][y] = 1\n",
    "        for i in range(4):\n",
    "            nx = x + dx[i]\n",
    "            ny = y + dy[i]\n",
    "            if nx < 0 or ny < 0 or nx >= n or ny >= m:\n",
    "                continue\n",
    "            if graph[nx][ny] == 1 or visited[nx][ny] == 0:\n",
    "                queue.append((nx, ny))\n",
    "                graph[nx][ny] = graph[x][y] + 1\n",
    "                if graph[n - 1][m - 1] != 1 and graph[n - 1][m - 1] not in results:\n",
    "                    results.append(graph[n - 1][m - 1])\n",
    "\n",
    "    return min(results)\n",
    "\n",
    "print(bfs(x, y))"
   ]
  },
  {
   "cell_type": "markdown",
   "metadata": {},
   "source": [
    "# bfs와 dfs"
   ]
  },
  {
   "cell_type": "markdown",
   "metadata": {},
   "source": [
    "- 그래프를 DFS로 탐색한 결과와 BFS로 탐색한 결과를 출력하는 프로그램을 작성하시오. 단, 방문할 수 있는 정점이 여러 개인 경우에는 정점 번호가 작은 것을 먼저 방문하고, 더 이상 방문할 수 있는 점이 없는 경우 종료한다. 정점 번호는 1번부터 N번까지이다.\n",
    "- 첫째 줄에 정점의 개수 N(1 ≤ N ≤ 1,000), 간선의 개수 M(1 ≤ M ≤ 10,000), 탐색을 시작할 정점의 번호 V가 주어진다. 다음 M개의 줄에는 간선이 연결하는 두 정점의 번호가 주어진다. 어떤 두 정점 사이에 여러 개의 간선이 있을 수 있다. 입력으로 주어지는 간선은 양방향이다."
   ]
  },
  {
   "cell_type": "code",
   "execution_count": 2,
   "metadata": {},
   "outputs": [],
   "source": [
    "input1 = '''4 5 1\n",
    "1 2\n",
    "1 3\n",
    "1 4\n",
    "2 4\n",
    "3 4'''\n",
    "input2 = '''5 5 3\n",
    "5 4\n",
    "5 2\n",
    "1 2\n",
    "3 4\n",
    "3 1'''\n",
    "input3 = '''1000 1 1000\n",
    "999 1000'''"
   ]
  },
  {
   "cell_type": "code",
   "execution_count": 124,
   "metadata": {},
   "outputs": [
    {
     "name": "stdout",
     "output_type": "stream",
     "text": [
      "#Q1\n",
      "1 2 4 3 \n",
      "\n",
      "1 2 3 4 \n",
      "\n",
      "#Q2\n",
      "3 1 2 5 4 \n",
      "\n",
      "3 1 4 2 5 \n",
      "\n",
      "#Q3\n",
      "1000 999 \n",
      "\n",
      "1000 999 \n",
      "\n"
     ]
    }
   ],
   "source": [
    "def solution(input1):\n",
    "    from operator import itemgetter\n",
    "\n",
    "    n, m, v = list(map(int, input1.split('\\n')[0].split()))\n",
    "    graph = [list(map(int, row.split())) for row in input1.split('\\n')[1:]]\n",
    "    graph += graph + [list((e, s)) for s, e in graph]\n",
    "    graph.sort(key=itemgetter(1))\n",
    "\n",
    "    visited = [False] * (n + 1)\n",
    "    \n",
    "    print(v, end=' ')\n",
    "    def dfs(graph, v, visited):\n",
    "        visited[v] = True\n",
    "        for s, e in graph:\n",
    "            if v == s and visited[e] == False:\n",
    "                print(e, end=' ')\n",
    "                dfs(graph, e, visited)\n",
    "\n",
    "    dfs(graph, v, visited)\n",
    "    print('\\n')\n",
    "    def bfs(input1):\n",
    "        from collections import deque\n",
    "\n",
    "        n, m, v = list(map(int, input1.split('\\n')[0].split()))\n",
    "        graph = [list(map(int, row.split())) for row in input1.split('\\n')[1:]]\n",
    "        graph = graph + [list((e, s)) for s, e in graph]\n",
    "        graph.sort(key=itemgetter(1))\n",
    "\n",
    "        visited = [False] * (n + 1)\n",
    "\n",
    "        queue = deque()\n",
    "        queue.append(v)\n",
    "\n",
    "        visited[v] = True\n",
    "        print(v, end=' ')\n",
    "        while queue:\n",
    "            x = queue.popleft()\n",
    "            for s, e in graph:\n",
    "                if x == s and visited[e] == False:\n",
    "                    print(e, end=' ')\n",
    "                    queue.append(e)\n",
    "                    visited[e] = True\n",
    "    bfs(input1)\n",
    "    print('\\n')\n",
    "\n",
    "print('#Q1')\n",
    "solution(input1)\n",
    "print('#Q2')\n",
    "solution(input2)\n",
    "print('#Q3')\n",
    "solution(input3)"
   ]
  },
  {
   "cell_type": "markdown",
   "metadata": {},
   "source": [
    "# 단지번호 붙이기\n",
    "<그림 1>과 같이 정사각형 모양의 지도가 있다. 1은 집이 있는 곳을, 0은 집이 없는 곳을 나타낸다. 철수는 이 지도를 가지고 연결된 집의 모임인 단지를 정의하고, 단지에 번호를 붙이려 한다. 여기서 연결되었다는 것은 어떤 집이 좌우, 혹은 아래위로 다른 집이 있는 경우를 말한다. 대각선상에 집이 있는 경우는 연결된 것이 아니다. <그림 2>는 <그림 1>을 단지별로 번호를 붙인 것이다. 지도를 입력하여 단지수를 출력하고, 각 단지에 속하는 집의 수를 오름차순으로 정렬하여 출력하는 프로그램을 작성하시오.\n",
    "- 첫 번째 줄에는 지도의 크기 N(정사각형이므로 가로와 세로의 크기는 같으며 5≤N≤25)이 입력되고, 그 다음 N줄에는 각각 N개의 자료(0혹은 1)가 입력된다."
   ]
  },
  {
   "cell_type": "code",
   "execution_count": 97,
   "metadata": {},
   "outputs": [],
   "source": [
    "input1 = '''7\n",
    "0110100\n",
    "0110101\n",
    "1110101\n",
    "0000111\n",
    "0100000\n",
    "0111110\n",
    "0111000'''"
   ]
  },
  {
   "cell_type": "code",
   "execution_count": 100,
   "metadata": {},
   "outputs": [
    {
     "name": "stdout",
     "output_type": "stream",
     "text": [
      "3\n",
      "7\n",
      "8\n",
      "9\n"
     ]
    }
   ],
   "source": [
    "n = int(input1.split()[0])\n",
    "graph = [list(map(int, row)) for row in input1.split('\\n')[1:]]\n",
    "visited = [[False] * n for _ in range(n)]\n",
    "\n",
    "# 상 하 좌 우\n",
    "dx = [-1, 1, 0, 0]\n",
    "dy = [0, 0, -1, 1]\n",
    "\n",
    "def dfs(x, y):\n",
    "    global n_neighbors\n",
    "\n",
    "    if x < 0 or x >= n or y <0 or y >= n:\n",
    "        return False, n_neighbors\n",
    "    \n",
    "    if graph[x][y] == 0 or visited[x][y] == True:\n",
    "        return False, n_neighbors\n",
    "    \n",
    "    visited[x][y] = True\n",
    "    n_neighbors += 1\n",
    "    for i in range(4):\n",
    "        nx = x + dx[i]\n",
    "        ny = y + dy[i]\n",
    "        dfs(nx, ny)\n",
    "    return True, n_neighbors\n",
    "\n",
    "cnt = 0\n",
    "num = []\n",
    "\n",
    "for i in range(n):\n",
    "    for j in range(n):\n",
    "        n_neighbors = 0\n",
    "        result = dfs(i, j)\n",
    "        cnt += int(result[0])\n",
    "        if result[1] != 0:\n",
    "            num.append(result[1])\n",
    "\n",
    "num.sort()\n",
    "\n",
    "print(cnt)\n",
    "for n in num:\n",
    "    print(n)"
   ]
  },
  {
   "cell_type": "markdown",
   "metadata": {},
   "source": [
    "# 특정 거리의 도시 찾기"
   ]
  },
  {
   "cell_type": "code",
   "execution_count": 34,
   "metadata": {},
   "outputs": [
    {
     "name": "stdout",
     "output_type": "stream",
     "text": [
      "4\n",
      "-1\n",
      "2 3\n"
     ]
    }
   ],
   "source": [
    "input1 = '''4 4 2 1\n",
    "1 2\n",
    "1 3\n",
    "2 3\n",
    "2 4'''\n",
    "\n",
    "input2 = '''4 3 2 1\n",
    "1 2\n",
    "1 3\n",
    "1 4'''\n",
    "\n",
    "input3 = '''4 4 1 1\n",
    "1 2\n",
    "1 3\n",
    "2 3\n",
    "2 4'''\n",
    "\n",
    "# O(2N + M) = O(N + M)\n",
    "def solution(input1):\n",
    "    from collections import deque\n",
    "\n",
    "    INF = int(1e9)\n",
    "    n, m, k, x = list(map(int, input1.split('\\n')[0].split()))\n",
    "    graph = [[] for _ in range(n + 1)]\n",
    "    visited = [False] * (n + 1)\n",
    "    dist = [INF] * (n + 1)\n",
    "\n",
    "    array = [list(map(int, row.split())) for row in input1.split('\\n')[1:]]\n",
    "    # O(M)\n",
    "    for a, b in array:\n",
    "        graph[a].append(b)\n",
    "    \n",
    "    # BFS -> 하나의 노드에 대해 방사형으로 거리를 확인할 수 있음\n",
    "    q = deque([x])\n",
    "    visited[x] = True\n",
    "    dist[x] = 0\n",
    "    \n",
    "    # O(N)\n",
    "    while q:\n",
    "        if dist == k:\n",
    "            break\n",
    "        now = q.popleft()\n",
    "        for i in graph[now]:\n",
    "            if visited[i] == False:\n",
    "                q.append(i)\n",
    "                visited[i] = True\n",
    "                dist[i] = dist[now] + 1\n",
    "    result = []\n",
    "    \n",
    "    # O(N)\n",
    "    for i, v in enumerate(dist):\n",
    "        if v == k:\n",
    "            result.append(i)\n",
    "\n",
    "    print(' '.join(list(map(str, result))) if bool(result) else -1)\n",
    "    \n",
    "solution(input1)\n",
    "solution(input2)\n",
    "solution(input3)"
   ]
  },
  {
   "cell_type": "markdown",
   "metadata": {},
   "source": [
    "# 연구소"
   ]
  },
  {
   "cell_type": "code",
   "execution_count": 102,
   "metadata": {},
   "outputs": [
    {
     "name": "stdout",
     "output_type": "stream",
     "text": [
      "27\n",
      "0.4878258705\n",
      "9\n",
      "0.0269935131\n",
      "3\n",
      "3.2089700699\n"
     ]
    }
   ],
   "source": [
    "input1 = '''7 7\n",
    "2 0 0 0 1 1 0\n",
    "0 0 1 0 1 2 0\n",
    "0 1 1 0 1 0 0\n",
    "0 1 0 0 0 0 0\n",
    "0 0 0 0 0 1 1 \n",
    "0 1 0 0 0 0 0\n",
    "0 1 0 0 0 0 0'''\n",
    "\n",
    "input2 = '''4 6\n",
    "0 0 0 0 0 0\n",
    "1 0 0 0 0 2\n",
    "1 1 1 0 0 2\n",
    "0 0 0 0 0 2'''\n",
    "\n",
    "input3 = '''8 8\n",
    "2 0 0 0 0 0 0 2\n",
    "2 0 0 0 0 0 0 2\n",
    "2 0 0 0 0 0 0 2\n",
    "2 0 0 0 0 0 0 2\n",
    "2 0 0 0 0 0 0 2\n",
    "0 0 0 0 0 0 0 0\n",
    "0 0 0 0 0 0 0 0\n",
    "0 0 0 0 0 0 0 0'''\n",
    "\n",
    "@timer\n",
    "def solution(input1):\n",
    "    from copy import deepcopy\n",
    "    from itertools import combinations\n",
    "    n, m = list(map(int, input1.split('\\n')[0].split()))\n",
    "    array = [list(map(int, row.split())) for row in input1.split('\\n')[1:]]\n",
    "    # 0과 2의 위치를 리스트로\n",
    "    p_zero = []\n",
    "    p_virus = []\n",
    "    # O(NM)\n",
    "    for i in range(n):\n",
    "        for j in range(m):\n",
    "            if array[i][j] == 0:\n",
    "                p_zero.append((i, j))\n",
    "            elif array[i][j] == 2:\n",
    "                p_virus.append((i, j))\n",
    "\n",
    "    def dfs(x, y):\n",
    "        if x < 0 or x >= n or y < 0 or y >= m:\n",
    "            return\n",
    "        if graph[x][y] == 0:\n",
    "            graph[x][y] = 2\n",
    "            dfs(x - 1, y)\n",
    "            dfs(x + 1, y)\n",
    "            dfs(x, y - 1)\n",
    "            dfs(x, y + 1)\n",
    "        return\n",
    "\n",
    "    answer = 0\n",
    "    # 위치리스트 중 세 개 뽑기\n",
    "    for t in combinations(p_zero, 3): #64 C 3 = 39714\n",
    "        graph = deepcopy(array)\n",
    "        for x, y in t:\n",
    "            graph[x][y] = 1\n",
    "\n",
    "        for x, y in p_virus:\n",
    "            graph[x][y] = 0\n",
    "            dfs(x, y)\n",
    "\n",
    "        cnt = 0\n",
    "        # 각 상황별 안전영역\n",
    "        for i in range(n):\n",
    "            for j in range(m):\n",
    "                if graph[i][j] == 0:\n",
    "                    cnt += 1      \n",
    "        answer = max(answer, cnt)\n",
    "\n",
    "    print(answer)\n",
    "    \n",
    "solution(input1)\n",
    "solution(input2)\n",
    "solution(input3)\n",
    "\n",
    "#장하다 정찬영!!"
   ]
  },
  {
   "cell_type": "markdown",
   "metadata": {},
   "source": [
    "# 경쟁적 전염"
   ]
  },
  {
   "cell_type": "code",
   "execution_count": 57,
   "metadata": {},
   "outputs": [
    {
     "name": "stdout",
     "output_type": "stream",
     "text": [
      "3\n",
      "0\n"
     ]
    }
   ],
   "source": [
    "input1 = '''3 3\n",
    "1 0 2\n",
    "0 0 0\n",
    "3 0 0\n",
    "2 3 2'''\n",
    "\n",
    "input2 = '''3 3\n",
    "1 0 2\n",
    "0 0 0\n",
    "3 0 0\n",
    "1 2 2'''\n",
    "\n",
    "def solution(input1):\n",
    "    from collections import deque\n",
    "    \n",
    "    # 정보 초기화\n",
    "    n, k = list(map(int, input1.split('\\n')[0].split()))\n",
    "    array = [list(map(int, row.split())) for row in input1.split('\\n')[1:-1]]\n",
    "    s, result_x, result_y = list(map(int, input1.split('\\n')[-1].split()))\n",
    "    \n",
    "    # 바이러스의 초기 위치 저장\n",
    "    viruses = [0] * (k + 1)\n",
    "    for i in range(n):\n",
    "        for j in range(n):\n",
    "            if array[i][j] != 0:\n",
    "                viruses[array[i][j]] = (i, j)\n",
    "                \n",
    "    # 상 하 좌 우\n",
    "    dx = [-1, 1, 0, 0]\n",
    "    dy = [0, 0, -1, 1]\n",
    "\n",
    "    q = deque()\n",
    "    for i in range(1, k + 1):\n",
    "        x, y = viruses[i]\n",
    "        q.append((x, y, i))\n",
    "\n",
    "    time = 0\n",
    "    turn_count = [False] * (k + 1)\n",
    "    while q:\n",
    "        if time == s:\n",
    "            break\n",
    "        x, y, v = q.popleft()\n",
    "        for i in range(4):\n",
    "            nx, ny = x + dx[i], y + dy[i]\n",
    "            if (nx < 0) or (nx >= n) or (ny < 0) or (ny >= n):\n",
    "                continue\n",
    "            if array[nx][ny] == 0:\n",
    "                q.append((nx, ny, v))\n",
    "                array[nx][ny] = v\n",
    "                turn_count[v] = True\n",
    "        # 마지막 바이러스까지 업데이트가 완료되면 1초가 지난 것\n",
    "        # 아예 data에 시간 정보를 넣어 갱신하는 방법도 있음\n",
    "        if turn_count[k]:\n",
    "            time += 1\n",
    "            turn_count = [False] * (k + 1)\n",
    "\n",
    "    print(array[result_x - 1][result_y - 1])\n",
    "\n",
    "solution(input1)\n",
    "solution(input2)"
   ]
  },
  {
   "cell_type": "markdown",
   "metadata": {},
   "source": [
    "# 괄호 변환"
   ]
  },
  {
   "cell_type": "code",
   "execution_count": 215,
   "metadata": {},
   "outputs": [
    {
     "name": "stdout",
     "output_type": "stream",
     "text": [
      "(()())()\n",
      "()\n",
      "()(())()\n"
     ]
    }
   ],
   "source": [
    "input1 = '(()())()' # (()())()\n",
    "input2 = ')(' # ()\n",
    "input3 = '()))((()' # ()(())()\n",
    "\n",
    "def solution(input1):\n",
    "    # 균형잡힌 괄호 문자열을 체크하는 함수\n",
    "    def is_balanced(string):\n",
    "        left_cnt = 0\n",
    "        right_cnt = 0\n",
    "        for s in string:\n",
    "            if s == '(':\n",
    "                left_cnt += 1\n",
    "            else:\n",
    "                right_cnt += 1\n",
    "        return True if left_cnt == right_cnt else False\n",
    "    \n",
    "    # 괄호를 뒤집는 함수\n",
    "    def reverse(string):\n",
    "        string = ['(' if s == ')' else ')' for s in string]\n",
    "        return ''.join(string)\n",
    "\n",
    "    # 올바른 괄호 문자열을 체크하는 함수\n",
    "    def is_correct(string):\n",
    "        cnt = 0\n",
    "        for s in string:\n",
    "            if s == '(':\n",
    "                cnt += 1\n",
    "            else:\n",
    "                if cnt == 0:\n",
    "                    return False\n",
    "                cnt -= 1\n",
    "        return True\n",
    "\n",
    "    # 문자열을 u와 v로 나누는 함수\n",
    "    def splitter(string):\n",
    "        for i in range(2, len(string) + 1):\n",
    "            if is_balanced(string[:i]):\n",
    "                u = string[:i]\n",
    "                for j in range(len(string), i - 1, -1):\n",
    "                    # 균형잡힌 v가 없을 시 빈 문자열 반환\n",
    "                    v = ''\n",
    "                    if is_balanced(string[i : j]):\n",
    "                        v = string[i : j]\n",
    "                        return u, v\n",
    "                    return u, v\n",
    "\n",
    "    def transaction(string):\n",
    "        # 입력이 빈 문자열일 경우 빈 문자열 반환\n",
    "        if string == '':\n",
    "            return ''\n",
    "        # u, v로 쪼갬\n",
    "        u, v = splitter(string)\n",
    "        assert is_balanced(u) and is_balanced(v)\n",
    "\n",
    "        if is_correct(u):\n",
    "            u += transaction(v)\n",
    "            return u\n",
    "        else:\n",
    "            tmp = '('\n",
    "            tmp += transaction(v)\n",
    "            tmp += ')'\n",
    "            tmp += reverse(u[1:-1])\n",
    "\n",
    "            return tmp\n",
    "\n",
    "    assert is_balanced(input1)\n",
    "    return transaction(input1)\n",
    "\n",
    "\n",
    "print(solution(input1))\n",
    "print(solution(input2))\n",
    "print(solution(input3))"
   ]
  },
  {
   "cell_type": "code",
   "execution_count": 219,
   "metadata": {},
   "outputs": [
    {
     "name": "stdout",
     "output_type": "stream",
     "text": [
      "(()())()\n",
      "()\n",
      "()(())()\n"
     ]
    }
   ],
   "source": [
    "def solution(input1):\n",
    "    if input1 == '':\n",
    "        return input1\n",
    "    proper = True\n",
    "    c = 0\n",
    "    \n",
    "    for i in range(len(input1)):\n",
    "        if input1[i] == '(':\n",
    "            c += 1\n",
    "        else:\n",
    "            c -= 1\n",
    "        # 카운트가 음수가 되는 경우는 처음부터 )가 나오는 경우\n",
    "        if c < 0:\n",
    "            proper = False\n",
    "        if c == 0:\n",
    "            if proper:\n",
    "                return input1[:i + 1] + solution(input1[i + 1:])\n",
    "            else:\n",
    "                return '(' + solution(input1[i + 1:]) + ')' + ''.join(list(map(lambda x : '(' if x == ')' else ')', input1[1:i])))\n",
    "            \n",
    "        \n",
    "print(solution(input1))\n",
    "print(solution(input2))\n",
    "print(solution(input3))"
   ]
  },
  {
   "cell_type": "markdown",
   "metadata": {},
   "source": [
    "# 연산자 끼워넣기"
   ]
  },
  {
   "cell_type": "code",
   "execution_count": 148,
   "metadata": {},
   "outputs": [
    {
     "name": "stdout",
     "output_type": "stream",
     "text": [
      "30 30\n",
      "35 17\n",
      "54 -24\n"
     ]
    }
   ],
   "source": [
    "input1 = '''2\n",
    "5 6\n",
    "0 0 1 0'''\n",
    "\n",
    "input2 = '''3\n",
    "3 4 5\n",
    "1 0 1 0'''\n",
    "\n",
    "input3 = '''6\n",
    "1 2 3 4 5 6\n",
    "2 1 1 1'''\n",
    "\n",
    "def solution(input1):\n",
    "    from itertools import permutations\n",
    "        \n",
    "    # 입력 받기\n",
    "    n = int(input1.split('\\n')[0]) # 숫자 개수\n",
    "    nums = list(map(int, input1.split('\\n')[1].split()))\n",
    "    array = list(map(int, input1.split('\\n')[2].split()))\n",
    "    \n",
    "    tmp = ['+', '-', '*', '/']\n",
    "    calcs = []\n",
    "    for i, v in enumerate(array):\n",
    "        if v == 0:\n",
    "            continue\n",
    "        for _ in range(v):\n",
    "            calcs += tmp[i]\n",
    "    \n",
    "    # 재귀적으로 결과 계산\n",
    "    def get_result(array, calcs, index):\n",
    "        # 재귀 종료 조건 : index가 0일 때 0번째 원소 반환\n",
    "        left = int(array[0]) if index == 0 else int(get_result(array, calcs, index - 1))\n",
    "        right = int(array[index + 1])\n",
    "\n",
    "        if calcs[index] == '+': return left + right\n",
    "        elif calcs[index] == '-': return left - right\n",
    "        elif calcs[index] == '*': return left * right\n",
    "        else: return left // right if left > 0 else -(-left // right)\n",
    "\n",
    "    # 경우의 수 순회하며 업데이트\n",
    "    mini = int(1e9)\n",
    "    maxi = 0\n",
    "    for c in list(permutations(calcs, len(calcs))):\n",
    "        result = get_result(nums, c, n - 2)\n",
    "        if result < mini:\n",
    "            mini = result\n",
    "        if result > maxi:\n",
    "            maxi = result\n",
    "                \n",
    "    print(maxi, mini)\n",
    "\n",
    "solution(input1)\n",
    "solution(input2)\n",
    "solution(input3)"
   ]
  },
  {
   "cell_type": "code",
   "execution_count": 172,
   "metadata": {},
   "outputs": [
    {
     "name": "stdout",
     "output_type": "stream",
     "text": [
      "-24 54\n"
     ]
    }
   ],
   "source": [
    "# input1 = '''2\n",
    "# 5 6\n",
    "# 0 0 1 0'''\n",
    "\n",
    "# input1 = '''3\n",
    "# 3 4 5\n",
    "# 1 0 1 0'''\n",
    "\n",
    "input1 = '''6\n",
    "1 2 3 4 5 6\n",
    "2 1 1 1'''\n",
    "\n",
    "n = int(input1.split('\\n')[0])\n",
    "graph = list(map(int, input1.split('\\n')[1].split()))\n",
    "add, sub, mul, div = list(map(int, input1.split('\\n')[2].split()))\n",
    "\n",
    "maxi = -int(1e9)\n",
    "mini = int(1e9)\n",
    "\n",
    "def dfs(i, now):\n",
    "    global maxi, mini, add, sub, mul, div\n",
    "    if i == n:\n",
    "        mini = min(now, mini)\n",
    "        maxi = max(now, maxi)\n",
    "    else:\n",
    "        if add > 0:\n",
    "            add -= 1\n",
    "            dfs(i + 1, now + graph[i])\n",
    "            add += 1\n",
    "        if sub > 0:\n",
    "            sub -= 1\n",
    "            dfs(i + 1, now - graph[i])\n",
    "            sub += 1\n",
    "        if mul > 0:\n",
    "            mul -= 1\n",
    "            dfs(i + 1, now * graph[i])\n",
    "            mul += 1\n",
    "        if div > 0:\n",
    "            div -= 1\n",
    "            dfs(i + 1, now // graph[i] if now > 0 else -(-now // graph[i]))\n",
    "            div += 1\n",
    "\n",
    "dfs(1, graph[0])\n",
    "print(mini, maxi)\n",
    "    \n",
    "# print(solution(input1)\n",
    "# solution(input2)\n",
    "# solution(input3)"
   ]
  },
  {
   "cell_type": "code",
   "execution_count": null,
   "metadata": {},
   "outputs": [],
   "source": []
  }
 ],
 "metadata": {
  "kernelspec": {
   "display_name": "Python 3",
   "language": "python",
   "name": "python3"
  },
  "language_info": {
   "codemirror_mode": {
    "name": "ipython",
    "version": 3
   },
   "file_extension": ".py",
   "mimetype": "text/x-python",
   "name": "python",
   "nbconvert_exporter": "python",
   "pygments_lexer": "ipython3",
   "version": "3.8.5"
  }
 },
 "nbformat": 4,
 "nbformat_minor": 4
}

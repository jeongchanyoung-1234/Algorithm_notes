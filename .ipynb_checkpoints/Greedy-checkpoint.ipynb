{
 "cells": [
  {
   "cell_type": "code",
   "execution_count": 2,
   "metadata": {},
   "outputs": [],
   "source": [
    "import time\n",
    "# from memory_profiler import memory_usage, \n",
    "\n",
    "def timer(func, **kwargs):    \n",
    "    def wrapper(*args, **kwargs):\n",
    "        start = time.time()\n",
    "        func(*args, **kwargs)\n",
    "        end = time.time()\n",
    "        print('Time Complexity : ', '%.10e' % (end - start), 'sec')\n",
    "    return wrapper\n",
    "\n",
    "# def memory():\n",
    "#     usage = memory_usage(-1, 1, 1)\n",
    "#     print('Spatial Complexity :', usage[0], 'MB')"
   ]
  },
  {
   "cell_type": "markdown",
   "metadata": {},
   "source": [
    "# 거스름돈"
   ]
  },
  {
   "cell_type": "code",
   "execution_count": 86,
   "metadata": {},
   "outputs": [
    {
     "name": "stdout",
     "output_type": "stream",
     "text": [
      "0 6\n",
      "Time Complexity :  9.448528e-04 sec\n"
     ]
    }
   ],
   "source": [
    "# 시간복잡도 O(K)\n",
    "\n",
    "n = 1260\n",
    "count = 0\n",
    "\n",
    "@timer\n",
    "def solution(n, count):\n",
    "    coins = [100, 500, 50, 10]\n",
    "    coins.sort(reverse=True)\n",
    "\n",
    "    for coin in coins:\n",
    "        count += n // coin\n",
    "        n %= coin\n",
    "    print(n, count)\n",
    "    \n",
    "solution(n, count)"
   ]
  },
  {
   "cell_type": "markdown",
   "metadata": {},
   "source": [
    "# 큰 수의 법칙"
   ]
  },
  {
   "cell_type": "code",
   "execution_count": 87,
   "metadata": {},
   "outputs": [
    {
     "name": "stdout",
     "output_type": "stream",
     "text": [
      "46\n",
      "Time Complexity :  0.000000e+00 sec\n"
     ]
    }
   ],
   "source": [
    "# 시간 복잡도 O(2N)\n",
    "\n",
    "input1 = '5 8 3'\n",
    "input2 = '2 4 5 4 6'\n",
    "\n",
    "@timer\n",
    "def solution(input1, input2):\n",
    "    N, M, K = map(int, input1.split(' '))\n",
    "\n",
    "    array = list(map(int, input2.split(' ')))\n",
    "    array.sort(reverse=True)\n",
    "\n",
    "    result = 0\n",
    "\n",
    "    for num in array:\n",
    "        if M // K < 1:\n",
    "            result += num * (M % K)\n",
    "            M -= M % K\n",
    "            break\n",
    "        result += num * K * (M // K)\n",
    "        M -= K * (M // K)\n",
    "\n",
    "    print(result)\n",
    "\n",
    "solution(input1, input2)"
   ]
  },
  {
   "cell_type": "code",
   "execution_count": 88,
   "metadata": {},
   "outputs": [
    {
     "name": "stdout",
     "output_type": "stream",
     "text": [
      "46\n",
      "Time Complexity :  0.000000e+00 sec\n"
     ]
    }
   ],
   "source": [
    "input1 = '5 8 3'\n",
    "input2 = '2 4 5 4 6'\n",
    "\n",
    "@timer\n",
    "def solution(input1, input2):\n",
    "    N, M, K = map(int, input1.split(' '))\n",
    "\n",
    "    array = list(map(int, input2.split(' ')))\n",
    "    array.sort()\n",
    "\n",
    "    first = array[N - 1]\n",
    "    second = array[N - 2]\n",
    "\n",
    "    result = 0\n",
    "\n",
    "    while True:\n",
    "        for i in range(K):\n",
    "            if M == 0:\n",
    "                break\n",
    "            result += first\n",
    "            M -= 1\n",
    "        if M == 0:\n",
    "            break\n",
    "        result += second\n",
    "        M -= 1\n",
    "\n",
    "    print(result)\n",
    "solution(input1, input2)"
   ]
  },
  {
   "cell_type": "code",
   "execution_count": 91,
   "metadata": {},
   "outputs": [
    {
     "name": "stdout",
     "output_type": "stream",
     "text": [
      "46\n",
      "Time Complexity :  0.000000e+00 sec\n"
     ]
    }
   ],
   "source": [
    "input1 = '5 8 3'\n",
    "input2 = '2 4 5 4 6'\n",
    "\n",
    "@timer\n",
    "def solution(input1, input2):\n",
    "    N, M, K = map(int, input1.split(' '))\n",
    "\n",
    "    array = list(map(int, input2.split(' ')))\n",
    "    array.sort()\n",
    "\n",
    "    first = array[N - 1]\n",
    "    second = array[N - 2]\n",
    "\n",
    "    result = 0\n",
    "\n",
    "    # [6 6 6 5] [6 6 6 5]\n",
    "    result += first * ( (M // (K + 1) ) * K + M % (K + 1) )\n",
    "    result += second * (M // (K + 1) )\n",
    "\n",
    "    print(result)\n",
    "    \n",
    "solution(input1, input2)"
   ]
  },
  {
   "cell_type": "markdown",
   "metadata": {},
   "source": [
    "# 숫자 카드 게임"
   ]
  },
  {
   "cell_type": "code",
   "execution_count": 103,
   "metadata": {},
   "outputs": [
    {
     "name": "stdout",
     "output_type": "stream",
     "text": [
      "2\n",
      "Time Complexity :  0.000000e+00 sec\n",
      "3\n",
      "Time Complexity :  0.000000e+00 sec\n"
     ]
    }
   ],
   "source": [
    "input1 = '''3 3'''\n",
    "input2 = '''3 1 2\n",
    "4 1 4\n",
    "2 2 2'''\n",
    "\n",
    "input3 = '''2 4'''\n",
    "input4 = '''7 3 1 8\n",
    "3 3 3 4'''\n",
    "\n",
    "@timer\n",
    "def solution(input1, input2):\n",
    "    N, M = list(map(int, input1.split()))\n",
    "    # 각 행에서 가장 작은 숫자를 찾고 그 중 가장 큰 숫자를 출력\n",
    "    answer = max([min(list(map(int, seq.split()))) for seq in input2.split('\\n')])\n",
    "    print(answer)\n",
    "\n",
    "solution(input1, input2)\n",
    "solution(input3, input4)"
   ]
  },
  {
   "cell_type": "markdown",
   "metadata": {},
   "source": [
    "# 1이 될 때까지"
   ]
  },
  {
   "cell_type": "code",
   "execution_count": 146,
   "metadata": {},
   "outputs": [
    {
     "name": "stdout",
     "output_type": "stream",
     "text": [
      "2\n",
      "Time Complexity :  0.000000e+00 sec\n",
      "3\n",
      "Time Complexity :  0.000000e+00 sec\n"
     ]
    }
   ],
   "source": [
    "input1 = '25 5'\n",
    "input2 = '17 4'\n",
    "\n",
    "@timer\n",
    "def solution(input1):\n",
    "    N, K = list(map(int, input1.split()))\n",
    "\n",
    "    cnt = 0\n",
    "    while N != 1:\n",
    "        if N % K == 0:\n",
    "            N /= K\n",
    "            cnt += 1\n",
    "        else:\n",
    "            N -= 1\n",
    "            cnt += 1\n",
    "    print(cnt)\n",
    "\n",
    "solution(input1)\n",
    "solution(input2)"
   ]
  },
  {
   "cell_type": "code",
   "execution_count": 170,
   "metadata": {},
   "outputs": [
    {
     "name": "stdout",
     "output_type": "stream",
     "text": [
      "2\n",
      "Time Complexity :  0.000000e+00 sec\n",
      "3\n",
      "Time Complexity :  0.000000e+00 sec\n"
     ]
    }
   ],
   "source": [
    "@timer\n",
    "def solution(input1):\n",
    "    import math\n",
    "    N, K = list(map(int, input1.split()))\n",
    "\n",
    "    n = 0\n",
    "    # N = K^n + m\n",
    "    # argmin(n, m) n + m when log N = n * log K _ log m \n",
    "    while math.log(N) >= n * math.log(K):\n",
    "        n += 1\n",
    "    m = N - K ** (n - 1)\n",
    "\n",
    "    print((n - 1) + m)\n",
    "    \n",
    "solution(input1)\n",
    "solution(input2)"
   ]
  },
  {
   "cell_type": "code",
   "execution_count": 176,
   "metadata": {},
   "outputs": [
    {
     "name": "stdout",
     "output_type": "stream",
     "text": [
      "2\n",
      "Time Complexity :  0.000000e+00 sec\n",
      "3\n",
      "Time Complexity :  0.000000e+00 sec\n"
     ]
    }
   ],
   "source": [
    "@timer\n",
    "def solution(input1):\n",
    "    N, K = map(int, input1.split())\n",
    "    \n",
    "    cnt = 0\n",
    "    while True:\n",
    "        # target : K로 나누어떨어지는 숫자\n",
    "        target = (N // K) * K\n",
    "        # target에 도달할때까지 1을 빼야함\n",
    "        cnt += N - target\n",
    "        N = target\n",
    "        # 1) K로 나눌 수 없는 경우 빠져나와서\n",
    "        if N < K:\n",
    "            break\n",
    "        # K로 나눔\n",
    "        cnt += 1\n",
    "        N //= K\n",
    "    # 2) 남은 수에 대해서 1을 뺌\n",
    "    cnt += (N - 1)\n",
    "    print(cnt)\n",
    "    \n",
    "solution(input1)\n",
    "solution(input2)"
   ]
  },
  {
   "cell_type": "markdown",
   "metadata": {},
   "source": [
    "# 1. 회의실 배정"
   ]
  },
  {
   "cell_type": "markdown",
   "metadata": {},
   "source": [
    "- 한 개의 회의실이 있는데 이를 사용하고자 하는 N개의 회의에 대하여 회의실 사용표를 만들려고 한다. 각 회의 I에 대해 시작시간과 끝나는 시간이 주어져 있고, 각 회의가 겹치지 않게 하면서 회의실을 사용할 수 있는 회의의 최대 개수를 찾아보자. 단, 회의는 한번 시작하면 중간에 중단될 수 없으며 한 회의가 끝나는 것과 동시에 다음 회의가 시작될 수 있다. 회의의 시작시간과 끝나는 시간이 같을 수도 있다. 이 경우에는 시작하자마자 끝나는 것으로 생각하면 된다.\n",
    "- 첫째 줄에 회의의 수 N(1 ≤ N ≤ 100,000)이 주어진다. 둘째 줄부터 N+1 줄까지 각 회의의 정보가 주어지는데 이것은 공백을 사이에 두고 회의의 시작시간과 끝나는 시간이 주어진다. 시작 시간과 끝나는 시간은 231-1보다 작거나 같은 자연수 또는 0이다."
   ]
  },
  {
   "cell_type": "code",
   "execution_count": 22,
   "metadata": {},
   "outputs": [
    {
     "name": "stdout",
     "output_type": "stream",
     "text": [
      "4\n",
      "Time Complexity :  0.000000e+00 sec\n"
     ]
    }
   ],
   "source": [
    "input1 = '''11'''\n",
    "input2 = '''1 4\n",
    "3 5\n",
    "0 6\n",
    "5 7\n",
    "3 8\n",
    "5 9\n",
    "6 10\n",
    "8 11\n",
    "8 12\n",
    "2 13\n",
    "12 14'''\n",
    "\n",
    "@timer\n",
    "def solution(input1, input2):\n",
    "    from operator import itemgetter\n",
    "\n",
    "    N = int(input1)\n",
    "    array = [list(map(int, t.split())) for t in input2.split('\\n')]\n",
    "    \n",
    "    # 회의가 끝나는 시간 기준으로 정렬\n",
    "    array.sort(key=itemgetter(1))\n",
    "\n",
    "    start_time = 0\n",
    "    end_time = 0\n",
    "    cnt = 0\n",
    "\n",
    "    # 시간 복잡도 O(N)\n",
    "    for s, e in array:\n",
    "        if end_time <= s:\n",
    "            start_time = s\n",
    "            end_time = e\n",
    "            cnt += 1\n",
    "            \n",
    "    print(cnt)\n",
    "    \n",
    "solution(input1, input2)"
   ]
  },
  {
   "cell_type": "markdown",
   "metadata": {},
   "source": [
    "# 2. 신입 사원"
   ]
  },
  {
   "cell_type": "markdown",
   "metadata": {},
   "source": [
    "- 언제나 최고만을 지향하는 굴지의 대기업 진영 주식회사가 신규 사원 채용을 실시한다. 인재 선발 시험은 1차 서류심사와 2차 면접시험으로 이루어진다. 최고만을 지향한다는 기업의 이념에 따라 그들은 최고의 인재들만을 사원으로 선발하고 싶어 한다.\n",
    "\n",
    "- 그래서 진영 주식회사는, 다른 모든 지원자와 비교했을 때 서류심사 성적과 면접시험 성적 중 적어도 하나가 다른 지원자보다 떨어지지 않는 자만 선발한다는 원칙을 세웠다. 즉, 어떤 지원자 A의 성적이 다른 어떤 지원자 B의 성적에 비해 서류 심사 결과와 면접 성적이 모두 떨어진다면 A는 결코 선발되지 않는다.\n",
    "\n",
    "- 이러한 조건을 만족시키면서, 진영 주식회사가 이번 신규 사원 채용에서 선발할 수 있는 신입사원의 최대 인원수를 구하는 프로그램을 작성하시오.\n",
    "- 첫째 줄에는 테스트 케이스의 개수 T(1 ≤ T ≤ 20)가 주어진다. 각 테스트 케이스의 첫째 줄에 지원자의 숫자 N(1 ≤ N ≤ 100,000)이 주어진다. 둘째 줄부터 N개 줄에는 각각의 지원자의 서류심사 성적, 면접 성적의 순위가 공백을 사이에 두고 한 줄에 주어진다. 두 성적 순위는 모두 1위부터 N위까지 동석차 없이 결정된다고 가정한다."
   ]
  },
  {
   "cell_type": "code",
   "execution_count": 24,
   "metadata": {},
   "outputs": [],
   "source": [
    "input1 = '''2\n",
    "5\n",
    "3 2\n",
    "1 4\n",
    "4 1\n",
    "2 3\n",
    "5 5\n",
    "7\n",
    "3 6\n",
    "7 3\n",
    "4 2\n",
    "1 4\n",
    "5 7\n",
    "2 5\n",
    "6 1'''"
   ]
  },
  {
   "cell_type": "code",
   "execution_count": 124,
   "metadata": {},
   "outputs": [
    {
     "name": "stdout",
     "output_type": "stream",
     "text": [
      "4\n",
      "3\n",
      "Time Complexity :  0.0000000000e+00 sec\n"
     ]
    }
   ],
   "source": [
    "@timer\n",
    "def solution(input1):\n",
    "    from operator import itemgetter\n",
    "\n",
    "    T = int(input1.split('\\n')[0])\n",
    "    array = input1.split('\\n')[1:]\n",
    "\n",
    "    tests = []\n",
    "    for i, a in enumerate(array):\n",
    "        if len(a) == 1:\n",
    "            tests.append([list(map(int, a.split())) for a in array[i + 1 : i + int(a) + 1]])\n",
    "\n",
    "    # 첫번쨰 시험의 순위 순으로 정렬하면 밑에 있는 지원자보다 첫번째 시험에서 우위에 있다는 것이 보장됨\n",
    "    # 그러나 위에 있는 지원자가 두번쨰 시험 점수가 더 높은 경우는 탈락하게 됨\n",
    "\n",
    "    for test in tests:\n",
    "        cnt = len(test)\n",
    "        test.sort(key=itemgetter(0))\n",
    "        for i in range(1, cnt):\n",
    "            if test[i][1] > min(test[0:i], key=itemgetter(1))[1]:\n",
    "                cnt -= 1\n",
    "        print(cnt)\n",
    "        \n",
    "solution(input1)"
   ]
  },
  {
   "cell_type": "code",
   "execution_count": 125,
   "metadata": {},
   "outputs": [
    {
     "name": "stdout",
     "output_type": "stream",
     "text": [
      "4\n",
      "3\n",
      "Time Complexity :  0.0000000000e+00 sec\n"
     ]
    }
   ],
   "source": [
    "# 가장 낮은 애를 뽑고, 1번 2번 시험 점수를 저장\n",
    "# 1번 점수가 가장 낮았던 애보다 2번 점수가 낮은 애를 차례대로 뽑음\n",
    "\n",
    "@timer\n",
    "def solution(input1):\n",
    "    for test in tests:\n",
    "        cnt = 0\n",
    "        lowest_t2 = 1e5\n",
    "        for t in test:\n",
    "            if lowest_t2 > t[1]:\n",
    "                lowest_t2 = t[1]\n",
    "                cnt += 1\n",
    "        print(cnt)\n",
    "        \n",
    "solution(input1)"
   ]
  },
  {
   "cell_type": "markdown",
   "metadata": {},
   "source": [
    "# 3. 주유소"
   ]
  },
  {
   "cell_type": "markdown",
   "metadata": {},
   "source": [
    "- 어떤 나라에 N개의 도시가 있다. 이 도시들은 일직선 도로 위에 있다. 편의상 일직선을 수평 방향으로 두자. 제일 왼쪽의 도시에서 제일 오른쪽의 도시로 자동차를 이용하여 이동하려고 한다. 인접한 두 도시 사이의 도로들은 서로 길이가 다를 수 있다. 도로 길이의 단위는 km를 사용한다.\n",
    "\n",
    "- 처음 출발할 때 자동차에는 기름이 없어서 주유소에서 기름을 넣고 출발하여야 한다. 기름통의 크기는 무제한이어서 얼마든지 많은 기름을 넣을 수 있다. 도로를 이용하여 이동할 때 1km마다 1리터의 기름을 사용한다. 각 도시에는 단 하나의 주유소가 있으며, 도시 마다 주유소의 리터당 가격은 다를 수 있다. 가격의 단위는 원을 사용한다.\n",
    "\n",
    "- 예를 들어, 이 나라에 다음 그림처럼 4개의 도시가 있다고 하자. 원 안에 있는 숫자는 그 도시에 있는 주유소의 리터당 가격이다. 도로 위에 있는 숫자는 도로의 길이를 표시한 것이다. \n",
    "\n",
    "- 제일 왼쪽 도시에서 6리터의 기름을 넣고, 더 이상의 주유 없이 제일 오른쪽 도시까지 이동하면 총 비용은 30원이다. 만약 제일 왼쪽 도시에서 2리터의 기름을 넣고(2×5 = 10원) 다음 번 도시까지 이동한 후 3리터의 기름을 넣고(3×2 = 6원) 다음 도시에서 1리터의 기름을 넣어(1×4 = 4원) 제일 오른쪽 도시로 이동하면, 총 비용은 20원이다. 또 다른 방법으로 제일 왼쪽 도시에서 2리터의 기름을 넣고(2×5 = 10원) 다음 번 도시까지 이동한 후 4리터의 기름을 넣고(4×2 = 8원) 제일 오른쪽 도시까지 이동하면, 총 비용은 18원이다.\n",
    "\n",
    "- 각 도시에 있는 주유소의 기름 가격과, 각 도시를 연결하는 도로의 길이를 입력으로 받아 제일 왼쪽 도시에서 제일 오른쪽 도시로 이동하는 최소의 비용을 계산하는 프로그램을 작성하시오."
   ]
  },
  {
   "cell_type": "markdown",
   "metadata": {},
   "source": [
    "- 표준 입력으로 다음 정보가 주어진다. 첫 번째 줄에는 도시의 개수를 나타내는 정수 N(2 ≤ N ≤ 100,000)이 주어진다. 다음 줄에는 인접한 두 도시를 연결하는 도로의 길이가 제일 왼쪽 도로부터 N-1개의 자연수로 주어진다. 다음 줄에는 주유소의 리터당 가격이 제일 왼쪽 도시부터 순서대로 N개의 자연수로 주어진다. 제일 왼쪽 도시부터 제일 오른쪽 도시까지의 거리는 1이상 1,000,000,000 이하의 자연수이다. 리터당 가격은 1 이상 1,000,000,000 이하의 자연수이다. "
   ]
  },
  {
   "cell_type": "code",
   "execution_count": 153,
   "metadata": {},
   "outputs": [
    {
     "name": "stdout",
     "output_type": "stream",
     "text": [
      "18\n",
      "Time Complexity :  0.0000000000e+00 sec\n",
      "10\n",
      "Time Complexity :  0.0000000000e+00 sec\n"
     ]
    }
   ],
   "source": [
    "input1 = '''4\n",
    "2 3 1\n",
    "5 2 4 1'''\n",
    "input2 = '''4\n",
    "3 3 4\n",
    "1 1 1 1'''\n",
    "\n",
    "@timer\n",
    "def solution(input1):\n",
    "    N = int(input1.split('\\n')[0])\n",
    "    distance = list(map(int, input1.split('\\n')[1].split()))\n",
    "    price = list(map(int, input1.split('\\n')[2].split()))\n",
    "\n",
    "    # 다음 도시의 가격이 싸면 다음 도시의 가격으로, 다음 도시의 가격이 비싸면 이전 도시의 가격으로\n",
    "\n",
    "    current_price = price[0]\n",
    "    total_price = 0\n",
    "    for i in range(N - 1): \n",
    "        total_price += current_price * distance[i]\n",
    "        if current_price > price[i + 1]:\n",
    "            current_price = price[i + 1]\n",
    "\n",
    "    print(total_price)\n",
    "    \n",
    "solution(input1)\n",
    "solution(input2)"
   ]
  },
  {
   "cell_type": "markdown",
   "metadata": {},
   "source": [
    "# 4. 캠핑"
   ]
  },
  {
   "cell_type": "markdown",
   "metadata": {},
   "source": [
    "- 등산가 김강산은 가족들과 함께 캠핑을 떠났다. 하지만, 캠핑장에는 다음과 같은 경고문이 쓰여 있었다.\n",
    "\n",
    "캠핑장은 연속하는 20일 중 10일동안만 사용할 수 있습니다.\n",
    "\n",
    "강산이는 이제 막 28일 휴가를 시작했다. 이번 휴가 기간 동안 강산이는 캠핑장을 며칠동안 사용할 수 있을까?\n",
    "\n",
    "강산이는 조금 더 일반화해서 문제를 풀려고 한다. \n",
    "\n",
    "캠핑장을 연속하는 P일 중, L일동안만 사용할 수 있다. 강산이는 이제 막 V일짜리 휴가를 시작했다. 강산이가 캠핑장을 최대 며칠동안 사용할 수 있을까? (1 < L < P < V)"
   ]
  },
  {
   "cell_type": "code",
   "execution_count": 177,
   "metadata": {},
   "outputs": [
    {
     "name": "stdout",
     "output_type": "stream",
     "text": [
      "Case 1: 14\n",
      "Case 2: 11\n",
      "Time Complexity :  0.0000000000e+00 sec\n"
     ]
    }
   ],
   "source": [
    "input1 = '''5 8 20\n",
    "5 8 17\n",
    "0 0 0'''\n",
    "\n",
    "@timer\n",
    "def solution(input1):\n",
    "    results = []\n",
    "    i = 0\n",
    "    while True:\n",
    "        line = input1.split('\\n')[i]\n",
    "\n",
    "        if line == '0 0 0':\n",
    "            break\n",
    "\n",
    "        L, P, V = list(map(int, line.split()))\n",
    "        result = (V // P) * L + V % P\n",
    "        results.append(result)\n",
    "\n",
    "        i += 1\n",
    "\n",
    "    for i, v in enumerate(results):\n",
    "        print('Case {}:'.format(i + 1), v)\n",
    "\n",
    "solution(input1)"
   ]
  },
  {
   "cell_type": "markdown",
   "metadata": {},
   "source": [
    "# 5. 카드 정렬하기"
   ]
  },
  {
   "cell_type": "markdown",
   "metadata": {},
   "source": [
    "- 정렬된 두 묶음의 숫자 카드가 있다고 하자. 각 묶음의 카드의 수를 A, B라 하면 보통 두 묶음을 합쳐서 하나로 만드는 데에는 A+B 번의 비교를 해야 한다. 이를테면, 20장의 숫자 카드 묶음과 30장의 숫자 카드 묶음을 합치려면 50번의 비교가 필요하다.\n",
    "\n",
    "- 매우 많은 숫자 카드 묶음이 책상 위에 놓여 있다. 이들을 두 묶음씩 골라 서로 합쳐나간다면, 고르는 순서에 따라서 비교 횟수가 매우 달라진다. 예를 들어 10장, 20장, 40장의 묶음이 있다면 10장과 20장을 합친 뒤, 합친 30장 묶음과 40장을 합친다면 (10 + 20) + (30 + 40) = 100번의 비교가 필요하다. 그러나 10장과 40장을 합친 뒤, 합친 50장 묶음과 20장을 합친다면 (10 + 40) + (50 + 20) = 120 번의 비교가 필요하므로 덜 효율적인 방법이다.\n",
    "\n",
    "- N개의 숫자 카드 묶음의 각각의 크기가 주어질 때, 최소한 몇 번의 비교가 필요한지를 구하는 프로그램을 작성하시오."
   ]
  },
  {
   "cell_type": "markdown",
   "metadata": {},
   "source": [
    "- 첫째 줄에 N이 주어진다. (1 ≤ N ≤ 100,000) 이어서 N개의 줄에 걸쳐 숫자 카드 묶음의 각각의 크기가 주어진다. 숫자 카드 묶음의 크기는 1,000보다 작거나 같은 양의 정수이다."
   ]
  },
  {
   "cell_type": "code",
   "execution_count": 198,
   "metadata": {},
   "outputs": [
    {
     "name": "stdout",
     "output_type": "stream",
     "text": [
      "100\n",
      "Time Complexity :  0.0000000000e+00 sec\n"
     ]
    }
   ],
   "source": [
    "input1 = '''3\n",
    "10\n",
    "20\n",
    "40'''\n",
    "\n",
    "@timer\n",
    "def solution(input1):\n",
    "    N = int(input1.split('\\n')[0])\n",
    "    array = list(map(int, input1.split('\\n')[1:]))\n",
    "    array.sort()\n",
    "\n",
    "    # (10 + 20) + (10 + 20 + 40)\n",
    "    result = 0\n",
    "    for i in range(1, len(array)): # 1 2\n",
    "        result += sum(array[0:i + 1]) #cumsum을 못쓴다고 가정하여\n",
    "    print(result)\n",
    "solution(input1)"
   ]
  },
  {
   "cell_type": "markdown",
   "metadata": {},
   "source": [
    "# 수 묶기"
   ]
  },
  {
   "cell_type": "markdown",
   "metadata": {},
   "source": [
    "- 길이가 N인 수열이 주어졌을 때, 그 수열의 합을 구하려고 한다. 하지만, 그냥 그 수열의 합을 모두 더해서 구하는 것이 아니라, 수열의 두 수를 묶으려고 한다. 어떤 수를 묶으려고 할 때, 위치에 상관없이 묶을 수 있다. 하지만, 같은 위치에 있는 수(자기 자신)를 묶는 것은 불가능하다. 그리고 어떤 수를 묶게 되면, 수열의 합을 구할 때 묶은 수는 서로 곱한 후에 더한다.\n",
    "\n",
    "- 예를 들면, 어떤 수열이 {0, 1, 2, 4, 3, 5}일 때, 그냥 이 수열의 합을 구하면 0+1+2+4+3+5 = 15이다. 하지만, 2와 3을 묶고, 4와 5를 묶게 되면, 0+1+(2*3)+(4*5) = 27이 되어 최대가 된다.\n",
    "\n",
    "- 수열의 모든 수는 단 한번만 묶거나, 아니면 묶지 않아야한다.\n",
    "\n",
    "- 수열이 주어졌을 때, 수열의 각 수를 적절히 묶었을 때, 그 합이 최대가 되게 하는 프로그램을 작성하시오."
   ]
  },
  {
   "cell_type": "markdown",
   "metadata": {},
   "source": [
    "- 첫째 줄에 수열의 크기 N이 주어진다. N은 10,000보다 작은 자연수이다. 둘째 줄부터 N개의 줄에, 수열의 각 수가 주어진다. 수열의 수는 -10,000보다 크거나 같고, 10,000보다 작거나 같은 정수이다."
   ]
  },
  {
   "cell_type": "code",
   "execution_count": 227,
   "metadata": {},
   "outputs": [
    {
     "name": "stdout",
     "output_type": "stream",
     "text": [
      "27\n",
      "Time Complexity :  0.0000000000e+00 sec\n",
      "6\n",
      "Time Complexity :  0.0000000000e+00 sec\n"
     ]
    }
   ],
   "source": [
    "input1 = '''6\n",
    "0\n",
    "1\n",
    "2\n",
    "4\n",
    "3\n",
    "5'''\n",
    "input2 = '''4\n",
    "-1\n",
    "2\n",
    "1\n",
    "3'''\n",
    "\n",
    "@timer\n",
    "def solution(input1):\n",
    "    tmp = []\n",
    "    result = []\n",
    "    N = int(input1.split('\\n')[0])\n",
    "    array = list(map(int, input1.split('\\n')[1:]))\n",
    "\n",
    "    array.sort(reverse=True)\n",
    "\n",
    "    tmp = []\n",
    "    result = []\n",
    "    \n",
    "    for num in array:\n",
    "        # tmp의 길이가 2가 될때마다 곱하여 결과에 반영\n",
    "        if len(tmp) == 2:\n",
    "            # tmp에 0이나 음수가 들어가 있는 경우 곱하지 않고 따로 결과에 반영\n",
    "            if tmp[0] * tmp[1] <= 0:\n",
    "                result.append(tmp[0])\n",
    "                result.append(tmp[1])\n",
    "                tmp = []\n",
    "            result.append(tmp[0] * tmp[1])\n",
    "            tmp = []\n",
    "        # 곱할 두 수를 tmp에서 관리\n",
    "        tmp.append(num)\n",
    "    \n",
    "    # tmp 안에 마지막 두 수가 남았을 경우\n",
    "    if tmp[0] * tmp[1] > 0:\n",
    "        tmp = [tmp[0] * tmp[1]]\n",
    "    print(sum(result + tmp))\n",
    "    \n",
    "solution(input1)\n",
    "solution(input2)"
   ]
  },
  {
   "cell_type": "markdown",
   "metadata": {},
   "source": [
    "# 모험가 길드"
   ]
  },
  {
   "cell_type": "code",
   "execution_count": 14,
   "metadata": {},
   "outputs": [
    {
     "name": "stdout",
     "output_type": "stream",
     "text": [
      "2\n",
      "Time Complexity :  0.0000000000e+00 sec\n",
      "1\n",
      "Time Complexity :  0.0000000000e+00 sec\n"
     ]
    }
   ],
   "source": [
    "input1 = '''5\n",
    "2 3 1 2 2'''\n",
    "input2 = '''8\n",
    "7 2 5 1 1 2 3 2'''\n",
    "\n",
    "@timer\n",
    "def solution(input1):\n",
    "    n = int(input1.split('\\n')[0])\n",
    "    array = list(map(int, input1.split('\\n')[1].split()))\n",
    "\n",
    "    array.sort(reverse=True)\n",
    "\n",
    "    cnt = 0\n",
    "    for i in range(n):\n",
    "        n = n - array[i]\n",
    "        if n < 0:\n",
    "            break\n",
    "        cnt += 1\n",
    "    print(cnt)\n",
    "    \n",
    "solution(input1)\n",
    "solution(input2)"
   ]
  },
  {
   "cell_type": "code",
   "execution_count": 15,
   "metadata": {},
   "outputs": [
    {
     "name": "stdout",
     "output_type": "stream",
     "text": [
      "2\n",
      "Time Complexity :  0.0000000000e+00 sec\n",
      "3\n",
      "Time Complexity :  0.0000000000e+00 sec\n"
     ]
    }
   ],
   "source": [
    "# 최소 그룹 : 공포도가 낮은 모험가 기준으로 정렬해야함\n",
    "@timer\n",
    "def solution(input1):\n",
    "    n = int(input1.split('\\n')[0])\n",
    "    array = list(map(int, input1.split('\\n')[1].split()))\n",
    "    array.sort()\n",
    "\n",
    "    count = 0\n",
    "    result = 0\n",
    "    for i in array:\n",
    "        count += 1\n",
    "        if count >= i:\n",
    "            result += 1\n",
    "            count = 0\n",
    "    print(result)\n",
    "    \n",
    "solution(input1)\n",
    "solution(input2)"
   ]
  },
  {
   "cell_type": "markdown",
   "metadata": {},
   "source": [
    "# 곱하기 혹은 더하기"
   ]
  },
  {
   "cell_type": "code",
   "execution_count": 11,
   "metadata": {},
   "outputs": [
    {
     "name": "stdout",
     "output_type": "stream",
     "text": [
      "576\n",
      "210\n"
     ]
    }
   ],
   "source": [
    "input1 = '''02984'''\n",
    "input2 = '''567'''\n",
    "\n",
    "\n",
    "def solution(input1):\n",
    "    array = list(map(int, input1))\n",
    "\n",
    "    result = 0\n",
    "    for i in array:\n",
    "        if i == 0 or i == 1 or result == 0 or result == 1:\n",
    "            result += i\n",
    "        else:\n",
    "            result *= i\n",
    "    print(result)\n",
    "    \n",
    "solution(input1)\n",
    "solution(input2)"
   ]
  },
  {
   "cell_type": "markdown",
   "metadata": {},
   "source": [
    "# 문자열 뒤집기"
   ]
  },
  {
   "cell_type": "code",
   "execution_count": 16,
   "metadata": {},
   "outputs": [
    {
     "name": "stdout",
     "output_type": "stream",
     "text": [
      "1\n"
     ]
    }
   ],
   "source": [
    "input1 = '''0001100'''\n",
    "\n",
    "def solution(input1):\n",
    "    array = list(map(int, input1))\n",
    "\n",
    "    cnt0 = 0\n",
    "    cnt1 = 0\n",
    "    prev = 987654321\n",
    "    for i in array:\n",
    "        if prev != i:\n",
    "            if i == 0:\n",
    "                cnt0 += 1\n",
    "            else:\n",
    "                cnt1 += 1\n",
    "            prev = i\n",
    "\n",
    "    print(min(cnt0, cnt1))\n",
    "    \n",
    "solution(input1)"
   ]
  },
  {
   "cell_type": "markdown",
   "metadata": {},
   "source": [
    "# 만들 수 없는 금액"
   ]
  },
  {
   "cell_type": "code",
   "execution_count": 59,
   "metadata": {},
   "outputs": [
    {
     "name": "stdout",
     "output_type": "stream",
     "text": [
      "8\n"
     ]
    }
   ],
   "source": [
    "input1 = '''5\n",
    "3 2 1 1 9'''\n",
    "\n",
    "def solution(input1):\n",
    "    n = int(input1.split()[0])\n",
    "    array = list(map(int, input1.split('\\n')[1].split()))\n",
    "\n",
    "    array.sort()\n",
    "\n",
    "    target = 1\n",
    "    for x in array:\n",
    "        if target < x:\n",
    "            break\n",
    "        target += x\n",
    "\n",
    "    print(target)\n",
    "solution(input1)"
   ]
  },
  {
   "cell_type": "markdown",
   "metadata": {},
   "source": [
    "# 볼링공 고르기"
   ]
  },
  {
   "cell_type": "code",
   "execution_count": 19,
   "metadata": {},
   "outputs": [
    {
     "name": "stdout",
     "output_type": "stream",
     "text": [
      "8\n",
      "25\n"
     ]
    }
   ],
   "source": [
    "input1 = '''5 3\n",
    "1 3 2 3 2'''\n",
    "input2 = '''8 5\n",
    "1 5 4 3 2 4 5 2'''\n",
    "\n",
    "def solution(input1):\n",
    "    n, m = list(map(int, input1.split('\\n')[0].split()))\n",
    "    array = list(map(int, input1.split('\\n')[1].split()))\n",
    "\n",
    "    cnt = 0\n",
    "    # O(N^2)\n",
    "    for i in range(n):\n",
    "        for j in range(i, n):\n",
    "            if array[i] != array[j]:\n",
    "                cnt += 1\n",
    "\n",
    "    print(cnt)\n",
    "    \n",
    "solution(input1)\n",
    "solution(input2)"
   ]
  },
  {
   "cell_type": "code",
   "execution_count": 22,
   "metadata": {},
   "outputs": [
    {
     "name": "stdout",
     "output_type": "stream",
     "text": [
      "8\n",
      "25\n"
     ]
    }
   ],
   "source": [
    "def solution(input1):\n",
    "    n, m = list(map(int, input1.split('\\n')[0].split()))\n",
    "    array = list(map(int, input1.split('\\n')[1].split()))\n",
    "\n",
    "    table = [0] * 11\n",
    "    for x in array:\n",
    "        table[x] += 1\n",
    "\n",
    "    result = 0\n",
    "    for i in range(1, m + 1):\n",
    "        n -= table[i]\n",
    "        result += table[i] * n\n",
    "\n",
    "    print(result)\n",
    "    \n",
    "solution(input1)\n",
    "solution(input2)"
   ]
  },
  {
   "cell_type": "markdown",
   "metadata": {},
   "source": [
    "# 무지의 먹방 라이브"
   ]
  },
  {
   "cell_type": "code",
   "execution_count": 86,
   "metadata": {},
   "outputs": [
    {
     "name": "stdout",
     "output_type": "stream",
     "text": [
      "4\n"
     ]
    }
   ],
   "source": [
    "import heapq\n",
    "from operator import itemgetter\n",
    "\n",
    "food_times = [3, 1, 2, 4, 5]; k = 10\n",
    "\n",
    "def solution(food_times, k):\n",
    "    if sum(food_times) <= k:\n",
    "        return -1\n",
    "    \n",
    "    length = len(food_times)\n",
    "    prev = 0\n",
    "\n",
    "    q = []\n",
    "    for i, v in enumerate(food_times):\n",
    "        heapq.heappush(q, (v, i))\n",
    "\n",
    "    while q:\n",
    "        v, i = heapq.heappop(q)\n",
    "        if k <= length * (v - prev):\n",
    "            result = sorted(q, key=itemgetter(1))\n",
    "            break\n",
    "        k -= length * (v - prev)\n",
    "        length -= 1\n",
    "        prev = v\n",
    "    print(result[k % length - 1][1] + 1)\n",
    "    \n",
    "solution(food_times, k)"
   ]
  },
  {
   "cell_type": "code",
   "execution_count": 84,
   "metadata": {},
   "outputs": [
    {
     "data": {
      "text/plain": [
       "4"
      ]
     },
     "execution_count": 84,
     "metadata": {},
     "output_type": "execute_result"
    }
   ],
   "source": [
    "import heapq\n",
    "\n",
    "food_times = [3, 1, 2, 4, 5]; k = 10\n",
    "def solution(food_times, k):\n",
    "    # 전체 음식을 먹는 시간보다 k가 크거나 같다면 -1\n",
    "    if sum(food_times) <= k:\n",
    "        return -1\n",
    "    \n",
    "    # 시간이 작은 음식부터 빼야 하므로 우선순위 큐를 이용\n",
    "    q = []\n",
    "    for i in range(len(food_times)):\n",
    "    0    heapq.heappush(q, (food_times[i], i + 1))\n",
    "        \n",
    "    sum_value = 0 # 먹기 위해 사용한 시간\n",
    "    previous = 0 # 직전 음식 시간\n",
    "    \n",
    "    length = len(food_times)\n",
    "    \n",
    "    # (sum_value + (현재의 음식 시간 - 이전 음식 시간) * 현재 음식 개수) & k 비교\n",
    "    while sum_value + ((q[0][0] - previous) * length) <= k:\n",
    "        now = heapq.heappop(q)[0]\n",
    "        sum_value += (now - previous) * length\n",
    "        length -= 1\n",
    "        previous = now\n",
    "        \n",
    "    result = sorted(q, key=lambda x:x[1])\n",
    "    \n",
    "    return result[(k - sum_value) % length][1]\n",
    "solution(food_times, k)"
   ]
  }
 ],
 "metadata": {
  "kernelspec": {
   "display_name": "Python 3",
   "language": "python",
   "name": "python3"
  },
  "language_info": {
   "codemirror_mode": {
    "name": "ipython",
    "version": 3
   },
   "file_extension": ".py",
   "mimetype": "text/x-python",
   "name": "python",
   "nbconvert_exporter": "python",
   "pygments_lexer": "ipython3",
   "version": "3.8.5"
  }
 },
 "nbformat": 4,
 "nbformat_minor": 4
}

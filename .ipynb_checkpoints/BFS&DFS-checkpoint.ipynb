{
 "cells": [
  {
   "cell_type": "markdown",
   "metadata": {},
   "source": [
    "# DFS / BFS"
   ]
  },
  {
   "cell_type": "code",
   "execution_count": 1,
   "metadata": {},
   "outputs": [],
   "source": [
    "def timer(func):\n",
    "    import time\n",
    "    def wrapper(*args, **kwargs):\n",
    "        start = time.time()\n",
    "        func(*args, **kwargs)\n",
    "        end = time.time()\n",
    "        print('{:.10f}'.format(end - start))\n",
    "    return wrapper"
   ]
  },
  {
   "cell_type": "markdown",
   "metadata": {},
   "source": [
    "## Stack"
   ]
  },
  {
   "cell_type": "code",
   "execution_count": 2,
   "metadata": {},
   "outputs": [
    {
     "name": "stdout",
     "output_type": "stream",
     "text": [
      "3\n"
     ]
    },
    {
     "data": {
      "text/plain": [
       "[1, 2]"
      ]
     },
     "execution_count": 2,
     "metadata": {},
     "output_type": "execute_result"
    }
   ],
   "source": [
    "stack = []\n",
    "stack.append(1)\n",
    "stack.append(2)\n",
    "stack.append(3)\n",
    "\n",
    "print(stack.pop())\n",
    "stack"
   ]
  },
  {
   "cell_type": "markdown",
   "metadata": {},
   "source": [
    "## Queue"
   ]
  },
  {
   "cell_type": "code",
   "execution_count": 3,
   "metadata": {},
   "outputs": [
    {
     "name": "stdout",
     "output_type": "stream",
     "text": [
      "1\n"
     ]
    },
    {
     "data": {
      "text/plain": [
       "deque([2, 3])"
      ]
     },
     "execution_count": 3,
     "metadata": {},
     "output_type": "execute_result"
    }
   ],
   "source": [
    "from collections import deque\n",
    "\n",
    "queue = deque()\n",
    "queue.append(1)\n",
    "queue.append(2)\n",
    "queue.append(3)\n",
    "\n",
    "print(queue.popleft())\n",
    "queue"
   ]
  },
  {
   "cell_type": "markdown",
   "metadata": {},
   "source": [
    "## Recursive"
   ]
  },
  {
   "cell_type": "code",
   "execution_count": 9,
   "metadata": {},
   "outputs": [
    {
     "name": "stdout",
     "output_type": "stream",
     "text": [
      "iterative 3628800\n",
      "0.0000000000\n",
      "recursive 3628800\n",
      "0.0000000000\n"
     ]
    }
   ],
   "source": [
    "def comparison(n):\n",
    "    assert n > 0\n",
    "    import time\n",
    "    \n",
    "    def factorial_iterative(n):\n",
    "        result = 1\n",
    "        for i in range(1, n + 1):\n",
    "            result *= i\n",
    "        return result\n",
    "    \n",
    "    start = time.time()\n",
    "    print('iterative', factorial_iterative(n))\n",
    "    end = time.time()\n",
    "    print('{:.10f}'.format(end-start))\n",
    "    \n",
    "    def factorial_recursive(n):\n",
    "        if n <= 1:\n",
    "            return 1\n",
    "        return n * factorial_recursive(n - 1)\n",
    "    \n",
    "    start = time.time()\n",
    "    print('recursive', factorial_recursive(n))\n",
    "    end = time.time()\n",
    "    print('{:.10f}'.format(end-start))\n",
    "    \n",
    "comparison(10)"
   ]
  },
  {
   "cell_type": "markdown",
   "metadata": {},
   "source": [
    "# DFS : 깊이 우선 탐색"
   ]
  },
  {
   "cell_type": "markdown",
   "metadata": {},
   "source": [
    "## 인접 행렬\n",
    "- 메모리 비효율\n",
    "- 조회가 빠름"
   ]
  },
  {
   "cell_type": "code",
   "execution_count": 11,
   "metadata": {},
   "outputs": [
    {
     "name": "stdout",
     "output_type": "stream",
     "text": [
      "[[        0         7         5]\n",
      " [        7         0 987654321]\n",
      " [        5 987654321         5]]\n"
     ]
    }
   ],
   "source": [
    "inf = 987654321\n",
    "graph = [[0, 7, 5], \n",
    "         [7, 0, inf],\n",
    "         [5, inf, 5]]\n",
    "print(np.array(graph))"
   ]
  },
  {
   "cell_type": "markdown",
   "metadata": {},
   "source": [
    "## 인접 리스트\n",
    "- 메모리 효율\n",
    "- 조회가 느림"
   ]
  },
  {
   "cell_type": "code",
   "execution_count": 17,
   "metadata": {},
   "outputs": [
    {
     "name": "stdout",
     "output_type": "stream",
     "text": [
      "[[(1, 7), (2, 5)], [(0, 7)], [(0, 5)]]\n"
     ]
    }
   ],
   "source": [
    "graph = [[] for _ in range(3)]\n",
    "\n",
    "graph[0].append((1, 7))\n",
    "graph[0].append((2, 5))\n",
    "\n",
    "graph[1].append((0, 7))\n",
    "\n",
    "graph[2].append((0, 5))\n",
    "\n",
    "print(graph)"
   ]
  },
  {
   "cell_type": "code",
   "execution_count": 29,
   "metadata": {},
   "outputs": [
    {
     "name": "stdout",
     "output_type": "stream",
     "text": [
      "1 2 7 6 8 3 4 5 None\n"
     ]
    }
   ],
   "source": [
    "def dfs(graph, v, visited):\n",
    "    visited[v] = True\n",
    "    print(v, end=' ')\n",
    "\n",
    "    for i in graph[v]:\n",
    "        if not visited[i]:\n",
    "            dfs(graph, i, visited)\n",
    "\n",
    "graph = [\n",
    "    [],\n",
    "    [2, 3, 8],\n",
    "    [1, 7],\n",
    "    [1, 4, 5],\n",
    "    [3, 5],\n",
    "    [3, 4],\n",
    "    [7],\n",
    "    [2, 6, 8],\n",
    "    [1, 7]\n",
    "]\n",
    "\n",
    "visited = [False] * 9\n",
    "\n",
    "print(dfs(graph, 1, visited))"
   ]
  },
  {
   "cell_type": "markdown",
   "metadata": {},
   "source": [
    "# BFS : 너비 우선 탐색"
   ]
  },
  {
   "cell_type": "code",
   "execution_count": 31,
   "metadata": {},
   "outputs": [
    {
     "name": "stdout",
     "output_type": "stream",
     "text": [
      "1 2 3 8 7 4 5 6 "
     ]
    }
   ],
   "source": [
    "from collections import deque\n",
    "\n",
    "def bfs(graph, start, visited):\n",
    "    queue = deque([start])\n",
    "    visited[start] = True\n",
    "    \n",
    "    while queue:\n",
    "        v = queue.popleft()\n",
    "        print(v, end=' ')\n",
    "        for i in graph[v]:\n",
    "            if not visited[i]:\n",
    "                queue.append(i)\n",
    "                visited[i] = True\n",
    "                \n",
    "graph = [\n",
    "    [],\n",
    "    [2, 3, 8],\n",
    "    [1, 7],\n",
    "    [1, 4, 5],\n",
    "    [3, 5],\n",
    "    [3, 4],\n",
    "    [7],\n",
    "    [2, 6, 8],\n",
    "    [1, 7]\n",
    "]\n",
    "\n",
    "visited = [False] * 9\n",
    "\n",
    "bfs(graph, 1, visited)"
   ]
  },
  {
   "cell_type": "markdown",
   "metadata": {},
   "source": [
    "## 음료수 얼려먹기"
   ]
  },
  {
   "cell_type": "code",
   "execution_count": 3,
   "metadata": {},
   "outputs": [],
   "source": [
    "input1 = '''00110\n",
    "00011\n",
    "11111\n",
    "00000'''\n",
    "\n",
    "input2 = '''00000111100000\n",
    "11111101111110\n",
    "11011101101110\n",
    "11011101100000\n",
    "11011111111111\n",
    "11011111111100\n",
    "11000000011111\n",
    "01111111111111\n",
    "00000000011111\n",
    "01111111111000\n",
    "00011111111000\n",
    "00000001111000\n",
    "00000001111000\n",
    "11111111110011\n",
    "11100011111111\n",
    "11100011111111'''"
   ]
  },
  {
   "cell_type": "code",
   "execution_count": 151,
   "metadata": {},
   "outputs": [
    {
     "name": "stdout",
     "output_type": "stream",
     "text": [
      "3\n",
      "0.0000000000\n",
      "8\n",
      "0.0000000000\n"
     ]
    }
   ],
   "source": [
    "@timer\n",
    "def dfs(input1):\n",
    "    graph = [list(map(int, row)) for row in input1.split('\\n')]\n",
    "    n = len(graph)\n",
    "    m = len(graph[0])\n",
    "    visited = [[False] * m for _ in range(n)]\n",
    "\n",
    "    def dfs(x, y, visited):\n",
    "        if x < 0 or y < 0 or x >= n or y >= m:\n",
    "            return False\n",
    "        if not visited[x][y] and graph[x][y] == 0:\n",
    "            visited[x][y] = True\n",
    "            dfs(x + 1, y, visited)\n",
    "            dfs(x - 1, y, visited)\n",
    "            dfs(x, y + 1, visited)\n",
    "            dfs(x, y - 1, visited)\n",
    "            return True\n",
    "        return False\n",
    "\n",
    "    cnt = 0\n",
    "    for i in range(n):\n",
    "        for j in range(m):\n",
    "            if dfs(i, j, visited):\n",
    "                cnt += 1\n",
    "    print(cnt)\n",
    "dfs(input1)\n",
    "dfs(input2)"
   ]
  },
  {
   "cell_type": "code",
   "execution_count": 152,
   "metadata": {},
   "outputs": [
    {
     "name": "stdout",
     "output_type": "stream",
     "text": [
      "3\n",
      "0.0000000000\n",
      "8\n",
      "0.0009756088\n"
     ]
    }
   ],
   "source": [
    "@timer\n",
    "def solution(input1):\n",
    "    graph = [list(map(int, row)) for row in input1.split()]\n",
    "    N = len(graph)\n",
    "    M = len(graph[0])\n",
    "\n",
    "    def dfs(x, y):\n",
    "        # 좌표를 벗어날 경우 False를 반환\n",
    "        if x < 0 or y < 0 or x > N - 1 or y > M -1:\n",
    "            return False\n",
    "        if graph[x][y] == 0:\n",
    "            # 방문처리 시 True를 반환하여 클러스터 한 개당 하나의 카운트\n",
    "            graph[x][y] = 1\n",
    "            # 재귀적 탐색 -> 주변을 모두 방문처리\n",
    "            dfs(x - 1, y)\n",
    "            dfs(x + 1, y)\n",
    "            dfs(x, y - 1)\n",
    "            dfs(x, y + 1)\n",
    "            return True\n",
    "        # 방문했던 곳은 False를 반환하여 카운트하지 않도록 함\n",
    "        return False\n",
    "\n",
    "    cnt = 0\n",
    "\n",
    "    for i in range(N):\n",
    "        for j in range(M):\n",
    "            if dfs(i, j):\n",
    "                cnt += 1\n",
    "    print(cnt)\n",
    "    \n",
    "solution(input1)\n",
    "solution(input2)"
   ]
  },
  {
   "cell_type": "markdown",
   "metadata": {},
   "source": [
    "## 미로 탈출"
   ]
  },
  {
   "cell_type": "code",
   "execution_count": 11,
   "metadata": {},
   "outputs": [],
   "source": [
    "input1 = '''5 6\n",
    "101010\n",
    "111111\n",
    "000001\n",
    "111111\n",
    "111111'''"
   ]
  },
  {
   "cell_type": "code",
   "execution_count": 167,
   "metadata": {},
   "outputs": [
    {
     "data": {
      "text/plain": [
       "10"
      ]
     },
     "execution_count": 167,
     "metadata": {},
     "output_type": "execute_result"
    }
   ],
   "source": [
    "from collections import deque\n",
    "\n",
    "graph = [list(map(int, row)) for row in input1.split('\\n')[1:]]\n",
    "n, m = list(map(int, input1.split('\\n')[0].split()))\n",
    "visited = [[False] * m for _ in range(n)]\n",
    "\n",
    "#상 하 좌 우\n",
    "dx = [-1, 1, 0, 0]\n",
    "dy = [0, 0, -1, 1]\n",
    "\n",
    "\n",
    "queue = deque()\n",
    "queue.append((0, 0))\n",
    "\n",
    "while queue:\n",
    "    x, y = queue.popleft()\n",
    "    visited[x][y] = True\n",
    "    for i in range(4):\n",
    "        nx = x + dx[i]\n",
    "        ny = y + dy[i]\n",
    "        if nx < 0 or ny < 0 or nx >= n or ny >= m:\n",
    "            continue\n",
    "        if not visited[nx][ny] and graph[nx][ny] == 1:\n",
    "            queue.append((nx, ny))\n",
    "            graph[nx][ny] = graph[x][y] + 1\n",
    "graph[n - 1][m - 1]"
   ]
  },
  {
   "cell_type": "code",
   "execution_count": 128,
   "metadata": {},
   "outputs": [
    {
     "name": "stdout",
     "output_type": "stream",
     "text": [
      "10\n"
     ]
    }
   ],
   "source": [
    "from collections import deque\n",
    "\n",
    "\n",
    "n = int(input1.split()[0])\n",
    "m = int(input1.split()[1])\n",
    "graph = [list(map(int, row)) for row in input1.split()[2:]]\n",
    "\n",
    "# 상 하 좌 우\n",
    "dx = [-1, 1, 0, 0]\n",
    "dy = [0, 0, -1, 1]\n",
    "\n",
    "def bfs(x, y):\n",
    "    queue = deque()\n",
    "    queue.append((x, y))\n",
    "    while queue:\n",
    "        x, y = queue.popleft()\n",
    "        for i in range(4):\n",
    "            nx = x + dx[i]\n",
    "            ny = y + dy[i]\n",
    "            if nx < 0 or ny < 0 or nx >= n or ny >= m:\n",
    "                continue\n",
    "            if graph[nx][ny] == 0:\n",
    "                continue\n",
    "            # 해당 노드 상하좌우에 거리를 계산하여 입력\n",
    "            if graph[nx][ny] == 1:\n",
    "                graph[nx][ny] = graph[x][y] + 1\n",
    "                queue.append((nx, ny))\n",
    "\n",
    "    return graph[n - 1][m - 1]\n",
    "\n",
    "print(bfs(0, 0))"
   ]
  },
  {
   "cell_type": "code",
   "execution_count": 156,
   "metadata": {},
   "outputs": [],
   "source": [
    "input1 = '''5 6\n",
    "101010\n",
    "111111\n",
    "000001\n",
    "111111\n",
    "111111'''"
   ]
  },
  {
   "cell_type": "code",
   "execution_count": 179,
   "metadata": {},
   "outputs": [
    {
     "name": "stdout",
     "output_type": "stream",
     "text": [
      "10\n"
     ]
    }
   ],
   "source": [
    "n = int(input1.split()[0])\n",
    "m = int(input1.split()[1])\n",
    "graph = [list(map(int, row)) for row in input1.split()[2:]]\n",
    "visited = [[0] * m for _ in range(n)]\n",
    "\n",
    "x, y = 0, 0\n",
    "\n",
    "# 상 하 좌 우\n",
    "dx = [-1, 1, 0, 0]\n",
    "dy = [0, 0, -1, 1]\n",
    "\n",
    "results = []\n",
    "def bfs(x, y):\n",
    "    queue = deque()\n",
    "    queue.append((x, y))\n",
    "    results = []\n",
    "    while queue:\n",
    "        x, y = queue.popleft()\n",
    "        visited[x][y] = 1\n",
    "        for i in range(4):\n",
    "            nx = x + dx[i]\n",
    "            ny = y + dy[i]\n",
    "            if nx < 0 or ny < 0 or nx >= n or ny >= m:\n",
    "                continue\n",
    "            if graph[nx][ny] == 1 or visited[nx][ny] == 0:\n",
    "                queue.append((nx, ny))\n",
    "                graph[nx][ny] = graph[x][y] + 1\n",
    "                if graph[n - 1][m - 1] != 1 and graph[n - 1][m - 1] not in results:\n",
    "                    results.append(graph[n - 1][m - 1])\n",
    "\n",
    "    return min(results)\n",
    "\n",
    "print(bfs(x, y))"
   ]
  },
  {
   "cell_type": "markdown",
   "metadata": {},
   "source": [
    "# bfs와 dfs"
   ]
  },
  {
   "cell_type": "markdown",
   "metadata": {},
   "source": [
    "- 그래프를 DFS로 탐색한 결과와 BFS로 탐색한 결과를 출력하는 프로그램을 작성하시오. 단, 방문할 수 있는 정점이 여러 개인 경우에는 정점 번호가 작은 것을 먼저 방문하고, 더 이상 방문할 수 있는 점이 없는 경우 종료한다. 정점 번호는 1번부터 N번까지이다.\n",
    "- 첫째 줄에 정점의 개수 N(1 ≤ N ≤ 1,000), 간선의 개수 M(1 ≤ M ≤ 10,000), 탐색을 시작할 정점의 번호 V가 주어진다. 다음 M개의 줄에는 간선이 연결하는 두 정점의 번호가 주어진다. 어떤 두 정점 사이에 여러 개의 간선이 있을 수 있다. 입력으로 주어지는 간선은 양방향이다."
   ]
  },
  {
   "cell_type": "code",
   "execution_count": 2,
   "metadata": {},
   "outputs": [],
   "source": [
    "input1 = '''4 5 1\n",
    "1 2\n",
    "1 3\n",
    "1 4\n",
    "2 4\n",
    "3 4'''\n",
    "input2 = '''5 5 3\n",
    "5 4\n",
    "5 2\n",
    "1 2\n",
    "3 4\n",
    "3 1'''\n",
    "input3 = '''1000 1 1000\n",
    "999 1000'''"
   ]
  },
  {
   "cell_type": "code",
   "execution_count": 124,
   "metadata": {},
   "outputs": [
    {
     "name": "stdout",
     "output_type": "stream",
     "text": [
      "#Q1\n",
      "1 2 4 3 \n",
      "\n",
      "1 2 3 4 \n",
      "\n",
      "#Q2\n",
      "3 1 2 5 4 \n",
      "\n",
      "3 1 4 2 5 \n",
      "\n",
      "#Q3\n",
      "1000 999 \n",
      "\n",
      "1000 999 \n",
      "\n"
     ]
    }
   ],
   "source": [
    "def solution(input1):\n",
    "    from operator import itemgetter\n",
    "\n",
    "    n, m, v = list(map(int, input1.split('\\n')[0].split()))\n",
    "    graph = [list(map(int, row.split())) for row in input1.split('\\n')[1:]]\n",
    "    graph += graph + [list((e, s)) for s, e in graph]\n",
    "    graph.sort(key=itemgetter(1))\n",
    "\n",
    "    visited = [False] * (n + 1)\n",
    "    \n",
    "    print(v, end=' ')\n",
    "    def dfs(graph, v, visited):\n",
    "        visited[v] = True\n",
    "        for s, e in graph:\n",
    "            if v == s and visited[e] == False:\n",
    "                print(e, end=' ')\n",
    "                dfs(graph, e, visited)\n",
    "\n",
    "    dfs(graph, v, visited)\n",
    "    print('\\n')\n",
    "    def bfs(input1):\n",
    "        from collections import deque\n",
    "\n",
    "        n, m, v = list(map(int, input1.split('\\n')[0].split()))\n",
    "        graph = [list(map(int, row.split())) for row in input1.split('\\n')[1:]]\n",
    "        graph = graph + [list((e, s)) for s, e in graph]\n",
    "        graph.sort(key=itemgetter(1))\n",
    "\n",
    "        visited = [False] * (n + 1)\n",
    "\n",
    "        queue = deque()\n",
    "        queue.append(v)\n",
    "\n",
    "        visited[v] = True\n",
    "        print(v, end=' ')\n",
    "        while queue:\n",
    "            x = queue.popleft()\n",
    "            for s, e in graph:\n",
    "                if x == s and visited[e] == False:\n",
    "                    print(e, end=' ')\n",
    "                    queue.append(e)\n",
    "                    visited[e] = True\n",
    "    bfs(input1)\n",
    "    print('\\n')\n",
    "\n",
    "print('#Q1')\n",
    "solution(input1)\n",
    "print('#Q2')\n",
    "solution(input2)\n",
    "print('#Q3')\n",
    "solution(input3)"
   ]
  },
  {
   "cell_type": "markdown",
   "metadata": {},
   "source": [
    "# 단지번호 붙이기\n",
    "<그림 1>과 같이 정사각형 모양의 지도가 있다. 1은 집이 있는 곳을, 0은 집이 없는 곳을 나타낸다. 철수는 이 지도를 가지고 연결된 집의 모임인 단지를 정의하고, 단지에 번호를 붙이려 한다. 여기서 연결되었다는 것은 어떤 집이 좌우, 혹은 아래위로 다른 집이 있는 경우를 말한다. 대각선상에 집이 있는 경우는 연결된 것이 아니다. <그림 2>는 <그림 1>을 단지별로 번호를 붙인 것이다. 지도를 입력하여 단지수를 출력하고, 각 단지에 속하는 집의 수를 오름차순으로 정렬하여 출력하는 프로그램을 작성하시오.\n",
    "- 첫 번째 줄에는 지도의 크기 N(정사각형이므로 가로와 세로의 크기는 같으며 5≤N≤25)이 입력되고, 그 다음 N줄에는 각각 N개의 자료(0혹은 1)가 입력된다."
   ]
  },
  {
   "cell_type": "code",
   "execution_count": 97,
   "metadata": {},
   "outputs": [],
   "source": [
    "input1 = '''7\n",
    "0110100\n",
    "0110101\n",
    "1110101\n",
    "0000111\n",
    "0100000\n",
    "0111110\n",
    "0111000'''"
   ]
  },
  {
   "cell_type": "code",
   "execution_count": 100,
   "metadata": {},
   "outputs": [
    {
     "name": "stdout",
     "output_type": "stream",
     "text": [
      "3\n",
      "7\n",
      "8\n",
      "9\n"
     ]
    }
   ],
   "source": [
    "n = int(input1.split()[0])\n",
    "graph = [list(map(int, row)) for row in input1.split('\\n')[1:]]\n",
    "visited = [[False] * n for _ in range(n)]\n",
    "\n",
    "# 상 하 좌 우\n",
    "dx = [-1, 1, 0, 0]\n",
    "dy = [0, 0, -1, 1]\n",
    "\n",
    "def dfs(x, y):\n",
    "    global n_neighbors\n",
    "\n",
    "    if x < 0 or x >= n or y <0 or y >= n:\n",
    "        return False, n_neighbors\n",
    "    \n",
    "    if graph[x][y] == 0 or visited[x][y] == True:\n",
    "        return False, n_neighbors\n",
    "    \n",
    "    visited[x][y] = True\n",
    "    n_neighbors += 1\n",
    "    for i in range(4):\n",
    "        nx = x + dx[i]\n",
    "        ny = y + dy[i]\n",
    "        dfs(nx, ny)\n",
    "    return True, n_neighbors\n",
    "\n",
    "cnt = 0\n",
    "num = []\n",
    "\n",
    "for i in range(n):\n",
    "    for j in range(n):\n",
    "        n_neighbors = 0\n",
    "        result = dfs(i, j)\n",
    "        cnt += int(result[0])\n",
    "        if result[1] != 0:\n",
    "            num.append(result[1])\n",
    "\n",
    "num.sort()\n",
    "\n",
    "print(cnt)\n",
    "for n in num:\n",
    "    print(n)"
   ]
  },
  {
   "cell_type": "code",
   "execution_count": null,
   "metadata": {},
   "outputs": [],
   "source": []
  }
 ],
 "metadata": {
  "kernelspec": {
   "display_name": "Python 3",
   "language": "python",
   "name": "python3"
  },
  "language_info": {
   "codemirror_mode": {
    "name": "ipython",
    "version": 3
   },
   "file_extension": ".py",
   "mimetype": "text/x-python",
   "name": "python",
   "nbconvert_exporter": "python",
   "pygments_lexer": "ipython3",
   "version": "3.8.5"
  }
 },
 "nbformat": 4,
 "nbformat_minor": 4
}

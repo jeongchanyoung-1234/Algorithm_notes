{
 "cells": [
  {
   "cell_type": "markdown",
   "metadata": {},
   "source": [
    "- 타겟을 설정해서 dp table로 관리\n",
    "- 타겟 확인 -> 점화식 -> initialize -> loop"
   ]
  },
  {
   "cell_type": "markdown",
   "metadata": {},
   "source": [
    "# 1로 만들기"
   ]
  },
  {
   "cell_type": "code",
   "execution_count": 9,
   "metadata": {},
   "outputs": [],
   "source": [
    "input1 = '26' # 3"
   ]
  },
  {
   "cell_type": "code",
   "execution_count": 10,
   "metadata": {},
   "outputs": [
    {
     "name": "stdout",
     "output_type": "stream",
     "text": [
      "3\n"
     ]
    }
   ],
   "source": [
    "# 타겟 : 최소 계산횟수\n",
    "def solution(input1):\n",
    "    n = int(input1)\n",
    "\n",
    "    d = [0] * (n + 1)\n",
    "    for i in range(2, n + 1):\n",
    "        d[i] = d[i - 1] + 1\n",
    "        if i % 2 == 0:\n",
    "            d[i] = min(d[i], d[i // 2] + 1)\n",
    "        if i % 3 == 0:\n",
    "            d[i] = min(d[i], d[i // 3] + 1)\n",
    "        if i % 5 == 0:\n",
    "            d[i] = min(d[i], d[i // 5] + 1)\n",
    "    print(d[n])\n",
    "solution(input1)"
   ]
  },
  {
   "cell_type": "markdown",
   "metadata": {},
   "source": [
    "# 개미 전사"
   ]
  },
  {
   "cell_type": "code",
   "execution_count": 20,
   "metadata": {},
   "outputs": [],
   "source": [
    "input1 = '''4\n",
    "1 3 1 5'''"
   ]
  },
  {
   "cell_type": "code",
   "execution_count": 26,
   "metadata": {},
   "outputs": [
    {
     "name": "stdout",
     "output_type": "stream",
     "text": [
      "8\n"
     ]
    }
   ],
   "source": [
    "# 타겟 : 최대 식량\n",
    "\n",
    "def solution(input1):\n",
    "    n = int(input1.split()[0])\n",
    "    array = list(map(int, input1.split()[1:]))\n",
    "    \n",
    "    d = [0] * n\n",
    "    d[0] = array[0]\n",
    "    d[1] = max(array[0], array[1])\n",
    "    for i in range(3, n):\n",
    "        d[i] = max(array[i - 1], array[i - 2] + array[i])\n",
    "        \n",
    "    print(d[n - 1])\n",
    "solution(input1)"
   ]
  },
  {
   "cell_type": "markdown",
   "metadata": {},
   "source": [
    "# 바닥 공사"
   ]
  },
  {
   "cell_type": "code",
   "execution_count": 37,
   "metadata": {},
   "outputs": [],
   "source": [
    "input1 = '3'"
   ]
  },
  {
   "cell_type": "code",
   "execution_count": 38,
   "metadata": {},
   "outputs": [
    {
     "name": "stdout",
     "output_type": "stream",
     "text": [
      "5\n"
     ]
    }
   ],
   "source": [
    "# 타겟 : 타일 경우의 수\n",
    "def solution(input1):\n",
    "    n = int(input1)\n",
    "    \n",
    "    d = [0] * n\n",
    "    d[0] = 1\n",
    "    d[1] = 3\n",
    "    for i in range(2, n):\n",
    "        d[i] = 2 * d[i - 2] + d[i - 1]\n",
    "        \n",
    "    print(d[n - 1])\n",
    "solution(input1)"
   ]
  },
  {
   "cell_type": "markdown",
   "metadata": {},
   "source": [
    "# 효율적인 화폐 구성"
   ]
  },
  {
   "cell_type": "code",
   "execution_count": 53,
   "metadata": {},
   "outputs": [],
   "source": [
    "input1 = '''2 15\n",
    "2\n",
    "3''' # 5\n",
    "input2 = '''3 4\n",
    "3\n",
    "5\n",
    "7''' # -1"
   ]
  },
  {
   "cell_type": "code",
   "execution_count": 65,
   "metadata": {},
   "outputs": [
    {
     "name": "stdout",
     "output_type": "stream",
     "text": [
      "5\n",
      "-1\n"
     ]
    }
   ],
   "source": [
    "# 타켓 : 최소 동전 수\n",
    "def solution(input1):\n",
    "    n, m = list(map(int, input1.split()[:2]))\n",
    "    coins = list(map(int, input1.split()[2:]))\n",
    "    \n",
    "    d = [0] * 10001\n",
    "\n",
    "    for coin in coins:\n",
    "        d[coin] += 1\n",
    "\n",
    "    for i in range(coins[-1] + 1, m + 1):\n",
    "        tmp = []\n",
    "        for coin in coins:\n",
    "            tmp.append(d[i - coin] + 1)\n",
    "        d[i] = min(tmp)\n",
    "    print(d[m] if d[m] != 0 else -1)\n",
    "solution(input1)\n",
    "solution(input2)"
   ]
  },
  {
   "cell_type": "code",
   "execution_count": 69,
   "metadata": {},
   "outputs": [
    {
     "name": "stdout",
     "output_type": "stream",
     "text": [
      "5\n",
      "-1\n"
     ]
    }
   ],
   "source": [
    "def solution(input1):\n",
    "    n, m = list(map(int, input1.split()[:2]))\n",
    "    coins = list(map(int, input1.split()[2:]))\n",
    "\n",
    "    d = [10001] * (m + 1)\n",
    "\n",
    "    d[0] = 0\n",
    "    for i in range(n):\n",
    "        for j in range(coins[i], m + 1):\n",
    "            d[j] = min(d[j], d[j - coins[i]] + 1)\n",
    "\n",
    "    print(d[m] if d[m] != 10001 else -1)\n",
    "solution(input1)\n",
    "solution(input2)"
   ]
  },
  {
   "cell_type": "markdown",
   "metadata": {},
   "source": [
    "# 금광"
   ]
  },
  {
   "cell_type": "code",
   "execution_count": 161,
   "metadata": {},
   "outputs": [
    {
     "name": "stdout",
     "output_type": "stream",
     "text": [
      "2\n",
      "3 4\n",
      "1 3 3 2 2 1 4 1 0 6 4 7\n",
      "[[-1, -1, -1, -1], [-1, 1, 3, 3, 2], [-1, 2, 1, 4, 1], [-1, 0, 6, 4, 7], [-1, -1, -1, -1]]\n",
      "[[-1, -1, -1, -1, -1], [-1, -1, -1, -1, -1], [-1, -1, -1, -1, -1], [-1, -1, -1, -1, -1], [-1, -1, -1, -1, -1]]\n",
      "19\n",
      "4 4\n",
      "1 3 1 5 2 2 4 1 5 0 2 3 0 6 1 2\n",
      "[[-1, -1, -1, -1], [-1, 1, 3, 1, 5], [-1, 2, 2, 4, 1], [-1, 5, 0, 2, 3], [-1, 0, 6, 1, 2], [-1, -1, -1, -1]]\n",
      "[[-1, -1, -1, -1, -1], [-1, -1, -1, -1, -1], [-1, -1, -1, -1, -1], [-1, -1, -1, -1, -1], [-1, -1, -1, -1, -1], [-1, -1, -1, -1, -1]]\n",
      "16\n"
     ]
    }
   ],
   "source": [
    "# input1 = '''2\n",
    "# 3 4\n",
    "# 1 3 3 2 2 1 4 1 0 6 4 7\n",
    "# 4 4\n",
    "# 1 3 1 5 2 2 4 1 5 0 2 3 0 6 1 2'''\n",
    "\n",
    "T = int(input())\n",
    "for _ in range(T):\n",
    "    n, m = list(map(int, input().split()))\n",
    "    array = []\n",
    "    string = input().split()\n",
    "    for i in range(0, len(string), m):\n",
    "        array.append(list(map(int, string[i:i + m])))\n",
    "    \n",
    "\n",
    "    array = [[-1] * m] + list(map(lambda x: [-1] + x, array)) + [[-1] * m]\n",
    "    table = [[-1] * (m + 1) for _ in range(n + 2)]\n",
    "    \n",
    "    print(array)\n",
    "    print(table)\n",
    "\n",
    "    for i in range(1, n + 1):\n",
    "        table[i][1] = array[i][1]\n",
    "\n",
    "    for i in range(2, m + 1):\n",
    "        for j in range(1, n + 1):\n",
    "            table[j][i] = max(table[j - 1][i - 1], table[j][i - 1], table[j + 1][i - 1]) + array[j][i]\n",
    "\n",
    "    result = 0\n",
    "    for i in range(1, n + 1):\n",
    "        result = max(result, table[i][m])\n",
    "\n",
    "    print(result)"
   ]
  },
  {
   "cell_type": "code",
   "execution_count": 16,
   "metadata": {},
   "outputs": [],
   "source": [
    "input1 = '''5\n",
    "7\n",
    "3 8\n",
    "8 1 0\n",
    "2 7 4 4\n",
    "4 5 2 6 5'''"
   ]
  },
  {
   "cell_type": "code",
   "execution_count": 21,
   "metadata": {},
   "outputs": [
    {
     "data": {
      "text/plain": [
       "30"
      ]
     },
     "execution_count": 21,
     "metadata": {},
     "output_type": "execute_result"
    }
   ],
   "source": [
    "n = int(input1.split('\\n')[0])\n",
    "array = [[-1] * (n + 2)]\n",
    "for i in input1.split('\\n')[1:]:\n",
    "    item = list(map(int, i.split()))\n",
    "    if len(item) < n:\n",
    "        item += [0] * (n - len(item))\n",
    "    array.append([0] + item + [0])\n",
    "\n",
    "table = [[0] * (n + 2) for _ in range(n + 2)]\n",
    "for c in range(1, n + 1):\n",
    "    table[1][c] = array[1][c]\n",
    "\n",
    "for r in range(2, n + 1):\n",
    "    for c in range(1, n + 1):\n",
    "        table[r][c] = max(table[r - 1][c], table[r - 1][c - 1]) + array[r][c]\n",
    "\n",
    "answer = 0\n",
    "for c in range(1, n + 1):\n",
    "    answer = max(answer, table[n][c])\n",
    "answer"
   ]
  },
  {
   "cell_type": "code",
   "execution_count": 33,
   "metadata": {},
   "outputs": [
    {
     "name": "stdout",
     "output_type": "stream",
     "text": [
      "5\n",
      "7\n",
      "3 8\n",
      "8 1 0\n",
      "2 7 4 4\n",
      "4 5 2 6 5\n",
      "30\n"
     ]
    }
   ],
   "source": [
    "n = int(input())\n",
    "tmp = []\n",
    "for _ in range(n):\n",
    "    tmp.append(list(map(int, input().split())))\n",
    "    \n",
    "array = [[0] * (n + 1)]\n",
    "for item in tmp:\n",
    "    if len(item) < n:\n",
    "        item += [0] * (n - len(item))\n",
    "    array.append([0] + item)\n",
    "    \n",
    "table = [[0] * (n + 1) for _ in range(n + 1)]\n",
    "for c in range(1, n + 1):\n",
    "    table[1][c] = array[1][c]\n",
    "\n",
    "for r in range(2, n + 1):\n",
    "    for c in range(1, n + 1):\n",
    "        table[r][c] = max(table[r - 1][c], table[r - 1][c - 1]) + array[r][c]\n",
    "\n",
    "answer = 0\n",
    "for c in range(1, n + 1):\n",
    "    answer = max(answer, table[n][c])\n",
    "print(answer)"
   ]
  },
  {
   "cell_type": "markdown",
   "metadata": {},
   "source": [
    "# 퇴사"
   ]
  },
  {
   "cell_type": "code",
   "execution_count": 33,
   "metadata": {},
   "outputs": [
    {
     "name": "stdout",
     "output_type": "stream",
     "text": [
      "45\n",
      "55\n",
      "20\n",
      "90\n"
     ]
    }
   ],
   "source": [
    "input1 = '''7\n",
    "3 10\n",
    "5 20\n",
    "1 10\n",
    "1 20\n",
    "2 15\n",
    "4 40\n",
    "2 200'''\n",
    "\n",
    "input2 = '''10\n",
    "1 1\n",
    "1 2\n",
    "1 3\n",
    "1 4\n",
    "1 5\n",
    "1 6\n",
    "1 7\n",
    "1 8\n",
    "1 9\n",
    "1 10'''\n",
    "\n",
    "input3 = '''10\n",
    "5 10\n",
    "5 9\n",
    "5 8\n",
    "5 7\n",
    "5 6\n",
    "5 10\n",
    "5 9\n",
    "5 8\n",
    "5 7\n",
    "5 6'''\n",
    "\n",
    "input4 = '''10\n",
    "5 50\n",
    "4 40\n",
    "3 30\n",
    "2 20\n",
    "1 10\n",
    "1 10\n",
    "2 20\n",
    "3 30\n",
    "4 40\n",
    "5 50'''\n",
    "\n",
    "def solution(input1):\n",
    "    n = int(input1.split('\\n')[0])\n",
    "    array = [list(map(int, row.split())) for row in input1.split('\\n')[1:]]\n",
    "    end = []\n",
    "    price = []\n",
    "\n",
    "    for i, (t, p) in enumerate(array):\n",
    "        end.append(t + i)\n",
    "        price.append(p)\n",
    "\n",
    "    table = [0] * n\n",
    "\n",
    "    for i in range(0, len(price)):\n",
    "        if end[i] > n:\n",
    "            continue\n",
    "        tmp = [0]\n",
    "        for j in range(0, i):\n",
    "            if end[j] <= i:\n",
    "                tmp.append(table[j])\n",
    "        table[i] = max(tmp) + price[i]\n",
    "\n",
    "    print(max(table))\n",
    "    \n",
    "solution(input1)\n",
    "solution(input2)\n",
    "solution(input3)\n",
    "solution(input4)"
   ]
  },
  {
   "cell_type": "code",
   "execution_count": 23,
   "metadata": {},
   "outputs": [
    {
     "name": "stdout",
     "output_type": "stream",
     "text": [
      "10\n",
      "5 50\n",
      "4 40\n",
      "3 30\n",
      "2 20\n",
      "1 10\n",
      "1 10\n",
      "2 20\n",
      "3 30\n",
      "4 40\n",
      "5 50\n",
      "90\n"
     ]
    }
   ],
   "source": [
    "n = int(input())\n",
    "array = []\n",
    "for _ in range(n):\n",
    "    array.append(list(map(int, input().split())))\n",
    "\n",
    "end = []\n",
    "price = []\n",
    "\n",
    "for i, (t, p) in enumerate(array):\n",
    "    end.append(t + i)\n",
    "    price.append(p)\n",
    "\n",
    "table = [0] * n\n",
    "\n",
    "for i in range(0, len(price)):\n",
    "    if end[i] > n:\n",
    "        continue\n",
    "    tmp = [0]\n",
    "    for j in range(0, i):\n",
    "        if end[j] <= i:\n",
    "            tmp.append(table[j])\n",
    "    table[i] = max(tmp) + price[i]\n",
    "\n",
    "print(max(table))"
   ]
  },
  {
   "cell_type": "markdown",
   "metadata": {},
   "source": [
    "# 병사 배치하기"
   ]
  },
  {
   "cell_type": "code",
   "execution_count": 10,
   "metadata": {},
   "outputs": [],
   "source": [
    "input1 = '''7\n",
    "15 11 4 8 2 5 4'''\n",
    "input2 = '''9\n",
    "15 11 4 8 6 4 3 2 5'''"
   ]
  },
  {
   "cell_type": "code",
   "execution_count": 12,
   "metadata": {},
   "outputs": [
    {
     "name": "stdout",
     "output_type": "stream",
     "text": [
      "2\n",
      "4\n"
     ]
    }
   ],
   "source": [
    "def solution(input1):\n",
    "    n = int(input1.split('\\n')[0])\n",
    "    array = list(map(int, input1.split('\\n')[1].split()))\n",
    "\n",
    "    cnt = 0\n",
    "    prev = array[-1]\n",
    "\n",
    "    for i in range(n - 1, 0, -1):\n",
    "        if array[i - 1] < prev:\n",
    "            cnt += 1\n",
    "            continue\n",
    "        prev = array[i - 1]\n",
    "\n",
    "    print(cnt)\n",
    "solution(input1)\n",
    "solution(input2)"
   ]
  },
  {
   "cell_type": "code",
   "execution_count": 17,
   "metadata": {},
   "outputs": [
    {
     "name": "stdout",
     "output_type": "stream",
     "text": [
      "2\n"
     ]
    }
   ],
   "source": [
    "def solution(input1):\n",
    "    n = int(input1.split('\\n')[0])\n",
    "    array = list(map(int, input1.split('\\n')[1].split()))\n",
    "\n",
    "    table = [1] * n\n",
    "    for i in range(1, n):\n",
    "        for j in range(0, i):\n",
    "            if array[j] > array[i]:\n",
    "                table[i] = max(table[j] + 1, table[i])\n",
    "\n",
    "    print(n - max(table))\n",
    "    \n",
    "solution(input2)"
   ]
  },
  {
   "cell_type": "code",
   "execution_count": 9,
   "metadata": {},
   "outputs": [
    {
     "name": "stdout",
     "output_type": "stream",
     "text": [
      "7\n",
      "15 11 4 8 5 2 4\n",
      "2\n"
     ]
    }
   ],
   "source": [
    "n = int(input())\n",
    "array = list(map(int, input().split()))\n",
    "\n",
    "table = [1] * n\n",
    "for i in range(1, n):\n",
    "    for j in range(0, i):\n",
    "        if array[j] > array[i]:\n",
    "            table[i] = max(table[j] + 1, table[i])\n",
    "\n",
    "print(n - max(table))"
   ]
  },
  {
   "cell_type": "code",
   "execution_count": 21,
   "metadata": {},
   "outputs": [
    {
     "name": "stdout",
     "output_type": "stream",
     "text": [
      "7\n",
      "15 11 4 8 5 2 4\n",
      "2\n"
     ]
    }
   ],
   "source": [
    "n = int(input())\n",
    "array = list(map(int, input().split()))\n",
    "\n",
    "table = [1] * n\n",
    "for i in range(n - 2, -1, -1):\n",
    "    for j in range(i, n):\n",
    "        if array[j] < array[i]:\n",
    "            table[i] = max(table[j] + 1, table[i])\n",
    "\n",
    "print(n - max(table))"
   ]
  },
  {
   "cell_type": "markdown",
   "metadata": {},
   "source": [
    "# 못생긴 수"
   ]
  },
  {
   "cell_type": "code",
   "execution_count": 50,
   "metadata": {},
   "outputs": [
    {
     "name": "stdout",
     "output_type": "stream",
     "text": [
      "10\n",
      "12\n"
     ]
    }
   ],
   "source": [
    "n = int(input())\n",
    "\n",
    "table = [0] * int(1e6)\n",
    "table[1] = 1\n",
    "\n",
    "for i in range(1, n):\n",
    "    table[i * 2] = table[i] * 2\n",
    "    table[i * 3] = table[i] * 3\n",
    "    table[i * 5] = table[i] * 5\n",
    "    \n",
    "table = [x for x in table if x > 0]\n",
    "print(table[n - 1])"
   ]
  },
  {
   "cell_type": "code",
   "execution_count": 47,
   "metadata": {},
   "outputs": [
    {
     "name": "stdout",
     "output_type": "stream",
     "text": [
      "1\n",
      "2\n"
     ]
    }
   ],
   "source": [
    "n = int(input())\n",
    "\n",
    "table = [0] * n\n",
    "table[0] = 1\n",
    "\n",
    "for i in range(n):\n",
    "    next_value = min(table[i] * 2, table[i] * 3, table[i] * 5)\n",
    "    "
   ]
  },
  {
   "cell_type": "code",
   "execution_count": 46,
   "metadata": {},
   "outputs": [
    {
     "data": {
      "text/plain": [
       "4"
      ]
     },
     "execution_count": 46,
     "metadata": {},
     "output_type": "execute_result"
    }
   ],
   "source": [
    "n = int(input())\n",
    "\n",
    "table = [1]\n",
    "prime_factor = [2, 3, 5]\n",
    "cnt = 0\n",
    "\n",
    "while True:\n",
    "    if cnt > n:\n",
    "        break\n",
    "    for i in range(cnt, len(table)):\n",
    "        for p in prime_factor:\n",
    "            if table[i] * p not in table:\n",
    "                table.append(table[i] * p)\n",
    "    cnt += 1\n",
    "\n",
    "table.sort()\n",
    "table[n - 1]"
   ]
  },
  {
   "cell_type": "code",
   "execution_count": 58,
   "metadata": {},
   "outputs": [
    {
     "name": "stdout",
     "output_type": "stream",
     "text": [
      "10\n",
      "12\n"
     ]
    }
   ],
   "source": [
    "n = int(input())\n",
    "\n",
    "table = [0] * n\n",
    "table[0] = 1\n",
    "\n",
    "i2 = i3 = i5 = 0\n",
    "next2, next3, next5 = 2, 3, 5\n",
    "\n",
    "for l in range(1, n):\n",
    "    table[l] = min(next2, next3, next5)\n",
    "    if table[l] == next2:\n",
    "        i2 += 1\n",
    "        next2 = table[i2] * 2\n",
    "    if table[l] == next3:\n",
    "        i3 += 1\n",
    "        next3 = table[i3] * 3\n",
    "    if table[l] == next5:\n",
    "        i5 += 1\n",
    "        next5 = table[i5] * 5\n",
    "\n",
    "print(table[n - 1])"
   ]
  },
  {
   "cell_type": "markdown",
   "metadata": {},
   "source": [
    "# 편집 거리"
   ]
  },
  {
   "cell_type": "code",
   "execution_count": 16,
   "metadata": {},
   "outputs": [
    {
     "name": "stdout",
     "output_type": "stream",
     "text": [
      "sunday\n",
      "saturday\n",
      "3\n"
     ]
    }
   ],
   "source": [
    "# input1 = '''sunday\n",
    "# saturday'''\n",
    "\n",
    "# input1 = '''cat\n",
    "# cut'''\n",
    "\n",
    "str1 = input()\n",
    "str2 = input()\n",
    "\n",
    "left = list(str1) if len(str1) >= len(str2) else list(str2)\n",
    "right = list(str2) if len(str1) >= len(str2) else list(str1)\n",
    "diff = len(left) - len(right)\n",
    "\n",
    "cnt = 0\n",
    "for i in range(len(left)):\n",
    "    if diff > 0:\n",
    "        if left[i] != right[i]:\n",
    "            cnt += 1\n",
    "            right.insert(i, left[i])\n",
    "            diff -= 1\n",
    "    else:\n",
    "        if left[i] != right[i]:\n",
    "            cnt += 1\n",
    "            \n",
    "print(cnt)"
   ]
  },
  {
   "cell_type": "code",
   "execution_count": 55,
   "metadata": {},
   "outputs": [
    {
     "name": "stdout",
     "output_type": "stream",
     "text": [
      "sunday\n",
      "saturday\n",
      "3\n"
     ]
    }
   ],
   "source": [
    "input1 = input()\n",
    "input2 = input()\n",
    "\n",
    "n = len(input1)\n",
    "m = len(input2)\n",
    "\n",
    "str1 = [0] + list(input1)\n",
    "str2 = [0] + list(input2)\n",
    "\n",
    "table = [[0] * (m + 1) for _ in range(n + 1)]\n",
    "\n",
    "for i, j in enumerate(range(n + 1)):\n",
    "    table[j][0] = i\n",
    "for i, j in enumerate(range(m + 1)):\n",
    "    table[0][j] = i\n",
    "    \n",
    "for r in range(1, n + 1):\n",
    "    for c in range(1, m + 1):\n",
    "        if str1[r] == str2[c]:\n",
    "            table[r][c] = table[r - 1][c - 1]\n",
    "        else:\n",
    "            table[r][c] = min(table[r][c - 1], table[r - 1][c], table[r - 1][c - 1]) + 1\n",
    "    \n",
    "print(table[n][m])"
   ]
  }
 ],
 "metadata": {
  "kernelspec": {
   "display_name": "Python 3",
   "language": "python",
   "name": "python3"
  },
  "language_info": {
   "codemirror_mode": {
    "name": "ipython",
    "version": 3
   },
   "file_extension": ".py",
   "mimetype": "text/x-python",
   "name": "python",
   "nbconvert_exporter": "python",
   "pygments_lexer": "ipython3",
   "version": "3.8.5"
  }
 },
 "nbformat": 4,
 "nbformat_minor": 4
}

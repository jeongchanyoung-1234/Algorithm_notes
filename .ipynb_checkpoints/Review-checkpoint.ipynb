{
 "cells": [
  {
   "cell_type": "code",
   "execution_count": 8,
   "metadata": {},
   "outputs": [],
   "source": [
    "import sys\n",
    "from io import StringIO"
   ]
  },
  {
   "cell_type": "code",
   "execution_count": 25,
   "metadata": {},
   "outputs": [
    {
     "name": "stdout",
     "output_type": "stream",
     "text": [
      "5 8 3\n",
      "2 4 5 4 6\n",
      "46\n"
     ]
    }
   ],
   "source": [
    "# 큰 수의 법칙\n",
    "n, m, k = list(map(int, input().split()))\n",
    "array = list(map(int, input().split()))\n",
    "\n",
    "array.sort(reverse=True)\n",
    "# 가장 큰 수가 k번, 두번째로 큰 수가 1번 나오는 것이 반복\n",
    "sub = [array[0] for _ in range(k)] + [array[1]]\n",
    "result = sum(sub) * (m // (k + 1)) + \\\n",
    "         array[0] * (m % (k + 1))\n",
    "print(result)"
   ]
  },
  {
   "cell_type": "code",
   "execution_count": 30,
   "metadata": {},
   "outputs": [
    {
     "name": "stdout",
     "output_type": "stream",
     "text": [
      "2 4\n",
      "7 3 1 8\n",
      "3 3 3 4\n",
      "3\n"
     ]
    }
   ],
   "source": [
    "# 숫자 카드 게임\n",
    "n, m = list(map(int, input().split()))\n",
    "array = []\n",
    "for _ in range(n):\n",
    "    array.append(list(map(int, input().split())))\n",
    "result = []\n",
    "for i in range(n):\n",
    "    result.append(min(array[i]))\n",
    "print(max(result))"
   ]
  },
  {
   "cell_type": "code",
   "execution_count": 34,
   "metadata": {},
   "outputs": [
    {
     "name": "stdout",
     "output_type": "stream",
     "text": [
      "25 5\n",
      "2\n"
     ]
    }
   ],
   "source": [
    "# 1이 될 때까지\n",
    "n, k = list(map(int, input().split()))\n",
    "cnt = 0\n",
    "m = n\n",
    "while m != 1:\n",
    "    m = m // k if m % k == 0 else m - 1\n",
    "    cnt += 1\n",
    "print(cnt)"
   ]
  },
  {
   "cell_type": "code",
   "execution_count": 41,
   "metadata": {},
   "outputs": [
    {
     "name": "stdout",
     "output_type": "stream",
     "text": [
      "5\n",
      "R R R U D D\n",
      "3 4\n"
     ]
    }
   ],
   "source": [
    "# 상하좌우\n",
    "n = int(input())\n",
    "cmd = list(input().split())\n",
    "\n",
    "x = 1\n",
    "y = 1\n",
    "\n",
    "moves = ['L', 'R', 'U', 'D']\n",
    "dx = [0, 0, -1, 1]\n",
    "dy = [-1, 1, 0, 0]\n",
    "for c in cmd:\n",
    "    i = moves.index(c)\n",
    "    nx, ny = x + dx[i], y + dy[i]\n",
    "    if 1 <= nx <= n and 1 <= ny <= n:\n",
    "        x = nx\n",
    "        y = ny\n",
    "\n",
    "print(x, y)"
   ]
  },
  {
   "cell_type": "code",
   "execution_count": 45,
   "metadata": {},
   "outputs": [
    {
     "name": "stdout",
     "output_type": "stream",
     "text": [
      "5\n",
      "11475\n"
     ]
    }
   ],
   "source": [
    "# 시각\n",
    "n = int(input())\n",
    "h, m, s = 0, 0, 0\n",
    "cnt = 0\n",
    "while h <= n:\n",
    "    if s == 60:\n",
    "        m += 1\n",
    "        s = 0\n",
    "    if m == 60:\n",
    "        h += 1\n",
    "        m = 0\n",
    "    if '3' in str(h) or '3' in str(m) or '3' in str(s):\n",
    "        cnt += 1\n",
    "    s += 1\n",
    "print(cnt)"
   ]
  },
  {
   "cell_type": "code",
   "execution_count": 69,
   "metadata": {},
   "outputs": [
    {
     "name": "stdout",
     "output_type": "stream",
     "text": [
      "a1\n",
      "2\n"
     ]
    }
   ],
   "source": [
    "# 왕실의 나이트\n",
    "loc = tuple(input())\n",
    "loc = (ord(loc[0]) - ord('a') + 1, int(loc[1]))\n",
    "\n",
    "moves = [(2, -1), (2, 1), (-2, 1), (-2, -1), (1, -2), (1, 2), (-1, 2), (-1, -2)]\n",
    "x, y = loc\n",
    "cnt = 0\n",
    "\n",
    "for dx, dy in moves:\n",
    "    nx, ny = x + dx, y + dy\n",
    "    if 1 <= nx <= 8 and 1 <= ny <=8:\n",
    "        cnt += 1\n",
    "print(cnt)"
   ]
  },
  {
   "cell_type": "code",
   "execution_count": 1,
   "metadata": {},
   "outputs": [
    {
     "name": "stdout",
     "output_type": "stream",
     "text": [
      "4 4\n",
      "1 1 0\n",
      "1 1 1 1\n",
      "1 0 0 1\n",
      "1 1 0 1\n",
      "1 1 1 1\n",
      "3\n"
     ]
    }
   ],
   "source": [
    "# 게임 개발\n",
    "n, m = list(map(int, input().split()))\n",
    "x, y, direction = list(map(int, input().split()))\n",
    "array = [[] for _ in range(n)]\n",
    "for i in range(n):\n",
    "    array[i] = list(map(int, input().split()))\n",
    "    \n",
    "visited = [[False] * n for _ in range(n)]\n",
    "# 북, 동, 남, 서\n",
    "dx = [-1, 0, 1, 0]\n",
    "dy = [0, 1, 0, -1]\n",
    "\n",
    "visited[x][y] = True\n",
    "turn_cnt = 0\n",
    "while True:\n",
    "    if turn_cnt == 4:\n",
    "        nx, ny = x - dx[direction], y - dy[direction]\n",
    "        if array[nx][ny] == 1:\n",
    "            break\n",
    "        x, y = nx, ny\n",
    "        visited[x][y] = True\n",
    "        turn_cnt = 0\n",
    "        \n",
    "    direction = (direction - 1) % 4\n",
    "    nx, ny = x + dx[direction], y + dy[direction]\n",
    "    if nx < 0 or nx >= n or ny < 0 or ny >= m:\n",
    "        continue\n",
    "    if array[nx][ny] == 1 or visited[nx][ny]:\n",
    "        direction = (direction - 1) % 4\n",
    "        turn_cnt += 1\n",
    "        continue\n",
    "    x, y = nx, ny\n",
    "    visited[x][y] = True\n",
    "\n",
    "result = 0\n",
    "for i in visited:\n",
    "    result += sum(i)\n",
    "print(result)"
   ]
  },
  {
   "cell_type": "code",
   "execution_count": 141,
   "metadata": {},
   "outputs": [
    {
     "data": {
      "text/plain": [
       "8"
      ]
     },
     "execution_count": 141,
     "metadata": {},
     "output_type": "execute_result"
    }
   ],
   "source": [
    "# 음료수 얼려먹기\n",
    "# sys.stdin = StringIO('00110 00011 11111 00000')\n",
    "INPUT = '''00000111100000\n",
    "11111101111110\n",
    "11011101101110\n",
    "11011101100000\n",
    "11011111111111\n",
    "11011111111100\n",
    "11000000011111\n",
    "01111111111111\n",
    "00000000011111\n",
    "01111111111000\n",
    "00011111111000\n",
    "00000001111000\n",
    "00000001111000\n",
    "11111111110011\n",
    "11100011111111\n",
    "11100011111111'''\n",
    "\n",
    "array = [list(map(int, row)) for row in INPUT.split()]\n",
    "ncol = len(array[0])\n",
    "nrow = len(array)\n",
    "\n",
    "# bfs를 이용해선 처리하기 힘듦\n",
    "# 재귀호출이 모두 끝나고(테이블 업데이트가 모두 끝나고) True를 반환해야하기 때문\n",
    "def dfs(x, y):\n",
    "    if x < 0 or x >= nrow or y < 0 or y >= ncol:\n",
    "        return False\n",
    "    drc = [(x - 1, y), (x + 1, y), (x, y - 1), (x, y + 1)]\n",
    "    if array[x][y] == 0:\n",
    "        array[x][y] = 1\n",
    "        for nx, ny in drc:\n",
    "            dfs(nx, ny)\n",
    "        # 방문하지 않은 경우에만 모든 인접노드에 대해 \n",
    "        # 방문처리한 후 True를 반환\n",
    "        return True\n",
    "    return False\n",
    "\n",
    "cnt = 0\n",
    "for i in range(nrow):\n",
    "    for j in range(ncol):\n",
    "        cnt += dfs(i, j)\n",
    "#         print(array[i])\n",
    "cnt"
   ]
  },
  {
   "cell_type": "code",
   "execution_count": 208,
   "metadata": {},
   "outputs": [],
   "source": [
    "# 미로 탈출\n",
    "input1 = '''5 6\n",
    "101010\n",
    "111111\n",
    "000001\n",
    "111111\n",
    "111111'''"
   ]
  },
  {
   "cell_type": "code",
   "execution_count": 209,
   "metadata": {},
   "outputs": [
    {
     "name": "stdout",
     "output_type": "stream",
     "text": [
      "10\n"
     ]
    }
   ],
   "source": [
    "from collections import deque\n",
    "\n",
    "n, m = list(map(int, input1.split()[:2]))\n",
    "graph = [list(map(int, row)) for row in input1.split('\\n')[1:]]\n",
    "visited = [[0] * m for _ in range(n)]\n",
    "\n",
    "q = deque()\n",
    "q.append((0, 0))\n",
    "visited[0][0] = True\n",
    "\n",
    "while q:\n",
    "    x, y = q.popleft()\n",
    "    drc = [(x - 1, y), (x + 1, y), (x, y - 1), (x, y + 1)]\n",
    "    for nx, ny in drc:\n",
    "        if nx < 0 or nx >= n or ny < 0 or ny >= m:\n",
    "            continue\n",
    "        if visited[nx][ny] or graph[nx][ny] == 0:\n",
    "            continue\n",
    "        visited[nx][ny] = True\n",
    "        graph[nx][ny] = graph[x][y] + 1\n",
    "        q.append((nx, ny))\n",
    "        \n",
    "print(graph[n - 1][m - 1])"
   ]
  },
  {
   "cell_type": "code",
   "execution_count": 218,
   "metadata": {},
   "outputs": [],
   "source": [
    "# 위에서 아래로\n",
    "\n",
    "sys.stdin = StringIO('3 15 27 12')\n",
    "input_array = sys.stdin.readline()\n",
    "\n",
    "n = input_array[0]\n",
    "array= list(map(int, input_array[1:].split()))\n",
    "\n",
    "mini = min(array)\n",
    "maxi = max(array)\n",
    "\n",
    "table = [0] * (maxi - mini + 1)\n",
    "\n",
    "for i in array:\n",
    "    table[i - mini] += 1\n",
    "    \n",
    "for i, j in enumerate(table):\n",
    "    for _ in range(j):\n",
    "        print(i + mini, end=' ')"
   ]
  },
  {
   "cell_type": "code",
   "execution_count": 234,
   "metadata": {},
   "outputs": [
    {
     "data": {
      "text/plain": [
       "[('이순신', 77), ('홍길동', 95)]"
      ]
     },
     "execution_count": 234,
     "metadata": {},
     "output_type": "execute_result"
    }
   ],
   "source": [
    "# 성적이 낮은 순서로 학생 출력하기\n",
    "\n",
    "sys.stdin = StringIO('2')\n",
    "n = sys.stdin.readline()\n",
    "\n",
    "array = []\n",
    "sys.stdin = StringIO('홍길동 95')\n",
    "array.append(sys.stdin.readline())\n",
    "sys.stdin = StringIO('이순신 77')\n",
    "array.append(sys.stdin.readline())\n",
    "\n",
    "array = [item.split() for item in array]\n",
    "array = list(map(lambda x : (x[0], int(x[1])), array))\n",
    "\n",
    "array.sort(key=lambda x : x[1])\n",
    "array"
   ]
  },
  {
   "cell_type": "code",
   "execution_count": 260,
   "metadata": {},
   "outputs": [],
   "source": [
    "# 두 배열의 원소 교체\n",
    "sys.stdin = StringIO('5 3')\n",
    "n, k = list(map(int, sys.stdin.readline().split()))\n",
    "sys.stdin = StringIO('1 2 5 4 3')\n",
    "tgt_array = list(map(int, sys.stdin.readline().strip().split()))\n",
    "sys.stdin = StringIO('5 5 6 6 5')\n",
    "src_array = list(map(int, sys.stdin.readline().strip().split()))\n",
    "\n",
    "def insert_sort(array, reverse=False):\n",
    "    for i in range(1, n):\n",
    "        for j in range(i, 0, -1):\n",
    "            if reverse:\n",
    "                if array[j] < array[j - 1]:\n",
    "                    continue\n",
    "                else:\n",
    "                    array[j], array[j - 1] = array[j - 1], array[j]\n",
    "            else:\n",
    "                if array[j] > array[j - 1]:\n",
    "                    continue\n",
    "                else:\n",
    "                    array[j], array[j - 1] = array[j - 1], array[j]\n",
    "    return array\n",
    "            \n",
    "tgt = insert_sort(tgt_array)\n",
    "src = insert_sort(src_array, reverse=True)\n",
    "\n",
    "for i in range(k):\n",
    "    tgt[i], src[i] = src[i], tgt[i]\n",
    "    \n",
    "sum(tgt)"
   ]
  },
  {
   "cell_type": "code",
   "execution_count": 1,
   "metadata": {},
   "outputs": [],
   "source": [
    "# 부품 찾기\n",
    "input1 = '''5\n",
    "8 3 7 9 2\n",
    "3\n",
    "5 7 9'''"
   ]
  },
  {
   "cell_type": "code",
   "execution_count": 63,
   "metadata": {},
   "outputs": [],
   "source": [
    "n = int(input1.split()[0])\n",
    "src = list(map(int, input1.split('\\n')[1].split()))\n",
    "m = int(input1.split()[2])\n",
    "tgt = list(map(int, input1.split('\\n')[3].split()))"
   ]
  },
  {
   "cell_type": "code",
   "execution_count": 82,
   "metadata": {},
   "outputs": [
    {
     "name": "stdout",
     "output_type": "stream",
     "text": [
      "no yes yes "
     ]
    }
   ],
   "source": [
    "src.sort()\n",
    "\n",
    "def binary_search(src, tgt, start, end, using_loop=True):\n",
    "    if using_loop:\n",
    "        while start <= end:\n",
    "            mid = (start + end) // 2\n",
    "            if src[mid] == tgt:\n",
    "                return 'yes'\n",
    "            elif src[mid] < tgt:\n",
    "                start = mid + 1\n",
    "            elif src[mid] > tgt:\n",
    "                end = mid - 1\n",
    "        return 'no'\n",
    "    else:\n",
    "        if start > end:\n",
    "            return 'no'\n",
    "        mid = (start + end) // 2\n",
    "\n",
    "        if src[mid] == tgt:\n",
    "            return 'yes'\n",
    "        elif src[mid] < tgt:\n",
    "            return binary_search(src, tgt, mid + 1, end)\n",
    "        elif src[mid] > tgt:\n",
    "            return binary_search(src, tgt, start, mid - 1)\n",
    "        return 'no'\n",
    "\n",
    "for t in tgt:\n",
    "    print(binary_search(src, t, 0, n - 1, using_loop=False), end=' ')"
   ]
  },
  {
   "cell_type": "code",
   "execution_count": 83,
   "metadata": {},
   "outputs": [],
   "source": [
    "# 떡볶이 떡 만들기\n",
    "input1 = '''4 6\n",
    "19 15 10 17'''"
   ]
  },
  {
   "cell_type": "code",
   "execution_count": 96,
   "metadata": {},
   "outputs": [
    {
     "data": {
      "text/plain": [
       "15"
      ]
     },
     "execution_count": 96,
     "metadata": {},
     "output_type": "execute_result"
    }
   ],
   "source": [
    "n, m = list(map(int, input1.split('\\n')[0].split()))\n",
    "array = list(map(int, input1.split('\\n')[1].split()))\n",
    "array.sort()\n",
    "\n",
    "def binary_search(array, target, start, end):\n",
    "    if start > end:\n",
    "        return False\n",
    "    mid = (start + end) // 2\n",
    "    length = sum([i - mid for i in array if i > mid])\n",
    "    if length == target:\n",
    "        return mid\n",
    "    elif length > target:\n",
    "        return binary_search(array, target, mid + 1, end)\n",
    "    else:\n",
    "        return binary_search(array, targe              t, start, mid - 1)\n",
    "\n",
    "start = 0\n",
    "end = array[-1]\n",
    "binary_search(array, m, start, end)"
   ]
  },
  {
   "cell_type": "code",
   "execution_count": 114,
   "metadata": {},
   "outputs": [
    {
     "name": "stdout",
     "output_type": "stream",
     "text": [
      "3\n"
     ]
    }
   ],
   "source": [
    "# 1로 만들기\n",
    "input1 = '26'\n",
    "x = int(input1) # 3\n",
    "\n",
    "# 타겟 : 최소 연산\n",
    "# 점화식 : a_i = min(a_i/2 + 1. a_i/3 + 1, a_i/5 + 1, a_i-1 + 1)\n",
    "\n",
    "d = [0] * 30001\n",
    "    \n",
    "for i in range(3, x + 1):\n",
    "    d[i] = d[i - 1] + 1\n",
    "    if i % 2 == 0:\n",
    "        d[i] = min(d[i // 2] + 1, d[i - 1] + 1)\n",
    "    if i % 3 == 0:\n",
    "        d[i] = min(d[i // 3] + 1, d[i - 1] + 1)\n",
    "    if i % 5 == 0:\n",
    "        d[i] = min(d[i // 5] + 1, d[i - 1] + 1)\n",
    "print(d[x])"
   ]
  },
  {
   "cell_type": "code",
   "execution_count": 119,
   "metadata": {},
   "outputs": [
    {
     "name": "stdout",
     "output_type": "stream",
     "text": [
      "8\n"
     ]
    }
   ],
   "source": [
    "# 개미전사\n",
    "input1 = '''4\n",
    "1 3 1 5'''\n",
    "n = int(input1.split()[0])\n",
    "array = list(map(int, input1.split('\\n')[1].split()))\n",
    "# 타겟 : 최대 식량\n",
    "# 점화식 : a_i = max(a_i-1, k + a_i-2)\n",
    "\n",
    "d = [0] * 101\n",
    "d[1] = array[1]\n",
    "d[2] = max(array[1], array[2])\n",
    "for i in range(3, n + 1):\n",
    "    d[i] = max(d[i - 1], array[i - 1] + d[i - 2])\n",
    "    \n",
    "print(d[n])"
   ]
  },
  {
   "cell_type": "code",
   "execution_count": 121,
   "metadata": {},
   "outputs": [
    {
     "name": "stdout",
     "output_type": "stream",
     "text": [
      "5\n"
     ]
    }
   ],
   "source": [
    "# 바닥 공사\n",
    "input1 = '3'\n",
    "n = int(input1)\n",
    "\n",
    "# 타겟 : 경우의 수\n",
    "# 점화식 : a_n = 2 * a_n-2 + 1 * a_n-1\n",
    "\n",
    "d = [0] * 1001\n",
    "d[1] = 1\n",
    "d[2] = 3\n",
    "for i in range(3, n + 1):\n",
    "    d[n] = 2 * d[n - 2] + d[n - 1]\n",
    "    \n",
    "print(d[n] % 796796)"
   ]
  },
  {
   "cell_type": "code",
   "execution_count": 151,
   "metadata": {},
   "outputs": [
    {
     "name": "stdout",
     "output_type": "stream",
     "text": [
      "-1\n"
     ]
    }
   ],
   "source": [
    "# 효율적인 화폐 구성\n",
    "\n",
    "input1 = '''2 15\n",
    "2\n",
    "3'''\n",
    "input2 = '''3 4\n",
    "3\n",
    "5\n",
    "7'''\n",
    "\n",
    "def solution(input1):\n",
    "    INF = int(1e9)\n",
    "\n",
    "    n, m = list(map(int, input1.split('\\n')[0].split()))\n",
    "    coins = list(map(int, input1.split('\\n')[1:]))\n",
    "    coins.sort()\n",
    "\n",
    "    # 타겟: 최소 화폐 개수\n",
    "    # 점화식 : a_i = min(a_i-coin(1) + 1, a_i-coin(2) + 1, ..., a_i)\n",
    "\n",
    "    d = [INF] * (m + 1)\n",
    "    for coin in coins:\n",
    "        for i in range(1, (m + 1) // coin):\n",
    "            d[i * coin] = i\n",
    "\n",
    "    for i in range(coins[0], m + 1):\n",
    "        for coin in coins:\n",
    "            d[i] = min(d[i - coin] + 1, d[i])\n",
    "    print(d[m] if d[m] != INF else -1)\n",
    "solution(input2)"
   ]
  },
  {
   "cell_type": "code",
   "execution_count": 30,
   "metadata": {},
   "outputs": [
    {
     "name": "stdout",
     "output_type": "stream",
     "text": [
      "3\n",
      "-1\n"
     ]
    }
   ],
   "source": [
    "# 미래 도시\n",
    "\n",
    "INPUT1 = '''5 7\n",
    "1 2\n",
    "1 3\n",
    "1 4\n",
    "2 4\n",
    "3 4\n",
    "3 5\n",
    "4 5\n",
    "4 5''' # 3\n",
    "INPUT2 = '''4 2\n",
    "1 3\n",
    "2 4\n",
    "3 4''' # -1\n",
    "\n",
    "def solution(INPUT1):\n",
    "    # n : 노드 개수, m : 간선 개수\n",
    "    n, m = list(map(int, INPUT1.split('\\n')[0].split()))\n",
    "    array = [list(map(int, row.split())) for row in INPUT1.split('\\n')[1:-1]]\n",
    "    x, k = list(map(int, INPUT1.split('\\n')[-1].split()))\n",
    "\n",
    "    INF = int(1e9)\n",
    "\n",
    "    graph = [[INF] * (n + 1) for _ in range(n + 1)]\n",
    "\n",
    "    for i in range(1, n + 1):\n",
    "        graph[i][i] = 0\n",
    "\n",
    "    for a, b in array:\n",
    "        graph[a][b] = 1\n",
    "        graph[b][a] = 1\n",
    "\n",
    "    for k in range(1, n + 1):\n",
    "        for a in range(1, n + 1):\n",
    "            for b in range(1, n + 1):\n",
    "                graph[a][b] = min(graph[a][b], graph[a][k] + graph[k][b])\n",
    "    if graph[1][k] == INF or graph[k][x] == INF:\n",
    "        result = -1\n",
    "    else:\n",
    "        result = graph[1][k] + graph[k][x]    \n",
    "    \n",
    "    print(result)\n",
    "solution(INPUT1)\n",
    "solution(INPUT2)"
   ]
  },
  {
   "cell_type": "code",
   "execution_count": 61,
   "metadata": {},
   "outputs": [],
   "source": [
    "# 전보\n",
    "import heapq\n",
    "\n",
    "INPUT = '''3 2 1\n",
    "1 2 4\n",
    "1 3 2'''\n",
    "\n",
    "n, m, c = list(map(int, INPUT.split('\\n')[0].split()))\n",
    "array = [list(map(int, row.split())) for row in INPUT.split('\\n')[1:]]\n",
    "\n",
    "graph = [[] for _ in range(n + 1)]\n",
    "distance = [INF] * (n + 1)\n",
    "\n",
    "for x, y, z in array:\n",
    "    graph[x].append((y, z))\n",
    "    \n",
    "distance[c] = 0\n",
    "q = []\n",
    "heapq.heappush(q, (0, c))\n",
    "\n",
    "while q:\n",
    "    dist, now = heapq.heappop(q)\n",
    "    if distance[now] < dist:\n",
    "        continue\n",
    "    for i in graph[now]:\n",
    "        cost = dist + i[1]\n",
    "        if cost < distance[i[0]]:\n",
    "            distance[i[0]] = cost\n",
    "            heapq.heappush(q, (cost, i[0]))\n",
    "            \n",
    "max_dist = 0\n",
    "cnt = 0\n",
    "for i in distance:\n",
    "    if i != 0 and i != INF:\n",
    "        cnt += 1\n",
    "        if max_dist < i:\n",
    "            max_dist = i\n",
    "print(cnt, max_dist)"
   ]
  },
  {
   "cell_type": "code",
   "execution_count": 79,
   "metadata": {},
   "outputs": [
    {
     "name": "stdout",
     "output_type": "stream",
     "text": [
      "NO\n",
      "NO\n",
      "YES\n"
     ]
    }
   ],
   "source": [
    "# 팀 결성\n",
    "\n",
    "INPUT = '''7 8\n",
    "0 1 3\n",
    "1 1 7\n",
    "0 7 6\n",
    "1 7 1\n",
    "0 3 7\n",
    "0 4 2\n",
    "0 1 1\n",
    "1 1 1'''\n",
    "\n",
    "n, m = list(map(int, INPUT.split('\\n')[0].split()))\n",
    "array = [list(map(int, row.split())) for row in INPUT.split('\\n')[1:]]\n",
    "\n",
    "def find_parent(parent, x):\n",
    "    if parent[x] != x:\n",
    "        parent[x] = find_parent(parent, parent[x])\n",
    "    return parent[x]\n",
    "\n",
    "def union_parent(parent, a, b):\n",
    "    a = find_parent(parent, a)\n",
    "    b = find_parent(parent, b)\n",
    "    if a < b:\n",
    "        parent[b] = a\n",
    "    else:\n",
    "        parent[a] = b\n",
    "        \n",
    "parent = [0] * (n + 1)\n",
    "for i in range(1, n + 1):\n",
    "    parent[i] = i\n",
    "    \n",
    "results = []        \n",
    "for a, b, c in array:\n",
    "    if a == 0:\n",
    "        union_parent(parent, b, c)\n",
    "    if a == 1:\n",
    "        b = find_parent(parent, b)\n",
    "        c = find_parent(parent, c)\n",
    "        result = 'YES' if b == c else 'NO'\n",
    "        results.append(result)\n",
    "print('\\n'.join(results))"
   ]
  },
  {
   "cell_type": "code",
   "execution_count": 154,
   "metadata": {},
   "outputs": [
    {
     "name": "stdout",
     "output_type": "stream",
     "text": [
      "8\n"
     ]
    }
   ],
   "source": [
    "# 도시 분할 계획\n",
    "INPUT = '''7 12\n",
    "1 2 3\n",
    "1 3 2\n",
    "3 2 1\n",
    "2 5 2\n",
    "3 4 4\n",
    "7 3 6\n",
    "5 1 5\n",
    "1 6 2\n",
    "6 4 1\n",
    "6 5 3\n",
    "4 5 3\n",
    "6 7 4'''\n",
    "\n",
    "from collections import deque\n",
    "\n",
    "n, m = list(map(int, INPUT.split('\\n')[0].split()))\n",
    "array = [list(map(int, row.split())) for row in INPUT.split('\\n')[1:]]\n",
    "\n",
    "def find_parent(parent, x):\n",
    "    if parent[x] != x:\n",
    "        parent[x] = find_parent(parent, parent[x])\n",
    "    return parent[x]\n",
    "\n",
    "def union_parent(parent, a, b):\n",
    "    a = find_parent(parent, a)\n",
    "    b = find_parent(parent, b)\n",
    "    if a < b:\n",
    "        parent[b] = a\n",
    "    else:\n",
    "        parent[a] = b\n",
    "# 부모테이블   \n",
    "parent = [0] * (n + 1)\n",
    "for i in range(1, n + 1):\n",
    "    parent[i] = i\n",
    "# 간선 거리 기준 오름차순으로 정렬\n",
    "edges = []\n",
    "for a, b, c in array:\n",
    "    edges.append((c, a, b))\n",
    "edges.sort()\n",
    "# 크루스칼 알고리즘 적용\n",
    "q = deque(edges)\n",
    "result = []\n",
    "while q:\n",
    "    cost, a, b = q.popleft()\n",
    "    if find_parent(parent, a) != find_parent(parent, b):\n",
    "        union_parent(parent, a, b)\n",
    "        result.append(cost)\n",
    "        \n",
    "print(sum(result) - max(result))"
   ]
  },
  {
   "cell_type": "code",
   "execution_count": 155,
   "metadata": {},
   "outputs": [
    {
     "name": "stdout",
     "output_type": "stream",
     "text": [
      "0\n",
      "10\n",
      "20\n",
      "14\n",
      "18\n",
      "17\n"
     ]
    }
   ],
   "source": [
    "# 커리큘럼\n",
    "\n",
    "INPUT = '''5\n",
    "10 -1\n",
    "10 1 -1\n",
    "4 1 -1\n",
    "4 3 1 -1\n",
    "3 3 -1'''\n",
    "\n",
    "from collections import deque\n",
    "\n",
    "n = int(INPUT.split('\\n')[0])\n",
    "array = [list(map(int, row.split()[:-1])) for row in INPUT.split('\\n')[1:]]\n",
    "\n",
    "graph = [[] for _ in range(n + 1)]\n",
    "indegree = [0] * (n + 1)\n",
    "time = [0] * (n + 1)\n",
    "\n",
    "# graph, indegree, time 초기화\n",
    "for i, v in enumerate(array):\n",
    "    time[i + 1] = v[0]\n",
    "    if len(v) > 1:\n",
    "        for j in v[1:]:\n",
    "            graph[j].append((i + 1, v[0]))\n",
    "            indegree[i + 1] += 1\n",
    "\n",
    "q = deque()\n",
    "# 진입차수가 0인 노드부터 큐에 삽입\n",
    "for i in range(n + 1):\n",
    "    if indegree[i] == 0:\n",
    "        q.append(i)\n",
    "# 위상 정렬\n",
    "while q:\n",
    "    now = q.popleft()\n",
    "    for i, t in graph[now]:\n",
    "        time[i] = time[now] + t\n",
    "        indegree[i] -= 1\n",
    "        if indegree[i] == 0:\n",
    "            q.append(i)\n",
    "\n",
    "print('\\n'.join(list(map(str, time))))"
   ]
  }
 ],
 "metadata": {
  "kernelspec": {
   "display_name": "Python 3",
   "language": "python",
   "name": "python3"
  },
  "language_info": {
   "codemirror_mode": {
    "name": "ipython",
    "version": 3
   },
   "file_extension": ".py",
   "mimetype": "text/x-python",
   "name": "python",
   "nbconvert_exporter": "python",
   "pygments_lexer": "ipython3",
   "version": "3.8.5"
  }
 },
 "nbformat": 4,
 "nbformat_minor": 4
}

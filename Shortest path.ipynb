{
 "cells": [
  {
   "cell_type": "markdown",
   "metadata": {},
   "source": [
    "# Dijkstra -> 특정 노드의 최단거리\n",
    "\n",
    "1. 출발 노드 설정\n",
    "\n",
    "2. 최단 거리 테이블 초기화\n",
    "\n",
    "3. 방문하지 않은 노드 중에서 최단 거리가 가장 짧은 노드를 선택\n",
    "\n",
    "4. 해당 노드를 거쳐 다른 노드로 가는 비용을 계산하여  최단 거리 테이블을 갱신\n",
    "\n",
    "5. 위 과정에서 3~4 반복 수행"
   ]
  },
  {
   "cell_type": "markdown",
   "metadata": {},
   "source": [
    "## 기본 구현 ->  O(N^2)"
   ]
  },
  {
   "cell_type": "code",
   "execution_count": 21,
   "metadata": {},
   "outputs": [
    {
     "name": "stdout",
     "output_type": "stream",
     "text": [
      "0 2 3 1 2 4 "
     ]
    }
   ],
   "source": [
    "import sys\n",
    "# input1 = sys.stdin.readlin()\n",
    "INF = int(1e9)\n",
    "\n",
    "# n :노드 개수, m : 간선 개수\n",
    "# n, m = map(int, input().split())\n",
    "# start = 시작 노드\n",
    "# start = int(input())\n",
    "\n",
    "input1 = '''6 11\n",
    "1\n",
    "1 2 2\n",
    "1 3 5\n",
    "1 4 1\n",
    "2 3 3\n",
    "2 4 2\n",
    "3 2 3\n",
    "3 6 5\n",
    "4 3 3\n",
    "4 5 1\n",
    "5 3 1\n",
    "5 6 2'''\n",
    "\n",
    "n, m = list(map(int, input1.split()[:2]))\n",
    "start = int(input1.split()[2])\n",
    "array = [tuple(map(int, row.split())) for row in input1.split('\\n')[2:]]\n",
    "\n",
    "graph = [[] for i in range(n + 1)]\n",
    "visited = [False] * (n + 1)\n",
    "distance = [INF] * (n + 1)\n",
    "\n",
    "for i in range(m):\n",
    "    # a에서 b로 가는 비용(거리)가 c\n",
    "    a, b, c = array[i]\n",
    "    graph[a].append((b, c))\n",
    "\n",
    "# 방문하지 않은 노드 중 최단 거리가 가장 짧은 노드를 선택\n",
    "def get_smallest_node():\n",
    "    min_value = INF\n",
    "    index = 0\n",
    "    for i in range(1, n + 1):\n",
    "        if distance[i] < min_value and not visited[i]:\n",
    "            min_value = distance[i]\n",
    "            index = i\n",
    "    return index\n",
    "\n",
    "def dijkstra(start):\n",
    "    # initialize\n",
    "    distance[start] = 0\n",
    "    visited[start] = True\n",
    "    for j in graph[start]:\n",
    "        distance[j[0]] = j[1]\n",
    "        \n",
    "    for i in range(n - 1):\n",
    "        now = get_smallest_node()\n",
    "        visited[now] = True\n",
    "        for j in graph[now]:\n",
    "            cost = distance[now] + j[1]\n",
    "            if cost < distance[j[0]]:\n",
    "                distance[j[0]] = cost\n",
    "                \n",
    "dijkstra(start)\n",
    "\n",
    "for i in range(1, n + 1):\n",
    "    if distance[i] == INF:\n",
    "        print('CANNOT BE REACHED!')\n",
    "    else:\n",
    "        print(distance[i], end=' ')"
   ]
  },
  {
   "cell_type": "markdown",
   "metadata": {},
   "source": [
    "## 개선된 알고리즘 -> O(ElogN)\n",
    "#### heap 사용 시 생성 삽입 O(logN) , list는 O(N^2)"
   ]
  },
  {
   "cell_type": "code",
   "execution_count": 80,
   "metadata": {},
   "outputs": [
    {
     "name": "stdout",
     "output_type": "stream",
     "text": [
      "0 2 3 1 2 4 "
     ]
    }
   ],
   "source": [
    "import heapq\n",
    "import sys\n",
    "\n",
    "input1 = '''6 11\n",
    "1\n",
    "1 2 2\n",
    "1 3 5\n",
    "1 4 1\n",
    "2 3 3\n",
    "2 4 2\n",
    "3 2 3\n",
    "3 6 5\n",
    "4 3 3\n",
    "4 5 1\n",
    "5 3 1\n",
    "5 6 2'''\n",
    "\n",
    "INF = int(1e9)\n",
    "\n",
    "n, m = list(map(int, input1.split()[:2]))\n",
    "start = int(input1.split()[2])\n",
    "array = [tuple(map(int, row.split())) for row in input1.split('\\n')[2:]]\n",
    "\n",
    "graph = [[] for i in range(n + 1)]\n",
    "# visited = [False] * (n + 1)\n",
    "distance = [INF] * (n + 1)\n",
    "\n",
    "for i in range(m):\n",
    "    # a에서 b로 가는 비용(거리)가 c\n",
    "    a, b, c = array[i]\n",
    "    graph[a].append((b, c))\n",
    "    \n",
    "def dijkstra(start):\n",
    "    q = []\n",
    "    heapq.heappush(q, (0, start))\n",
    "    distance[start] = 0\n",
    "    while q:\n",
    "        dist, now = heapq.heappop(q)\n",
    "        if distance[now] < dist: # 한번 처리된 노드는 최단비용을 보장\n",
    "            continue\n",
    "        for i in graph[now]: \n",
    "            cost = dist + i[1]\n",
    "            if cost < distance[i[0]]:\n",
    "                distance[i[0]] = cost\n",
    "                heapq.heappush(q, (cost, i[0]))\n",
    "                \n",
    "dijkstra(start)\n",
    "\n",
    "for i in range(1, n + 1):\n",
    "    if distance[i] == INF:\n",
    "        print('INFINITY', end=' ')\n",
    "    else:\n",
    "        print(distance[i], end=' ')"
   ]
  },
  {
   "cell_type": "markdown",
   "metadata": {},
   "source": [
    "# 플로이드 워셜 -> 모든 노드의 최단 거리"
   ]
  },
  {
   "cell_type": "code",
   "execution_count": 29,
   "metadata": {},
   "outputs": [],
   "source": [
    "input1 = '''4\n",
    "7\n",
    "1 2 4\n",
    "1 4 6\n",
    "2 1 3\n",
    "2 3 7\n",
    "3 1 5\n",
    "3 4 4\n",
    "4 3 2'''"
   ]
  },
  {
   "cell_type": "code",
   "execution_count": 50,
   "metadata": {},
   "outputs": [
    {
     "name": "stdout",
     "output_type": "stream",
     "text": [
      "0 4 8 6 \n",
      "3 0 7 9 \n",
      "5 9 0 4 \n",
      "7 11 2 0 \n"
     ]
    }
   ],
   "source": [
    "INF = int(1e9)\n",
    "\n",
    "n, m = list(map(int, input1.split()[:2]))\n",
    "array = [tuple(map(int, row.split())) for row in input1.split('\\n')[2:]]\n",
    "\n",
    "graph = [[INF] * (n + 1) for _ in range(n + 1)]\n",
    "\n",
    "# 자기 자신 거리는 0\n",
    "for a in range(1, n + 1):\n",
    "    for b in range(1, n + 1):\n",
    "        if a == b:\n",
    "            graph[a][b] = 0\n",
    "\n",
    "# graph initialize\n",
    "for i in range(m):\n",
    "    a, b, c = array[i]\n",
    "    graph[a][b] = c\n",
    "    \n",
    "# 점화식 적용\n",
    "for k in range(1, n + 1):\n",
    "    for a in range(1, n + 1):\n",
    "        if a == k:\n",
    "            continue\n",
    "        for b in range(1, n + 1):\n",
    "            if b == k:\n",
    "                continue\n",
    "            graph[a][b] = min(graph[a][b], graph[a][k] + graph[k][b])\n",
    "            \n",
    "for a in range(1, n + 1):\n",
    "    for b in range(1, n + 1):\n",
    "        if graph[a][b] == INF:\n",
    "            print('inf', end=' ')\n",
    "        else:\n",
    "            print(graph[a][b], end=' ')\n",
    "    print()"
   ]
  },
  {
   "cell_type": "markdown",
   "metadata": {},
   "source": [
    "# 미래 도시"
   ]
  },
  {
   "cell_type": "code",
   "execution_count": 85,
   "metadata": {},
   "outputs": [],
   "source": [
    "input1 = '''5 7\n",
    "1 2\n",
    "1 3\n",
    "1 4\n",
    "2 4\n",
    "3 4\n",
    "3 5\n",
    "4 5\n",
    "4 5'''\n",
    "\n",
    "input2 = '''4 2\n",
    "1 3\n",
    "2 4\n",
    "3 4'''"
   ]
  },
  {
   "cell_type": "code",
   "execution_count": 89,
   "metadata": {},
   "outputs": [
    {
     "name": "stdout",
     "output_type": "stream",
     "text": [
      "3\n",
      "-1\n"
     ]
    }
   ],
   "source": [
    "def solution(input1):\n",
    "    INF = int(1e9)\n",
    "    n, m = list(map(int, input1.split()[:2]))\n",
    "    array = [tuple(map(int, row.split())) for row in input1.split('\\n')[1:-1]]\n",
    "    array += [(b, a) for a, b in array]    \n",
    "    x, k = list(map(int, input1.split()[-2:]))\n",
    "\n",
    "\n",
    "    graph = [[INF] * (n + 1) for _ in range(n + 1)]\n",
    "\n",
    "    for a in range(n + 1):\n",
    "        for b in range(n + 1):\n",
    "            if a == b:\n",
    "                graph[a][b] = 0\n",
    "\n",
    "    for i in range(m * 2):\n",
    "        a, b = array[i]\n",
    "        graph[a][b] = 1\n",
    "\n",
    "    for k in range(1, n + 1):\n",
    "        for a in range(1, n + 1):\n",
    "            if a == k:\n",
    "                continue\n",
    "            for b in range(1, n + 1):\n",
    "                if b == k:\n",
    "                    continue\n",
    "                graph[a][b] = min(graph[a][b], graph[a][k] + graph[k][b])\n",
    "    result = graph[1][k] + graph[k][x]\n",
    "    print(result if result < INF else -1)\n",
    "    \n",
    "solution(input1)\n",
    "solution(input2)"
   ]
  },
  {
   "cell_type": "code",
   "execution_count": 114,
   "metadata": {},
   "outputs": [
    {
     "name": "stdout",
     "output_type": "stream",
     "text": [
      "3\n",
      "-1\n"
     ]
    }
   ],
   "source": [
    "def solution(input1):\n",
    "    INF = int(1e9)\n",
    "    n, m = list(map(int, input1.split()[:2]))\n",
    "    array = [tuple(map(int, row.split())) for row in input1.split('\\n')[1:-1]]\n",
    "    array += [(b, a) for a, b in array]\n",
    "    x, k = list(map(int, input1.split()[-2:]))\n",
    "\n",
    "    graph = [[] for _ in range(n + 1)]\n",
    "    distance = [INF] * (n + 1)\n",
    "\n",
    "    for i in range(m * 2):\n",
    "        a, b = array[i]\n",
    "        graph[a].append((b, 1))\n",
    "\n",
    "    def dijkstra(start):\n",
    "        q = []\n",
    "        heapq.heappush(q, (0, start))\n",
    "        distance[start] = 0\n",
    "        while q:\n",
    "            dist, now = heapq.heappop(q)\n",
    "            if distance[now] < dist:\n",
    "                continue\n",
    "            for j in graph[now]:\n",
    "                cost = distance[now] + j[1]\n",
    "                if cost < distance[j[0]]:\n",
    "                    distance[j[0]] = cost\n",
    "                    heapq.heappush(q, (cost, j[0]))\n",
    "\n",
    "    distances = []\n",
    "    for i in range(1, n + 1):\n",
    "        dijkstra(i)\n",
    "        distances.append(distance)\n",
    "        distance = [INF] * (n + 1)\n",
    "    result = distances[1 - 1][k] + distances[k - 1][x]\n",
    "    print(result if result < INF else -1)\n",
    "    \n",
    "solution(input1)\n",
    "solution(input2)"
   ]
  }
 ],
 "metadata": {
  "kernelspec": {
   "display_name": "Python 3",
   "language": "python",
   "name": "python3"
  },
  "language_info": {
   "codemirror_mode": {
    "name": "ipython",
    "version": 3
   },
   "file_extension": ".py",
   "mimetype": "text/x-python",
   "name": "python",
   "nbconvert_exporter": "python",
   "pygments_lexer": "ipython3",
   "version": "3.8.5"
  }
 },
 "nbformat": 4,
 "nbformat_minor": 4
}
